{
 "cells": [
  {
   "cell_type": "markdown",
   "id": "35a0f62f",
   "metadata": {},
   "source": [
    "# Process data"
   ]
  },
  {
   "cell_type": "code",
   "execution_count": 1,
   "id": "b811cc1e",
   "metadata": {},
   "outputs": [
    {
     "name": "stderr",
     "output_type": "stream",
     "text": [
      "C:\\Users\\Stepan\\AppData\\Local\\Temp/ipykernel_13116/3190494383.py:176: FutureWarning: Index.ravel returning ndarray is deprecated; in a future version this will return a view on self.\n",
      "  _gas_train.columns = [\"_\".join(x) for x in _gas_train.columns.ravel()]\n"
     ]
    },
    {
     "name": "stdout",
     "output_type": "stream",
     "text": [
      "Test Nas: 0\n",
      "Test Shape: (780, 98)\n",
      "Train Nas: 0\n",
      "Train Shape: (2061, 100)\n"
     ]
    },
    {
     "name": "stderr",
     "output_type": "stream",
     "text": [
      "C:\\Users\\Stepan\\AppData\\Local\\Temp/ipykernel_13116/3190494383.py:192: FutureWarning: Index.ravel returning ndarray is deprecated; in a future version this will return a view on self.\n",
      "  _gas_test.columns = [\"_\".join(x) for x in _gas_test.columns.ravel()]\n"
     ]
    }
   ],
   "source": [
    "import pandas as pd\n",
    "import os\n",
    "\n",
    "\n",
    "# Load data\n",
    "plavki_train = pd.read_csv('data/raw/plavki_train.csv', index_col='NPLV')\n",
    "plavki_test = pd.read_csv('data/raw/plavki_test.csv', index_col='NPLV')\n",
    "\n",
    "chugun_train  = pd.read_csv('data/raw/chugun_train.csv', index_col='NPLV')\n",
    "chugun_test  = pd.read_csv('data/raw/chugun_test.csv', index_col='NPLV')\n",
    "chugun_train = chugun_train.add_prefix('chugun_')\n",
    "chugun_test = chugun_test.add_prefix('chugun_')\n",
    "\n",
    "sip_train = pd.read_csv('data/raw/sip_train.csv')\n",
    "sip_test = pd.read_csv('data/raw/sip_test.csv')\n",
    "\n",
    "lom_train = pd.read_csv('data/raw/lom_train.csv')\n",
    "lom_test = pd.read_csv('data/raw/lom_test.csv')\n",
    "\n",
    "produv_train = pd.read_csv('data/raw/produv_train.csv')\n",
    "produv_test = pd.read_csv('data/raw/produv_test.csv')\n",
    "\n",
    "target_train = pd.read_csv('data/raw/target_train.csv', index_col='NPLV')\n",
    "sample_submission = pd.read_csv('data/raw/sample_submission.csv', index_col='NPLV')\n",
    "\n",
    "\n",
    "# drop many plavk\n",
    "mask = (plavki_train.index == 511135) & (plavki_train['plavka_ST_FURM'] != 46)\n",
    "plavki_train = plavki_train[~mask]\n",
    "\n",
    "\n",
    "# process lom\n",
    "lom_train = lom_train.drop(columns='NML')\n",
    "lom_test = lom_test.drop(columns='NML')\n",
    "\n",
    "lom_train = pd.pivot(lom_train, index='NPLV', columns='VDL', values='VES').fillna(0).astype(int).add_prefix('lom_VES_VLD')\n",
    "lom_test = pd.pivot(lom_test, index='NPLV', columns='VDL', values='VES').fillna(0).astype(int).add_prefix('lom_VES_VLD')\n",
    "\n",
    "lom_train['lom_components'] = lom_train.apply(lambda x: (x > 0).sum(), axis=1)\n",
    "lom_test['lom_components'] = lom_test.apply(lambda x: (x > 0).sum(), axis=1)\n",
    "\n",
    "lom_train['lom_VES_sum'] = lom_train[[x for x in lom_train.columns if x.startswith('lom_VES_VLD')]].apply(lambda x: x.sum(), axis=1)\n",
    "\n",
    "lom_test['lom_VES_sum'] = lom_test[[x for x in lom_test.columns if x.startswith('lom_VES_VLD')]].apply(lambda x: x.sum(), axis=1)\n",
    "\n",
    "## remove 1 column\n",
    "lom_train = lom_train[lom_test.columns]\n",
    "\n",
    "\n",
    "# process sip\n",
    "sip_train = sip_train.drop(columns=['NMSYP', 'DAT_OTD'])\n",
    "sip_test = sip_test.drop(columns=['NMSYP', 'DAT_OTD'])\n",
    "sip_train = sip_train.groupby(['NPLV', 'VDSYP'])['VSSYP'].sum().reset_index()\n",
    "sip_test = sip_test.groupby(['NPLV', 'VDSYP'])['VSSYP'].sum().reset_index()\n",
    "sip_train = pd.pivot(sip_train, index='NPLV', columns='VDSYP', values='VSSYP').fillna(0).astype(int).add_prefix('sip_VES_VDSYP')\n",
    "sip_test = pd.pivot(sip_test, index='NPLV', columns='VDSYP', values='VSSYP').fillna(0).astype(int).add_prefix('sip_VES_VDSYP')\n",
    "\n",
    "## Remove columns\n",
    "sip_test = sip_test[sip_train.columns]\n",
    "\n",
    "sip_train['sip_components'] = sip_train.apply(lambda x: (x > 0).sum(), axis=1)\n",
    "sip_test['sip_components'] = sip_test.apply(lambda x: (x > 0).sum(), axis=1)\n",
    "\n",
    "\n",
    "# process produv\n",
    "min_pol_train = produv_train.groupby('NPLV')['POL'].min().to_frame().add_prefix('produv_min_')\n",
    "mean_pol_train = produv_train.groupby('NPLV')['POL'].mean().to_frame().add_prefix('produv_mean_')\n",
    "max_pol_train = produv_train.groupby('NPLV')['POL'].max().to_frame().add_prefix('produv_max_')\n",
    "\n",
    "min_pol_test = produv_test.groupby('NPLV')['POL'].min().to_frame().add_prefix('produv_min_')\n",
    "mean_pol_test = produv_test.groupby('NPLV')['POL'].mean().to_frame().add_prefix('produv_mean_')\n",
    "max_pol_test = produv_test.groupby('NPLV')['POL'].max().to_frame().add_prefix('produv_max_')\n",
    "\n",
    "ras_train = produv_train.groupby('NPLV')['RAS'].sum().to_frame().add_prefix('produv_sum_')\n",
    "ras_test = produv_test.groupby('NPLV')['RAS'].sum().to_frame().add_prefix('produv_sum_')\n",
    "\n",
    "ras_train_mean = produv_train.groupby('NPLV')['RAS'].mean().to_frame().add_prefix('produv_mean_')\n",
    "ras_test_mean = produv_test.groupby('NPLV')['RAS'].mean().to_frame().add_prefix('produv_mean_')\n",
    "\n",
    "produv_train_groupped = pd.concat([max_pol_train, mean_pol_train, min_pol_train, ras_train_mean, ras_train], axis=1)\n",
    "produv_test_groupped = pd.concat([max_pol_test, mean_pol_test, min_pol_test, ras_test_mean, ras_test], axis=1)\n",
    "\n",
    "\n",
    "# Load data 2\n",
    "chronom_train = pd.read_csv('data/raw/chronom_train.csv', index_col=0, parse_dates=['VR_NACH', 'VR_KON'])\n",
    "chronom_test = pd.read_csv('data/raw/chronom_test.csv', index_col=0, parse_dates=['VR_NACH', 'VR_KON'])\n",
    "gas_train = pd.read_csv('data/raw/gas_train.csv')\n",
    "gas_test = pd.read_csv('data/raw/gas_test.csv')\n",
    "\n",
    "# process train\n",
    "chronom_povalka_start_train = chronom_train[chronom_train['NOP']=='Продувка'].groupby('NPLV')['VR_KON'].max()\n",
    "chronom_povalka_start_train.columns = ['chronom_povalka_start']\n",
    "chronom_produvka_start_train = chronom_train[chronom_train['NOP']=='Продувка'].groupby('NPLV')['VR_NACH'].min()\n",
    "chronom_produvka_start_train.columns = ['chronom_produvka_start']\n",
    "\n",
    "chronom__df_train = pd.merge(chronom_povalka_start_train,chronom_produvka_start_train, on='NPLV')\n",
    "chronom__df_train.columns = ['chronom_povalka_start', 'chronom_produvka_start']\n",
    "\n",
    "gas_train['Time'] = pd.to_datetime(gas_train['Time'])\n",
    "gas_train = gas_train.set_index(gas_train['Time'])\n",
    "\n",
    "data = []\n",
    "for n in chronom__df_train.index:\n",
    "    idx = gas_train[gas_train['NPLV']==n].index.get_loc(chronom__df_train.loc[n]['chronom_povalka_start'], method='nearest')\n",
    "    ___df = gas_train[gas_train['NPLV']==n].iloc[idx]\n",
    "    data.append([___df['NPLV'],___df['T']])\n",
    "    \n",
    "temp_gaz_train = pd.DataFrame(data, columns=['NPLV','gas_T_start_povalka'])\n",
    "\n",
    "\n",
    "# process test\n",
    "chronom_povalka_start_test = chronom_test[chronom_test['NOP']=='Продувка'].groupby('NPLV')['VR_KON'].max()\n",
    "chronom_povalka_start_test.columns = ['chronom_povalka_start']\n",
    "chronom_produvka_start_test = chronom_test[chronom_test['NOP']=='Продувка'].groupby('NPLV')['VR_NACH'].min()\n",
    "chronom_produvka_start_test.columns = ['chronom_produvka_start']\n",
    "\n",
    "chronom__df_test = pd.merge(chronom_povalka_start_test,chronom_produvka_start_test, on='NPLV')\n",
    "chronom__df_test.columns = ['chronom_povalka_start', 'chronom_produvka_start']\n",
    "\n",
    "gas_test['Time'] = pd.to_datetime(gas_test['Time'])\n",
    "gas_test = gas_test.set_index(gas_test['Time'])\n",
    "\n",
    "data = []\n",
    "for n in chronom__df_test.index:\n",
    "    idx = gas_test[gas_test['NPLV']==n].index.get_loc(chronom__df_test.loc[n]['chronom_povalka_start'], method='nearest')\n",
    "    ___df = gas_test[gas_test['NPLV']==n].iloc[idx]\n",
    "    data.append([___df['NPLV'],___df['T']])\n",
    "    \n",
    "temp_gaz_test = pd.DataFrame(data, columns=['NPLV','gas_T_start_povalka'])\n",
    "\n",
    "\n",
    "## process chronom\n",
    "chronom_train = pd.read_csv('data/raw/chronom_train.csv', index_col=0, parse_dates=['VR_NACH', 'VR_KON'])\n",
    "chronom_test = pd.read_csv('data/raw/chronom_test.csv', index_col=0, parse_dates=['VR_NACH', 'VR_KON'])\n",
    "\n",
    "chronom_train['operation_time'] = (chronom_train['VR_KON'] - chronom_train['VR_NACH']).dt.total_seconds()\n",
    "chronom_test['operation_time'] = (chronom_test['VR_KON'] - chronom_test['VR_NACH']).dt.total_seconds()\n",
    "\n",
    "chronom_train = chronom_train.groupby(['NPLV', 'NOP'])['operation_time'].mean().reset_index()\n",
    "chronom_test = chronom_test.groupby(['NPLV', 'NOP'])['operation_time'].mean().reset_index()\n",
    "\n",
    "chronom_train = pd.pivot(chronom_train, index='NPLV', columns='NOP', values='operation_time').fillna(0).astype(int)\n",
    "chronom_test = pd.pivot(chronom_test, index='NPLV', columns='NOP', values='operation_time').fillna(0).astype(int)\n",
    "\n",
    "common_columns = [x for x in chronom_test.columns if x in chronom_train.columns]\n",
    "\n",
    "chronom_train = chronom_train[common_columns]\n",
    "chronom_test = chronom_test[common_columns]\n",
    "\n",
    "chronom_train = chronom_train.add_prefix('chronom_time_')\n",
    "chronom_test = chronom_test.add_prefix('chronom_time_')\n",
    "\n",
    "\n",
    "# process gas\n",
    "\n",
    "gas_train = pd.read_csv('data/raw/gas_train.csv')\n",
    "gas_test = pd.read_csv('data/raw/gas_test.csv')\n",
    "\n",
    "gas_train = gas_train.drop(columns='Time')\n",
    "gas_test = gas_test.drop(columns='Time')\n",
    "\n",
    "_gas_train = gas_train.groupby(['NPLV']).agg(\n",
    "    {\n",
    "        'V':['mean', 'sum'],\n",
    "        'T':['mean','sum','max'],\n",
    "        'O2':['mean', 'sum'],\n",
    "        'N2':['mean', 'sum'],\n",
    "        'H2':['mean', 'sum'],\n",
    "        'CO2':['mean', 'sum'],\n",
    "        'CO':['mean', 'sum'],\n",
    "        'AR':['mean', 'sum'],\n",
    "        'T фурмы 1':['mean', 'sum'],\n",
    "        'T фурмы 2':['mean', 'sum'],\n",
    "        'O2_pressure':['mean', 'sum'],\n",
    "    })\n",
    "_gas_train.columns = [\"_\".join(x) for x in _gas_train.columns.ravel()]\n",
    "\n",
    "_gas_test = gas_test.groupby(['NPLV']).agg(\n",
    "    {\n",
    "        'V':['mean', 'sum'],\n",
    "        'T':['mean','sum','max'],\n",
    "        'O2':['mean', 'sum'],\n",
    "        'N2':['mean', 'sum'],\n",
    "        'H2':['mean', 'sum'],\n",
    "        'CO2':['mean', 'sum'],\n",
    "        'CO':['mean', 'sum'],\n",
    "        'AR':['mean', 'sum'],\n",
    "        'T фурмы 1':['mean', 'sum'],\n",
    "        'T фурмы 2':['mean', 'sum'],\n",
    "        'O2_pressure':['mean', 'sum'],\n",
    "    })\n",
    "_gas_test.columns = [\"_\".join(x) for x in _gas_test.columns.ravel()]\n",
    "\n",
    "\n",
    "gas_train = _gas_train.add_prefix('gas_')\n",
    "gas_test = _gas_test.add_prefix('gas_')\n",
    "\n",
    "\n",
    "\n",
    "# Merge\n",
    "train = pd.merge(target_train, chugun_train, left_index=True, right_index=True, how='outer')\n",
    "train = pd.merge(train, plavki_train, left_index=True, right_index=True, how='outer')\n",
    "train = pd.merge(train, lom_train, left_index=True, right_index=True, how='outer')\n",
    "train = pd.merge(train, sip_train, left_index=True, right_index=True, how='outer')\n",
    "train = pd.merge(train, produv_train_groupped, left_index=True, right_index=True, how='outer')\n",
    "train = pd.merge(train, gas_train, left_index=True, right_index=True, how='outer')\n",
    "train = pd.merge(train, chronom_train, left_index=True, right_index=True, how='outer')\n",
    "\n",
    "train = pd.merge(train, temp_gaz_train.set_index('NPLV'), left_index=True, right_index=True, how='outer')\n",
    "\n",
    "test = pd.merge(sample_submission, chugun_test, left_index=True, right_index=True, how='outer')\n",
    "test = pd.merge(test, plavki_test, left_index=True, right_index=True, how='outer')\n",
    "test = pd.merge(test, lom_test, left_index=True, right_index=True, how='outer')\n",
    "test = pd.merge(test, sip_test, left_index=True, right_index=True, how='outer')\n",
    "test = pd.merge(test, produv_test_groupped, left_index=True, right_index=True, how='outer')\n",
    "test = pd.merge(test, gas_test, left_index=True, right_index=True, how='outer')\n",
    "test = pd.merge(test, chronom_test, left_index=True, right_index=True, how='outer')\n",
    "\n",
    "test = pd.merge(test, temp_gaz_test.set_index('NPLV'), left_index=True, right_index=True, how='outer')\n",
    "\n",
    "print(\"Test Nas:\", test.isna().sum().sum())\n",
    "print(\"Test Shape:\", test.shape)\n",
    "\n",
    "\n",
    "# Feature generation\n",
    "train['chugun_DATA_ZAMERA'] = pd.to_datetime(train['chugun_DATA_ZAMERA'])\n",
    "train['plavka_VR_NACH'] = pd.to_datetime(train['plavka_VR_NACH'])\n",
    "train['plavka_VR_KON'] = pd.to_datetime(train['plavka_VR_KON'])\n",
    "\n",
    "test['chugun_DATA_ZAMERA'] = pd.to_datetime(test['chugun_DATA_ZAMERA'])\n",
    "test['plavka_VR_NACH'] = pd.to_datetime(test['plavka_VR_NACH'])\n",
    "test['plavka_VR_KON'] = pd.to_datetime(test['plavka_VR_KON'])\n",
    "\n",
    "train['timer'] = (train['chugun_DATA_ZAMERA'] - train['plavka_VR_NACH']).dt.total_seconds()\n",
    "test['timer'] = (test['chugun_DATA_ZAMERA'] - test['plavka_VR_NACH']).dt.total_seconds()\n",
    "\n",
    "train['VES/O2'] = train['chugun_VES'] / train['gas_O2_sum']\n",
    "test['VES/O2'] = test['chugun_VES'] / test['gas_O2_sum']\n",
    "\n",
    "\n",
    "train = train.dropna()\n",
    "\n",
    "train.to_csv('data/processed/train_final.csv')\n",
    "test.to_csv('data/processed/test_final.csv')\n",
    "\n",
    "print(\"Train Nas:\", train.isna().sum().sum())\n",
    "print(\"Train Shape:\", train.shape)"
   ]
  },
  {
   "cell_type": "markdown",
   "id": "3260dc6c",
   "metadata": {},
   "source": [
    "# Библиотеки"
   ]
  },
  {
   "cell_type": "code",
   "execution_count": 2,
   "id": "afdce6e9",
   "metadata": {},
   "outputs": [],
   "source": [
    "import sys\n",
    "import random\n",
    "import numpy as np\n",
    "import pandas as pd\n",
    "import warnings\n",
    "from pandas.api.types import is_numeric_dtype\n",
    "from catboost import CatBoostRegressor, Pool\n",
    "from IPython.display import display, Markdown\n",
    "from sklearn.preprocessing import PowerTransformer, QuantileTransformer\n",
    "\n",
    "warnings.filterwarnings('ignore')"
   ]
  },
  {
   "cell_type": "code",
   "execution_count": 3,
   "id": "767d62e1",
   "metadata": {},
   "outputs": [],
   "source": [
    "# Fix seeds\n",
    "\n",
    "# Set a seed value\n",
    "seed_value= 12321 \n",
    "# 1. Set `PYTHONHASHSEED` environment variable at a fixed value\n",
    "import os\n",
    "os.environ['PYTHONHASHSEED']=str(seed_value)\n",
    "# 2. Set `python` built-in pseudo-random generator at a fixed value\n",
    "import random\n",
    "random.seed(seed_value)\n",
    "# 3. Set `numpy` pseudo-random generator at a fixed value\n",
    "import numpy as np\n",
    "np.random.seed(seed_value)"
   ]
  },
  {
   "cell_type": "markdown",
   "id": "usual-dollar",
   "metadata": {},
   "source": [
    "# Загрузка данных"
   ]
  },
  {
   "cell_type": "code",
   "execution_count": 4,
   "id": "ef497004",
   "metadata": {},
   "outputs": [
    {
     "name": "stdout",
     "output_type": "stream",
     "text": [
      "Train: (2061, 101)\n",
      "Test: (780, 101) \n",
      "\n",
      "Wall time: 56 ms\n"
     ]
    }
   ],
   "source": [
    "%%time\n",
    "train = pd.read_csv('data/processed/train_final.csv', parse_dates=['chugun_DATA_ZAMERA', 'plavka_VR_NACH', 'plavka_VR_KON'])\n",
    "test = pd.read_csv('data/processed/test_final.csv', parse_dates=['chugun_DATA_ZAMERA', 'plavka_VR_NACH', 'plavka_VR_KON'])\n",
    "\n",
    "print('Train:', train.shape)\n",
    "print('Test:', test.shape, '\\n')"
   ]
  },
  {
   "cell_type": "markdown",
   "id": "718c1ec4",
   "metadata": {},
   "source": [
    "# Local validation Split"
   ]
  },
  {
   "cell_type": "code",
   "execution_count": 5,
   "id": "aa08d60d",
   "metadata": {},
   "outputs": [],
   "source": [
    "train = train.sort_values(['plavka_NMZ', 'TST', 'C', 'chronom_time_Продувка', 'gas_T_start_povalka',\n",
    "                           'gas_O2_mean',  'plavka_NAPR_ZAD'])"
   ]
  },
  {
   "cell_type": "code",
   "execution_count": 6,
   "id": "79354f53",
   "metadata": {},
   "outputs": [],
   "source": [
    "train_idx = [x for x in range(train.shape[0]) if x%5 != 2]\n",
    "val_idx = [x for x in range(train.shape[0]) if x%5 == 2] \n",
    "\n",
    "train_ = train.iloc[train_idx]\n",
    "val_ = train.iloc[val_idx]"
   ]
  },
  {
   "cell_type": "markdown",
   "id": "eee220b1",
   "metadata": {},
   "source": [
    "# Модель 1 (TST)"
   ]
  },
  {
   "cell_type": "code",
   "execution_count": 7,
   "id": "ecc376fd",
   "metadata": {},
   "outputs": [],
   "source": [
    "class TemperatureModel():\n",
    "    def __init__(self, params):\n",
    "        self.params = params\n",
    "        self.device = params['model_params']['task_type']\n",
    "        self.model_params = params['model_params']\n",
    "        self.folds = params['split_params']['folds']        \n",
    "        self.train_params = params['train_params']\n",
    "        self.gpu_params = params['gpu_params']\n",
    "        self.cpu_params = params['cpu_params']\n",
    "        self.features_params = params['features_params']\n",
    "        self.observations_params = params['observations_params'] \n",
    "        self.models = []\n",
    "        self.model_predictions = []\n",
    "        self.predictions_summary = None        \n",
    "        self.importance = []\n",
    "        \n",
    "    def fit(self, X, y):  \n",
    "        # pprint.pprint(self.params)\n",
    "        self.model_params = self.model_params | self.gpu_params if self.device == 'GPU' else \\\n",
    "            self.model_params | self.cpu_params   \n",
    "        \n",
    "        for fold in range(self.folds):\n",
    "            print(f'\\nFold: {fold + 1}')\n",
    "            self.model_params['random_state'] += 1 \n",
    "            \n",
    "            if self.folds > 1:\n",
    "                train_idx = [x for x in range(X.shape[0]) if x%self.folds != fold]\n",
    "                val_idx = [x for x in range(X.shape[0]) if x%self.folds == fold]            \n",
    "            \n",
    "                X_train = X.iloc[train_idx]\n",
    "                y_train = y.iloc[train_idx]\n",
    "            \n",
    "                X_val = X.iloc[val_idx]\n",
    "                y_val = y.iloc[val_idx] \n",
    "            else:\n",
    "                X_train = X\n",
    "                y_train = y\n",
    "\n",
    "                \n",
    "            # TODO (weight function!)\n",
    "            train_dataset = Pool(data=X_train, label=y_train, **self.features_params)                \n",
    "           \n",
    "            model = CatBoostRegressor(**self.model_params)    \n",
    "            \n",
    "            if self.folds > 1:\n",
    "                eval_dataset = Pool(data=X_val, label=y_val, **self.features_params)  \n",
    "                model.fit(train_dataset, eval_set=eval_dataset, **self.train_params)\n",
    "            else:\n",
    "                model.fit(train_dataset,  **self.train_params)\n",
    "            \n",
    "            self.models.append(model.copy())   \n",
    "\n",
    "        self._feature_importance()\n",
    "            \n",
    "        \n",
    "    def predict(self, X):        \n",
    "        self.model_predictions = []\n",
    "        for model_number in range(self.folds):\n",
    "            model = self.models[model_number]\n",
    "            self.model_predictions.append(model.predict(X))   \n",
    "            \n",
    "        self.predictions_summary = pd.DataFrame(data=np.array(self.model_predictions)).T\n",
    "        \n",
    "        self.predictions_summary['std'] = self.predictions_summary.std(axis=1)\n",
    "        self.predictions_summary['predictions'] = (self.predictions_summary[[x for x in range(self.folds)]]).median(axis=1)\n",
    "        self.predictions_summary['predictions2'] = (self.predictions_summary[[x for x in range(self.folds)]]).mean(axis=1) \n",
    "        self.predictions_summary['predictions_total'] = self.predictions_summary[['predictions', 'predictions2']].mean(axis=1)\n",
    "                    \n",
    "        return self.predictions_summary     \n",
    "            \n",
    "    def get_errors(self, X, y):   \n",
    "        preds = self.predict(X)['predictions']\n",
    "        errors = y.values - preds.values     \n",
    "        return errors\n",
    "    \n",
    "    \n",
    "    def interpretations():\n",
    "        pass\n",
    "    \n",
    "    def uncertain_objects(std_treshold=1):\n",
    "        pass    \n",
    "   \n",
    "    # New functions\n",
    "    def _feature_importance(self):        \n",
    "        \n",
    "        for model_number in range(self.folds):\n",
    "            fi_dict = list(zip(features, self.models[model_number].feature_importances_))\n",
    "            importance_df = pd.DataFrame.from_records(fi_dict).set_index(0)\n",
    "            importance_df.columns = ['importance']\n",
    "            importance_df = importance_df.sort_values('importance', ascending=False)\n",
    "            self.importance.append(importance_df) \n",
    "    \n",
    "    def save_model(self, path):\n",
    "        with open(path, 'wb') as f:\n",
    "            pickle.dump(self.models, f)\n",
    "    \n",
    "    def load_model(self, path):\n",
    "        with open(path, 'rb') as f:\n",
    "            self.models = pickle.load(f)"
   ]
  },
  {
   "cell_type": "code",
   "execution_count": 8,
   "id": "69761cb2",
   "metadata": {},
   "outputs": [
    {
     "name": "stdout",
     "output_type": "stream",
     "text": [
      "Features: 8\n"
     ]
    },
    {
     "data": {
      "text/html": [
       "<div>\n",
       "<style scoped>\n",
       "    .dataframe tbody tr th:only-of-type {\n",
       "        vertical-align: middle;\n",
       "    }\n",
       "\n",
       "    .dataframe tbody tr th {\n",
       "        vertical-align: top;\n",
       "    }\n",
       "\n",
       "    .dataframe thead th {\n",
       "        text-align: right;\n",
       "    }\n",
       "</style>\n",
       "<table border=\"1\" class=\"dataframe\">\n",
       "  <thead>\n",
       "    <tr style=\"text-align: right;\">\n",
       "      <th></th>\n",
       "      <th>plavka_NMZ</th>\n",
       "      <th>chugun_VES</th>\n",
       "      <th>gas_CO2_sum</th>\n",
       "      <th>chronom_time_Продувка</th>\n",
       "      <th>sip_VES_VDSYP408</th>\n",
       "      <th>gas_T_start_povalka</th>\n",
       "      <th>VES/O2</th>\n",
       "      <th>gas_O2_pressure_mean</th>\n",
       "    </tr>\n",
       "  </thead>\n",
       "  <tbody>\n",
       "    <tr>\n",
       "      <th>543</th>\n",
       "      <td>09Г2С</td>\n",
       "      <td>263600.0</td>\n",
       "      <td>34850.263867</td>\n",
       "      <td>1106</td>\n",
       "      <td>19940</td>\n",
       "      <td>836.458313</td>\n",
       "      <td>8.979575</td>\n",
       "      <td>15.390038</td>\n",
       "    </tr>\n",
       "    <tr>\n",
       "      <th>786</th>\n",
       "      <td>09Г2С</td>\n",
       "      <td>266000.0</td>\n",
       "      <td>28942.599034</td>\n",
       "      <td>1183</td>\n",
       "      <td>13410</td>\n",
       "      <td>704.513855</td>\n",
       "      <td>6.714977</td>\n",
       "      <td>15.369207</td>\n",
       "    </tr>\n",
       "    <tr>\n",
       "      <th>1136</th>\n",
       "      <td>09Г2С</td>\n",
       "      <td>266500.0</td>\n",
       "      <td>29945.305978</td>\n",
       "      <td>1274</td>\n",
       "      <td>11840</td>\n",
       "      <td>720.138855</td>\n",
       "      <td>8.073655</td>\n",
       "      <td>15.418046</td>\n",
       "    </tr>\n",
       "    <tr>\n",
       "      <th>1778</th>\n",
       "      <td>09Г2С</td>\n",
       "      <td>265900.0</td>\n",
       "      <td>30022.943028</td>\n",
       "      <td>1191</td>\n",
       "      <td>18980</td>\n",
       "      <td>742.708313</td>\n",
       "      <td>7.106362</td>\n",
       "      <td>15.982030</td>\n",
       "    </tr>\n",
       "    <tr>\n",
       "      <th>354</th>\n",
       "      <td>09Г2С</td>\n",
       "      <td>266200.0</td>\n",
       "      <td>32558.457053</td>\n",
       "      <td>1194</td>\n",
       "      <td>12250</td>\n",
       "      <td>718.750000</td>\n",
       "      <td>8.879554</td>\n",
       "      <td>15.027119</td>\n",
       "    </tr>\n",
       "  </tbody>\n",
       "</table>\n",
       "</div>"
      ],
      "text/plain": [
       "           plavka_NMZ  chugun_VES   gas_CO2_sum  chronom_time_Продувка  \\\n",
       "543   09Г2С              263600.0  34850.263867                   1106   \n",
       "786   09Г2С              266000.0  28942.599034                   1183   \n",
       "1136  09Г2С              266500.0  29945.305978                   1274   \n",
       "1778  09Г2С              265900.0  30022.943028                   1191   \n",
       "354   09Г2С              266200.0  32558.457053                   1194   \n",
       "\n",
       "      sip_VES_VDSYP408  gas_T_start_povalka    VES/O2  gas_O2_pressure_mean  \n",
       "543              19940           836.458313  8.979575             15.390038  \n",
       "786              13410           704.513855  6.714977             15.369207  \n",
       "1136             11840           720.138855  8.073655             15.418046  \n",
       "1778             18980           742.708313  7.106362             15.982030  \n",
       "354              12250           718.750000  8.879554             15.027119  "
      ]
     },
     "execution_count": 8,
     "metadata": {},
     "output_type": "execute_result"
    }
   ],
   "source": [
    "target = 'TST'\n",
    "\n",
    "features = ['plavka_NMZ', 'chugun_VES', 'gas_CO2_sum', 'chronom_time_Продувка',\n",
    "            'sip_VES_VDSYP408', 'gas_T_start_povalka', 'VES/O2', 'gas_O2_pressure_mean']\n",
    "\n",
    "print('Features:', len(features))\n",
    "train[features].head()"
   ]
  },
  {
   "cell_type": "code",
   "execution_count": 9,
   "id": "c1050675",
   "metadata": {},
   "outputs": [],
   "source": [
    "# Model params\n",
    "\n",
    "cat_features = ['plavka_NMZ'] \n",
    "\n",
    "split_params = {'folds': 8}\n",
    "\n",
    "model_params = {'eval_metric': 'RMSE', \n",
    "                'objective': 'RMSE', \n",
    "                'iterations':1500,\n",
    "                'learning_rate':0.05,               \n",
    "                'depth': 3, \n",
    "                'l2_leaf_reg': 50,  \n",
    "                'one_hot_max_size': 15,\n",
    "                'task_type': 'CPU',\n",
    "                'has_time': False,\n",
    "                'random_state': 20210926                \n",
    "               }\n",
    "\n",
    "train_params = {'early_stopping_rounds': 150, \n",
    "                'silent': True,\n",
    "                'plot': True               \n",
    "               }\n",
    "\n",
    "gpu_params = {'devices': '0',\n",
    "              'data_partition': 'DocParallel',\n",
    "              'max_ctr_complexity': 4,\n",
    "              'bootstrap_type': 'MVS',\n",
    "              'border_count': 128, \n",
    "              'fold_permutation_block': 0,\n",
    "              'simple_ctr':'FeatureFreq',\n",
    "              'combinations_ctr': 'FeatureFreq',      \n",
    "              'ctr_target_border_count': 1,\n",
    "              'random_strength': 0.95,\n",
    "              'gpu_ram_part': 0.95\n",
    "             }\n",
    "\n",
    "\n",
    "cpu_params = {'thread_count': 14}\n",
    "\n",
    "features_params = {'cat_features': cat_features}\n",
    "\n",
    "observations_params = {\"weight\": 'not_implemented'}\n",
    "\n",
    "params = {'split_params': split_params, \n",
    "          'model_params': model_params, \n",
    "          'train_params': train_params, \n",
    "          'gpu_params': gpu_params, \n",
    "          'cpu_params': cpu_params, \n",
    "          'features_params': features_params, \n",
    "          'observations_params': observations_params\n",
    "         }"
   ]
  },
  {
   "cell_type": "code",
   "execution_count": 10,
   "id": "fa21cf8f",
   "metadata": {
    "scrolled": true
   },
   "outputs": [
    {
     "name": "stdout",
     "output_type": "stream",
     "text": [
      "\n",
      "Fold: 1\n"
     ]
    },
    {
     "data": {
      "application/vnd.jupyter.widget-view+json": {
       "model_id": "5a00e5c1b7444176bcf204164df7b8ea",
       "version_major": 2,
       "version_minor": 0
      },
      "text/plain": [
       "MetricVisualizer(layout=Layout(align_self='stretch', height='500px'))"
      ]
     },
     "metadata": {},
     "output_type": "display_data"
    },
    {
     "name": "stdout",
     "output_type": "stream",
     "text": [
      "\n",
      "Fold: 2\n"
     ]
    },
    {
     "data": {
      "application/vnd.jupyter.widget-view+json": {
       "model_id": "1862e0820b934e6eb2b8b77bcf41e540",
       "version_major": 2,
       "version_minor": 0
      },
      "text/plain": [
       "MetricVisualizer(layout=Layout(align_self='stretch', height='500px'))"
      ]
     },
     "metadata": {},
     "output_type": "display_data"
    },
    {
     "name": "stdout",
     "output_type": "stream",
     "text": [
      "\n",
      "Fold: 3\n"
     ]
    },
    {
     "data": {
      "application/vnd.jupyter.widget-view+json": {
       "model_id": "070640e19c5a4b8b828f4f762b2970df",
       "version_major": 2,
       "version_minor": 0
      },
      "text/plain": [
       "MetricVisualizer(layout=Layout(align_self='stretch', height='500px'))"
      ]
     },
     "metadata": {},
     "output_type": "display_data"
    },
    {
     "name": "stdout",
     "output_type": "stream",
     "text": [
      "\n",
      "Fold: 4\n"
     ]
    },
    {
     "data": {
      "application/vnd.jupyter.widget-view+json": {
       "model_id": "1fe05f6bb1c349858b82ad684316b3ae",
       "version_major": 2,
       "version_minor": 0
      },
      "text/plain": [
       "MetricVisualizer(layout=Layout(align_self='stretch', height='500px'))"
      ]
     },
     "metadata": {},
     "output_type": "display_data"
    },
    {
     "name": "stdout",
     "output_type": "stream",
     "text": [
      "\n",
      "Fold: 5\n"
     ]
    },
    {
     "data": {
      "application/vnd.jupyter.widget-view+json": {
       "model_id": "5372f0df9c11401fa98f83d6b523761d",
       "version_major": 2,
       "version_minor": 0
      },
      "text/plain": [
       "MetricVisualizer(layout=Layout(align_self='stretch', height='500px'))"
      ]
     },
     "metadata": {},
     "output_type": "display_data"
    },
    {
     "name": "stdout",
     "output_type": "stream",
     "text": [
      "\n",
      "Fold: 6\n"
     ]
    },
    {
     "data": {
      "application/vnd.jupyter.widget-view+json": {
       "model_id": "32bae4795d7c4d25981a8b4c622d9615",
       "version_major": 2,
       "version_minor": 0
      },
      "text/plain": [
       "MetricVisualizer(layout=Layout(align_self='stretch', height='500px'))"
      ]
     },
     "metadata": {},
     "output_type": "display_data"
    },
    {
     "name": "stdout",
     "output_type": "stream",
     "text": [
      "\n",
      "Fold: 7\n"
     ]
    },
    {
     "data": {
      "application/vnd.jupyter.widget-view+json": {
       "model_id": "12b0385a916f4bd896f2f7d58b227bb8",
       "version_major": 2,
       "version_minor": 0
      },
      "text/plain": [
       "MetricVisualizer(layout=Layout(align_self='stretch', height='500px'))"
      ]
     },
     "metadata": {},
     "output_type": "display_data"
    },
    {
     "name": "stdout",
     "output_type": "stream",
     "text": [
      "\n",
      "Fold: 8\n"
     ]
    },
    {
     "data": {
      "application/vnd.jupyter.widget-view+json": {
       "model_id": "f4fad4c650974784a12b3becba029cf6",
       "version_major": 2,
       "version_minor": 0
      },
      "text/plain": [
       "MetricVisualizer(layout=Layout(align_self='stretch', height='500px'))"
      ]
     },
     "metadata": {},
     "output_type": "display_data"
    },
    {
     "name": "stdout",
     "output_type": "stream",
     "text": [
      "MAE: 19.1914\n",
      "Metric: predictions 0.6117\n",
      "Metric: predictions2 0.6068\n",
      "Wall time: 25.4 s\n"
     ]
    }
   ],
   "source": [
    "%%time\n",
    "ml1_original = TemperatureModel(params)\n",
    "ml1_original.fit(train_[features], train_[target])\n",
    "\n",
    "preds1_original = ml1_original.predict(val_[features])\n",
    "\n",
    "print('MAE:', np.round(((val_[target] - preds1_original['predictions'].values).abs()).mean(), 4))\n",
    "print('Metric: predictions', np.round(((val_[target] - preds1_original['predictions'].values).abs() < 20).mean(), 4))\n",
    "print('Metric: predictions2', np.round(((val_[target] - preds1_original['predictions2'].values).abs() < 20).mean(), 4))"
   ]
  },
  {
   "cell_type": "code",
   "execution_count": 11,
   "id": "38bb4904",
   "metadata": {},
   "outputs": [
    {
     "data": {
      "text/html": [
       "<div>\n",
       "<style scoped>\n",
       "    .dataframe tbody tr th:only-of-type {\n",
       "        vertical-align: middle;\n",
       "    }\n",
       "\n",
       "    .dataframe tbody tr th {\n",
       "        vertical-align: top;\n",
       "    }\n",
       "\n",
       "    .dataframe thead th {\n",
       "        text-align: right;\n",
       "    }\n",
       "</style>\n",
       "<table border=\"1\" class=\"dataframe\">\n",
       "  <thead>\n",
       "    <tr style=\"text-align: right;\">\n",
       "      <th></th>\n",
       "      <th>importance</th>\n",
       "    </tr>\n",
       "    <tr>\n",
       "      <th>0</th>\n",
       "      <th></th>\n",
       "    </tr>\n",
       "  </thead>\n",
       "  <tbody>\n",
       "    <tr>\n",
       "      <th>VES/O2</th>\n",
       "      <td>30.867514</td>\n",
       "    </tr>\n",
       "    <tr>\n",
       "      <th>chronom_time_Продувка</th>\n",
       "      <td>23.946289</td>\n",
       "    </tr>\n",
       "    <tr>\n",
       "      <th>plavka_NMZ</th>\n",
       "      <td>20.994005</td>\n",
       "    </tr>\n",
       "    <tr>\n",
       "      <th>gas_T_start_povalka</th>\n",
       "      <td>10.657231</td>\n",
       "    </tr>\n",
       "    <tr>\n",
       "      <th>gas_CO2_sum</th>\n",
       "      <td>7.009435</td>\n",
       "    </tr>\n",
       "    <tr>\n",
       "      <th>chugun_VES</th>\n",
       "      <td>3.846620</td>\n",
       "    </tr>\n",
       "    <tr>\n",
       "      <th>gas_O2_pressure_mean</th>\n",
       "      <td>1.921614</td>\n",
       "    </tr>\n",
       "    <tr>\n",
       "      <th>sip_VES_VDSYP408</th>\n",
       "      <td>0.757291</td>\n",
       "    </tr>\n",
       "  </tbody>\n",
       "</table>\n",
       "</div>"
      ],
      "text/plain": [
       "                       importance\n",
       "0                                \n",
       "VES/O2                  30.867514\n",
       "chronom_time_Продувка   23.946289\n",
       "plavka_NMZ              20.994005\n",
       "gas_T_start_povalka     10.657231\n",
       "gas_CO2_sum              7.009435\n",
       "chugun_VES               3.846620\n",
       "gas_O2_pressure_mean     1.921614\n",
       "sip_VES_VDSYP408         0.757291"
      ]
     },
     "execution_count": 11,
     "metadata": {},
     "output_type": "execute_result"
    }
   ],
   "source": [
    "ml1_original.importance[0]"
   ]
  },
  {
   "cell_type": "code",
   "execution_count": 12,
   "id": "fdb815df",
   "metadata": {
    "scrolled": true
   },
   "outputs": [
    {
     "name": "stdout",
     "output_type": "stream",
     "text": [
      "\n",
      "Fold: 1\n"
     ]
    },
    {
     "data": {
      "application/vnd.jupyter.widget-view+json": {
       "model_id": "4c08dd07b8144617b87b2d1541a7a0c1",
       "version_major": 2,
       "version_minor": 0
      },
      "text/plain": [
       "MetricVisualizer(layout=Layout(align_self='stretch', height='500px'))"
      ]
     },
     "metadata": {},
     "output_type": "display_data"
    },
    {
     "name": "stdout",
     "output_type": "stream",
     "text": [
      "\n",
      "Fold: 2\n"
     ]
    },
    {
     "data": {
      "application/vnd.jupyter.widget-view+json": {
       "model_id": "227b85ce48d7454cbf2a786433641182",
       "version_major": 2,
       "version_minor": 0
      },
      "text/plain": [
       "MetricVisualizer(layout=Layout(align_self='stretch', height='500px'))"
      ]
     },
     "metadata": {},
     "output_type": "display_data"
    },
    {
     "name": "stdout",
     "output_type": "stream",
     "text": [
      "\n",
      "Fold: 3\n"
     ]
    },
    {
     "data": {
      "application/vnd.jupyter.widget-view+json": {
       "model_id": "053b941d1deb49268e0b9cbda209700d",
       "version_major": 2,
       "version_minor": 0
      },
      "text/plain": [
       "MetricVisualizer(layout=Layout(align_self='stretch', height='500px'))"
      ]
     },
     "metadata": {},
     "output_type": "display_data"
    },
    {
     "name": "stdout",
     "output_type": "stream",
     "text": [
      "\n",
      "Fold: 4\n"
     ]
    },
    {
     "data": {
      "application/vnd.jupyter.widget-view+json": {
       "model_id": "ca5e81a9c59543228421fa2d95eb1488",
       "version_major": 2,
       "version_minor": 0
      },
      "text/plain": [
       "MetricVisualizer(layout=Layout(align_self='stretch', height='500px'))"
      ]
     },
     "metadata": {},
     "output_type": "display_data"
    },
    {
     "name": "stdout",
     "output_type": "stream",
     "text": [
      "\n",
      "Fold: 5\n"
     ]
    },
    {
     "data": {
      "application/vnd.jupyter.widget-view+json": {
       "model_id": "01b7ce88fa704b8d94e3da1b19c1bcb9",
       "version_major": 2,
       "version_minor": 0
      },
      "text/plain": [
       "MetricVisualizer(layout=Layout(align_self='stretch', height='500px'))"
      ]
     },
     "metadata": {},
     "output_type": "display_data"
    },
    {
     "name": "stdout",
     "output_type": "stream",
     "text": [
      "\n",
      "Fold: 6\n"
     ]
    },
    {
     "data": {
      "application/vnd.jupyter.widget-view+json": {
       "model_id": "d5d443b00d55410b9c3332c36560e235",
       "version_major": 2,
       "version_minor": 0
      },
      "text/plain": [
       "MetricVisualizer(layout=Layout(align_self='stretch', height='500px'))"
      ]
     },
     "metadata": {},
     "output_type": "display_data"
    },
    {
     "name": "stdout",
     "output_type": "stream",
     "text": [
      "\n",
      "Fold: 7\n"
     ]
    },
    {
     "data": {
      "application/vnd.jupyter.widget-view+json": {
       "model_id": "691eae0619d041f4b4484f5e329002e3",
       "version_major": 2,
       "version_minor": 0
      },
      "text/plain": [
       "MetricVisualizer(layout=Layout(align_self='stretch', height='500px'))"
      ]
     },
     "metadata": {},
     "output_type": "display_data"
    },
    {
     "name": "stdout",
     "output_type": "stream",
     "text": [
      "\n",
      "Fold: 8\n"
     ]
    },
    {
     "data": {
      "application/vnd.jupyter.widget-view+json": {
       "model_id": "b8f69b9c6ba54665a584a34b6df7feee",
       "version_major": 2,
       "version_minor": 0
      },
      "text/plain": [
       "MetricVisualizer(layout=Layout(align_self='stretch', height='500px'))"
      ]
     },
     "metadata": {},
     "output_type": "display_data"
    },
    {
     "name": "stdout",
     "output_type": "stream",
     "text": [
      "Wall time: 37.7 s\n"
     ]
    }
   ],
   "source": [
    "%%time\n",
    "ml1 = TemperatureModel(params)\n",
    "ml1.fit(train[features], train[target])\n",
    "\n",
    "T_preds = ml1.predict(test[features])"
   ]
  },
  {
   "cell_type": "markdown",
   "id": "45ad3a38",
   "metadata": {},
   "source": [
    "# Модель 2 (C)\n",
    "* __Примечание:__ распределение целевой переменной внутри модели преобразовывается к равномерному распределению с помощью QuantileTransformer, при прогнозировании производиться обратное преобразование"
   ]
  },
  {
   "cell_type": "code",
   "execution_count": 13,
   "id": "b54cb38e",
   "metadata": {},
   "outputs": [],
   "source": [
    "class CModel():\n",
    "    def __init__(self, params):\n",
    "        self.params = params\n",
    "        self.device = params['model_params']['task_type']\n",
    "        self.model_params = params['model_params']\n",
    "        self.folds = params['split_params']['folds']        \n",
    "        self.train_params = params['train_params']\n",
    "        self.gpu_params = params['gpu_params']\n",
    "        self.cpu_params = params['cpu_params']\n",
    "        self.features_params = params['features_params']\n",
    "        self.observations_params = params['observations_params'] \n",
    "        self.models = []\n",
    "        self.model_predictions = []\n",
    "        self.predictions_summary = None        \n",
    "        self.importance = []\n",
    "        \n",
    "    def fit(self, X, y):  \n",
    "        # pprint.pprint(self.params)\n",
    "        self.model_params = self.model_params | self.gpu_params if self.device == 'GPU' else \\\n",
    "            self.model_params | self.cpu_params   \n",
    "        \n",
    "        for fold in range(self.folds):\n",
    "            print(f'\\nFold: {fold + 1}')\n",
    "            self.model_params['random_state'] += 1 \n",
    "            \n",
    "            if self.folds > 1:\n",
    "                train_idx = [x for x in range(X.shape[0]) if x%self.folds != fold]\n",
    "                val_idx = [x for x in range(X.shape[0]) if x%self.folds == fold]            \n",
    "            \n",
    "                X_train = X.iloc[train_idx]\n",
    "                y_train = y.iloc[train_idx]\n",
    "            \n",
    "                X_val = X.iloc[val_idx]\n",
    "                y_val = y.iloc[val_idx] \n",
    "            else:\n",
    "                X_train = X\n",
    "                y_train = y\n",
    "\n",
    "                \n",
    "            # TODO (weight function!)\n",
    "            self.transformer = QuantileTransformer(n_quantiles=1000, random_state=0)\n",
    "            self.transformer.fit((y_train).values.reshape(1, -1).T)\n",
    "            \n",
    "            \n",
    "            train_dataset = Pool(data=X_train, label=self.transformer.transform(y_train.values.reshape(1, -1).T)[:,0] , \n",
    "                                 **self.features_params)                \n",
    "           \n",
    "            model = CatBoostRegressor(**self.model_params)    \n",
    "            \n",
    "            if self.folds > 1:\n",
    "                eval_dataset = Pool(data=X_val, label=self.transformer.transform(y_val.values.reshape(1, -1).T)[:,0],\n",
    "                                    **self.features_params)  \n",
    "                model.fit(train_dataset, eval_set=eval_dataset, **self.train_params)\n",
    "            else:\n",
    "                model.fit(train_dataset,  **self.train_params)\n",
    "            \n",
    "            self.models.append(model.copy())   \n",
    "\n",
    "        self._feature_importance()\n",
    "            \n",
    "        \n",
    "    def predict(self, X):        \n",
    "        self.model_predictions = []\n",
    "        for model_number in range(self.folds):\n",
    "            model = self.models[model_number]\n",
    "            self.model_predictions.append(self.transformer.inverse_transform(model.predict(X).reshape(1, -1).T)[:,0])                                     \n",
    "                                    \n",
    "        self.predictions_summary = pd.DataFrame(data=np.array(self.model_predictions)).T\n",
    "        \n",
    "        self.predictions_summary['std'] = self.predictions_summary.std(axis=1)\n",
    "        self.predictions_summary['predictions'] = (self.predictions_summary[[x for x in range(self.folds)]]).median(axis=1)\n",
    "        self.predictions_summary['predictions2'] = (self.predictions_summary[[x for x in range(self.folds)]]).mean(axis=1)  \n",
    "                    \n",
    "        return self.predictions_summary     \n",
    "            \n",
    "    def get_errors(self, X, y):   \n",
    "        preds = self.predict(X)['predictions']\n",
    "        errors = y.values - preds.values     \n",
    "        return errors\n",
    "    \n",
    "    \n",
    "    def interpretations():\n",
    "        pass\n",
    "    \n",
    "    def uncertain_objects(std_treshold=1):\n",
    "        pass    \n",
    "   \n",
    "    # New functions\n",
    "    def _feature_importance(self):        \n",
    "        \n",
    "        for model_number in range(self.folds):\n",
    "            fi_dict = list(zip(features, self.models[model_number].feature_importances_))\n",
    "            importance_df = pd.DataFrame.from_records(fi_dict).set_index(0)\n",
    "            importance_df.columns = ['importance']\n",
    "            importance_df = importance_df.sort_values('importance', ascending=False)\n",
    "            self.importance.append(importance_df) \n",
    "    \n",
    "    def save_model(self, path):\n",
    "        with open(path, 'wb') as f:\n",
    "            pickle.dump(self.models, f)\n",
    "    \n",
    "    def load_model(self, path):\n",
    "        with open(path, 'rb') as f:\n",
    "            self.models = pickle.load(f)"
   ]
  },
  {
   "cell_type": "code",
   "execution_count": 14,
   "id": "10a1d0f2",
   "metadata": {},
   "outputs": [],
   "source": [
    "train = train.sort_values(['plavka_NMZ', 'TST', 'C', 'chronom_time_Продувка',\n",
    "                           'gas_O2_mean',  'plavka_NAPR_ZAD'])"
   ]
  },
  {
   "cell_type": "code",
   "execution_count": 15,
   "id": "c76042fa",
   "metadata": {},
   "outputs": [
    {
     "name": "stdout",
     "output_type": "stream",
     "text": [
      "7\n"
     ]
    }
   ],
   "source": [
    "target = 'C'\n",
    "features = ['plavka_NMZ', 'chugun_VES', 'gas_CO2_sum', 'chronom_time_Продувка',\n",
    "            'sip_VES_VDSYP408', 'gas_T_start_povalka', 'gas_O2_pressure_mean']\n",
    "print(len(features))"
   ]
  },
  {
   "cell_type": "code",
   "execution_count": 16,
   "id": "90178271",
   "metadata": {},
   "outputs": [],
   "source": [
    "cat_features = ['plavka_NMZ']\n",
    "\n",
    "split_params = {'folds': 8}\n",
    "\n",
    "model_params = {'eval_metric': 'RMSE', \n",
    "                'objective': 'RMSE',\n",
    "                'iterations':2500,\n",
    "                'learning_rate':0.05,               \n",
    "                'depth': 3, \n",
    "                'l2_leaf_reg': 50,\n",
    "                'one_hot_max_size': 30,\n",
    "                'task_type': 'CPU',\n",
    "                'has_time': False,\n",
    "                'random_state': 20210926                \n",
    "               }\n",
    "\n",
    "train_params = {'early_stopping_rounds': 150, \n",
    "                'silent': True,\n",
    "                'plot': True               \n",
    "               }\n",
    "\n",
    "gpu_params = {'devices': '0',\n",
    "              'data_partition': 'DocParallel',\n",
    "              'max_ctr_complexity': 4,\n",
    "              'bootstrap_type': 'MVS',\n",
    "              'border_count': 128, \n",
    "              'fold_permutation_block': 0,\n",
    "              'simple_ctr':'FeatureFreq',\n",
    "              'combinations_ctr': 'FeatureFreq',      \n",
    "              'ctr_target_border_count': 1,\n",
    "              'random_strength': 0.95,\n",
    "              'gpu_ram_part': 0.95\n",
    "             }\n",
    "\n",
    "\n",
    "cpu_params = {'thread_count': 14}\n",
    "\n",
    "features_params = {'cat_features': cat_features}\n",
    "\n",
    "\n",
    "observations_params = {\"weight\": 'not_implemented'}\n",
    "\n",
    "params = {'split_params': split_params, \n",
    "          'model_params': model_params, \n",
    "          'train_params': train_params, \n",
    "          'gpu_params': gpu_params, \n",
    "          'cpu_params': cpu_params, \n",
    "          'features_params': features_params, \n",
    "          'observations_params': observations_params\n",
    "         }"
   ]
  },
  {
   "cell_type": "code",
   "execution_count": 17,
   "id": "2a393515",
   "metadata": {
    "scrolled": true
   },
   "outputs": [
    {
     "name": "stdout",
     "output_type": "stream",
     "text": [
      "\n",
      "Fold: 1\n"
     ]
    },
    {
     "data": {
      "application/vnd.jupyter.widget-view+json": {
       "model_id": "499419cd8a9d4d8180874c229d9ff051",
       "version_major": 2,
       "version_minor": 0
      },
      "text/plain": [
       "MetricVisualizer(layout=Layout(align_self='stretch', height='500px'))"
      ]
     },
     "metadata": {},
     "output_type": "display_data"
    },
    {
     "name": "stdout",
     "output_type": "stream",
     "text": [
      "\n",
      "Fold: 2\n"
     ]
    },
    {
     "data": {
      "application/vnd.jupyter.widget-view+json": {
       "model_id": "5872f5ed0dcf4d779a34dadb940ca2f7",
       "version_major": 2,
       "version_minor": 0
      },
      "text/plain": [
       "MetricVisualizer(layout=Layout(align_self='stretch', height='500px'))"
      ]
     },
     "metadata": {},
     "output_type": "display_data"
    },
    {
     "name": "stdout",
     "output_type": "stream",
     "text": [
      "\n",
      "Fold: 3\n"
     ]
    },
    {
     "data": {
      "application/vnd.jupyter.widget-view+json": {
       "model_id": "2b47d54389b040148b37e4209a4a81e5",
       "version_major": 2,
       "version_minor": 0
      },
      "text/plain": [
       "MetricVisualizer(layout=Layout(align_self='stretch', height='500px'))"
      ]
     },
     "metadata": {},
     "output_type": "display_data"
    },
    {
     "name": "stdout",
     "output_type": "stream",
     "text": [
      "\n",
      "Fold: 4\n"
     ]
    },
    {
     "data": {
      "application/vnd.jupyter.widget-view+json": {
       "model_id": "74c799f07e9941a9a7ef2282be0bbd9e",
       "version_major": 2,
       "version_minor": 0
      },
      "text/plain": [
       "MetricVisualizer(layout=Layout(align_self='stretch', height='500px'))"
      ]
     },
     "metadata": {},
     "output_type": "display_data"
    },
    {
     "name": "stdout",
     "output_type": "stream",
     "text": [
      "\n",
      "Fold: 5\n"
     ]
    },
    {
     "data": {
      "application/vnd.jupyter.widget-view+json": {
       "model_id": "1882e80207ea42afb9cf4c446cbe12d4",
       "version_major": 2,
       "version_minor": 0
      },
      "text/plain": [
       "MetricVisualizer(layout=Layout(align_self='stretch', height='500px'))"
      ]
     },
     "metadata": {},
     "output_type": "display_data"
    },
    {
     "name": "stdout",
     "output_type": "stream",
     "text": [
      "\n",
      "Fold: 6\n"
     ]
    },
    {
     "data": {
      "application/vnd.jupyter.widget-view+json": {
       "model_id": "1806f5ab1b1545b08f5e8f0c9c424d29",
       "version_major": 2,
       "version_minor": 0
      },
      "text/plain": [
       "MetricVisualizer(layout=Layout(align_self='stretch', height='500px'))"
      ]
     },
     "metadata": {},
     "output_type": "display_data"
    },
    {
     "name": "stdout",
     "output_type": "stream",
     "text": [
      "\n",
      "Fold: 7\n"
     ]
    },
    {
     "data": {
      "application/vnd.jupyter.widget-view+json": {
       "model_id": "162bc36b214d4cada2ea8a87acee9074",
       "version_major": 2,
       "version_minor": 0
      },
      "text/plain": [
       "MetricVisualizer(layout=Layout(align_self='stretch', height='500px'))"
      ]
     },
     "metadata": {},
     "output_type": "display_data"
    },
    {
     "name": "stdout",
     "output_type": "stream",
     "text": [
      "\n",
      "Fold: 8\n"
     ]
    },
    {
     "data": {
      "application/vnd.jupyter.widget-view+json": {
       "model_id": "2905a52e723c4c669839bb451ae55d52",
       "version_major": 2,
       "version_minor": 0
      },
      "text/plain": [
       "MetricVisualizer(layout=Layout(align_self='stretch', height='500px'))"
      ]
     },
     "metadata": {},
     "output_type": "display_data"
    },
    {
     "name": "stdout",
     "output_type": "stream",
     "text": [
      "Metric predictions: 0.7476\n",
      "Metric predictions2: 0.7451\n",
      "Wall time: 36.9 s\n"
     ]
    }
   ],
   "source": [
    "%%time\n",
    "ml2_quantile = CModel(params)\n",
    "ml2_quantile.fit(train_[features], train_[target])\n",
    "\n",
    "preds2_quantile = ml2_quantile.predict(val_[features])\n",
    "print('Metric predictions:', np.round(((val_[target] - preds2_quantile['predictions'].values).abs() < 0.02).mean(), 4))\n",
    "print('Metric predictions2:', np.round(((val_[target] - preds2_quantile['predictions2'].values).abs() < 0.02).mean(), 4))"
   ]
  },
  {
   "cell_type": "code",
   "execution_count": 18,
   "id": "aab2f9d5",
   "metadata": {},
   "outputs": [
    {
     "data": {
      "text/html": [
       "<div>\n",
       "<style scoped>\n",
       "    .dataframe tbody tr th:only-of-type {\n",
       "        vertical-align: middle;\n",
       "    }\n",
       "\n",
       "    .dataframe tbody tr th {\n",
       "        vertical-align: top;\n",
       "    }\n",
       "\n",
       "    .dataframe thead th {\n",
       "        text-align: right;\n",
       "    }\n",
       "</style>\n",
       "<table border=\"1\" class=\"dataframe\">\n",
       "  <thead>\n",
       "    <tr style=\"text-align: right;\">\n",
       "      <th></th>\n",
       "      <th>importance</th>\n",
       "    </tr>\n",
       "    <tr>\n",
       "      <th>0</th>\n",
       "      <th></th>\n",
       "    </tr>\n",
       "  </thead>\n",
       "  <tbody>\n",
       "    <tr>\n",
       "      <th>gas_T_start_povalka</th>\n",
       "      <td>52.511669</td>\n",
       "    </tr>\n",
       "    <tr>\n",
       "      <th>sip_VES_VDSYP408</th>\n",
       "      <td>13.470672</td>\n",
       "    </tr>\n",
       "    <tr>\n",
       "      <th>gas_CO2_sum</th>\n",
       "      <td>12.901034</td>\n",
       "    </tr>\n",
       "    <tr>\n",
       "      <th>chronom_time_Продувка</th>\n",
       "      <td>7.856676</td>\n",
       "    </tr>\n",
       "    <tr>\n",
       "      <th>plavka_NMZ</th>\n",
       "      <td>5.825459</td>\n",
       "    </tr>\n",
       "    <tr>\n",
       "      <th>chugun_VES</th>\n",
       "      <td>4.036281</td>\n",
       "    </tr>\n",
       "    <tr>\n",
       "      <th>gas_O2_pressure_mean</th>\n",
       "      <td>3.398208</td>\n",
       "    </tr>\n",
       "  </tbody>\n",
       "</table>\n",
       "</div>"
      ],
      "text/plain": [
       "                       importance\n",
       "0                                \n",
       "gas_T_start_povalka     52.511669\n",
       "sip_VES_VDSYP408        13.470672\n",
       "gas_CO2_sum             12.901034\n",
       "chronom_time_Продувка    7.856676\n",
       "plavka_NMZ               5.825459\n",
       "chugun_VES               4.036281\n",
       "gas_O2_pressure_mean     3.398208"
      ]
     },
     "execution_count": 18,
     "metadata": {},
     "output_type": "execute_result"
    }
   ],
   "source": [
    "ml2_quantile.importance[0]"
   ]
  },
  {
   "cell_type": "markdown",
   "id": "d3cc18ea",
   "metadata": {},
   "source": [
    "# Submit"
   ]
  },
  {
   "cell_type": "code",
   "execution_count": 21,
   "id": "9521d502",
   "metadata": {
    "scrolled": false
   },
   "outputs": [
    {
     "name": "stdout",
     "output_type": "stream",
     "text": [
      "\n",
      "Fold: 1\n"
     ]
    },
    {
     "data": {
      "application/vnd.jupyter.widget-view+json": {
       "model_id": "2a56bce58c7347318b14485898757982",
       "version_major": 2,
       "version_minor": 0
      },
      "text/plain": [
       "MetricVisualizer(layout=Layout(align_self='stretch', height='500px'))"
      ]
     },
     "metadata": {},
     "output_type": "display_data"
    },
    {
     "name": "stdout",
     "output_type": "stream",
     "text": [
      "\n",
      "Fold: 2\n"
     ]
    },
    {
     "data": {
      "application/vnd.jupyter.widget-view+json": {
       "model_id": "6198b2cce03c4fc48c0e0423aacc4c4e",
       "version_major": 2,
       "version_minor": 0
      },
      "text/plain": [
       "MetricVisualizer(layout=Layout(align_self='stretch', height='500px'))"
      ]
     },
     "metadata": {},
     "output_type": "display_data"
    },
    {
     "name": "stdout",
     "output_type": "stream",
     "text": [
      "\n",
      "Fold: 3\n"
     ]
    },
    {
     "data": {
      "application/vnd.jupyter.widget-view+json": {
       "model_id": "22e936d267ca47f997b3c94c5979c385",
       "version_major": 2,
       "version_minor": 0
      },
      "text/plain": [
       "MetricVisualizer(layout=Layout(align_self='stretch', height='500px'))"
      ]
     },
     "metadata": {},
     "output_type": "display_data"
    },
    {
     "name": "stdout",
     "output_type": "stream",
     "text": [
      "\n",
      "Fold: 4\n"
     ]
    },
    {
     "data": {
      "application/vnd.jupyter.widget-view+json": {
       "model_id": "4b6131abb30741009e0a4b8b32132db7",
       "version_major": 2,
       "version_minor": 0
      },
      "text/plain": [
       "MetricVisualizer(layout=Layout(align_self='stretch', height='500px'))"
      ]
     },
     "metadata": {},
     "output_type": "display_data"
    },
    {
     "name": "stdout",
     "output_type": "stream",
     "text": [
      "\n",
      "Fold: 5\n"
     ]
    },
    {
     "data": {
      "application/vnd.jupyter.widget-view+json": {
       "model_id": "9eab6292136a47e5baeb53e24245634f",
       "version_major": 2,
       "version_minor": 0
      },
      "text/plain": [
       "MetricVisualizer(layout=Layout(align_self='stretch', height='500px'))"
      ]
     },
     "metadata": {},
     "output_type": "display_data"
    },
    {
     "name": "stdout",
     "output_type": "stream",
     "text": [
      "\n",
      "Fold: 6\n"
     ]
    },
    {
     "data": {
      "application/vnd.jupyter.widget-view+json": {
       "model_id": "9772b6ebdf2b440baecdc84664811fb5",
       "version_major": 2,
       "version_minor": 0
      },
      "text/plain": [
       "MetricVisualizer(layout=Layout(align_self='stretch', height='500px'))"
      ]
     },
     "metadata": {},
     "output_type": "display_data"
    },
    {
     "name": "stdout",
     "output_type": "stream",
     "text": [
      "\n",
      "Fold: 7\n"
     ]
    },
    {
     "data": {
      "application/vnd.jupyter.widget-view+json": {
       "model_id": "d25be3e2e1814cada500f99b58c4b304",
       "version_major": 2,
       "version_minor": 0
      },
      "text/plain": [
       "MetricVisualizer(layout=Layout(align_self='stretch', height='500px'))"
      ]
     },
     "metadata": {},
     "output_type": "display_data"
    },
    {
     "name": "stdout",
     "output_type": "stream",
     "text": [
      "\n",
      "Fold: 8\n"
     ]
    },
    {
     "data": {
      "application/vnd.jupyter.widget-view+json": {
       "model_id": "ce8c2b5621424e6e904986407f07622c",
       "version_major": 2,
       "version_minor": 0
      },
      "text/plain": [
       "MetricVisualizer(layout=Layout(align_self='stretch', height='500px'))"
      ]
     },
     "metadata": {},
     "output_type": "display_data"
    },
    {
     "name": "stdout",
     "output_type": "stream",
     "text": [
      "Wall time: 47.9 s\n"
     ]
    }
   ],
   "source": [
    "%%time\n",
    "ml = CModel(params)\n",
    "ml.fit(train[features], train[target])\n",
    "\n",
    "C_preds = ml.predict(test[features])"
   ]
  },
  {
   "cell_type": "code",
   "execution_count": 22,
   "id": "161ac0d5",
   "metadata": {},
   "outputs": [
    {
     "data": {
      "text/html": [
       "<div>\n",
       "<style scoped>\n",
       "    .dataframe tbody tr th:only-of-type {\n",
       "        vertical-align: middle;\n",
       "    }\n",
       "\n",
       "    .dataframe tbody tr th {\n",
       "        vertical-align: top;\n",
       "    }\n",
       "\n",
       "    .dataframe thead th {\n",
       "        text-align: right;\n",
       "    }\n",
       "</style>\n",
       "<table border=\"1\" class=\"dataframe\">\n",
       "  <thead>\n",
       "    <tr style=\"text-align: right;\">\n",
       "      <th></th>\n",
       "      <th>NPLV</th>\n",
       "      <th>TST</th>\n",
       "      <th>C</th>\n",
       "    </tr>\n",
       "  </thead>\n",
       "  <tbody>\n",
       "    <tr>\n",
       "      <th>0</th>\n",
       "      <td>512324</td>\n",
       "      <td>1658.428347</td>\n",
       "      <td>0.045500</td>\n",
       "    </tr>\n",
       "    <tr>\n",
       "      <th>1</th>\n",
       "      <td>512327</td>\n",
       "      <td>1640.518913</td>\n",
       "      <td>0.084000</td>\n",
       "    </tr>\n",
       "    <tr>\n",
       "      <th>2</th>\n",
       "      <td>512328</td>\n",
       "      <td>1641.007413</td>\n",
       "      <td>0.087500</td>\n",
       "    </tr>\n",
       "    <tr>\n",
       "      <th>3</th>\n",
       "      <td>512331</td>\n",
       "      <td>1650.025620</td>\n",
       "      <td>0.065531</td>\n",
       "    </tr>\n",
       "    <tr>\n",
       "      <th>4</th>\n",
       "      <td>512333</td>\n",
       "      <td>1649.034171</td>\n",
       "      <td>0.084000</td>\n",
       "    </tr>\n",
       "    <tr>\n",
       "      <th>...</th>\n",
       "      <td>...</td>\n",
       "      <td>...</td>\n",
       "      <td>...</td>\n",
       "    </tr>\n",
       "    <tr>\n",
       "      <th>775</th>\n",
       "      <td>513369</td>\n",
       "      <td>1653.358263</td>\n",
       "      <td>0.062000</td>\n",
       "    </tr>\n",
       "    <tr>\n",
       "      <th>776</th>\n",
       "      <td>513370</td>\n",
       "      <td>1649.328599</td>\n",
       "      <td>0.081290</td>\n",
       "    </tr>\n",
       "    <tr>\n",
       "      <th>777</th>\n",
       "      <td>513371</td>\n",
       "      <td>1640.745844</td>\n",
       "      <td>0.060477</td>\n",
       "    </tr>\n",
       "    <tr>\n",
       "      <th>778</th>\n",
       "      <td>513372</td>\n",
       "      <td>1659.105493</td>\n",
       "      <td>0.068000</td>\n",
       "    </tr>\n",
       "    <tr>\n",
       "      <th>779</th>\n",
       "      <td>513374</td>\n",
       "      <td>1663.661525</td>\n",
       "      <td>0.064000</td>\n",
       "    </tr>\n",
       "  </tbody>\n",
       "</table>\n",
       "<p>780 rows × 3 columns</p>\n",
       "</div>"
      ],
      "text/plain": [
       "       NPLV          TST         C\n",
       "0    512324  1658.428347  0.045500\n",
       "1    512327  1640.518913  0.084000\n",
       "2    512328  1641.007413  0.087500\n",
       "3    512331  1650.025620  0.065531\n",
       "4    512333  1649.034171  0.084000\n",
       "..      ...          ...       ...\n",
       "775  513369  1653.358263  0.062000\n",
       "776  513370  1649.328599  0.081290\n",
       "777  513371  1640.745844  0.060477\n",
       "778  513372  1659.105493  0.068000\n",
       "779  513374  1663.661525  0.064000\n",
       "\n",
       "[780 rows x 3 columns]"
      ]
     },
     "execution_count": 22,
     "metadata": {},
     "output_type": "execute_result"
    }
   ],
   "source": [
    "test['TST'] = T_preds['predictions']\n",
    "test['C'] = C_preds['predictions']\n",
    "\n",
    "test[test.columns[:3]].to_csv('data/submissions/final_model.csv')\n",
    "test[test.columns[:3]]"
   ]
  },
  {
   "cell_type": "code",
   "execution_count": null,
   "id": "afc41f50",
   "metadata": {},
   "outputs": [],
   "source": []
  },
  {
   "cell_type": "code",
   "execution_count": null,
   "id": "b05aba49",
   "metadata": {},
   "outputs": [],
   "source": []
  }
 ],
 "metadata": {
  "kernelspec": {
   "display_name": "RaifHack",
   "language": "python",
   "name": "raifhack"
  },
  "language_info": {
   "codemirror_mode": {
    "name": "ipython",
    "version": 3
   },
   "file_extension": ".py",
   "mimetype": "text/x-python",
   "name": "python",
   "nbconvert_exporter": "python",
   "pygments_lexer": "ipython3",
   "version": "3.9.5"
  },
  "toc": {
   "base_numbering": 1,
   "nav_menu": {},
   "number_sections": false,
   "sideBar": true,
   "skip_h1_title": false,
   "title_cell": "Содержание",
   "title_sidebar": "Contents",
   "toc_cell": false,
   "toc_position": {
    "height": "calc(100% - 180px)",
    "left": "10px",
    "top": "150px",
    "width": "355.5px"
   },
   "toc_section_display": true,
   "toc_window_display": true
  }
 },
 "nbformat": 4,
 "nbformat_minor": 5
}
