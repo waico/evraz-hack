{
 "cells": [
  {
   "cell_type": "markdown",
   "id": "isolated-japan",
   "metadata": {},
   "source": [
    "Для проноза значений целевых параметров: температура расплава и содержание в нём углерода, в каждый момент времени в ходе продувки созданим линейную, интерпретируемую модель"
   ]
  },
  {
   "cell_type": "markdown",
   "id": "substantial-seeker",
   "metadata": {},
   "source": [
    "# Preprocess raw data\n",
    "Начальные данные должны быть расположены относительно файла данного ноутбука в папке `data/raw` в распакованном виде csv-файлов"
   ]
  },
  {
   "cell_type": "code",
   "execution_count": 5,
   "id": "large-momentum",
   "metadata": {},
   "outputs": [
    {
     "name": "stdout",
     "output_type": "stream",
     "text": [
      "Python 3.6.9\n"
     ]
    }
   ],
   "source": [
    "!python3 -V"
   ]
  },
  {
   "cell_type": "code",
   "execution_count": 8,
   "id": "informative-leather",
   "metadata": {},
   "outputs": [
    {
     "name": "stdout",
     "output_type": "stream",
     "text": [
      "Nas: 2\n",
      "Shape: (2063, 98)\n",
      "Nas: 0\n",
      "Shape: (780, 98)\n",
      "Nas: 0\n",
      "Shape: (2061, 100)\n"
     ]
    }
   ],
   "source": [
    "!python3 generate_dataset-9.py"
   ]
  },
  {
   "cell_type": "markdown",
   "id": "accompanied-spectrum",
   "metadata": {},
   "source": [
    "# Libs"
   ]
  },
  {
   "cell_type": "code",
   "execution_count": 183,
   "id": "standing-tenant",
   "metadata": {},
   "outputs": [],
   "source": [
    "import pandas as pd\n",
    "import numpy as np\n",
    "import seaborn as sns\n",
    "import matplotlib.pyplot as plt\n",
    "\n",
    "from sklearn.compose import make_column_transformer, make_column_selector\n",
    "from sklearn.preprocessing import PowerTransformer, OneHotEncoder\n",
    "from sklearn.linear_model import LassoCV\n",
    "from sklearn.model_selection import cross_val_score"
   ]
  },
  {
   "cell_type": "markdown",
   "id": "prerequisite-finish",
   "metadata": {},
   "source": [
    "# Methods"
   ]
  },
  {
   "cell_type": "code",
   "execution_count": 10,
   "id": "defensive-perfume",
   "metadata": {},
   "outputs": [],
   "source": [
    "def metric(answers, user_csv):\n",
    "\n",
    "    delta_c = np.abs(np.array(answers['C']) - np.array(user_csv['C']))\n",
    "    hit_rate_c = np.int64(delta_c < 0.02)\n",
    "\n",
    "    delta_t = np.abs(np.array(answers['TST']) - np.array(user_csv['TST']))\n",
    "    hit_rate_t = np.int64(delta_t < 20)\n",
    "\n",
    "    N = np.size(answers['C'])\n",
    "\n",
    "    return np.sum(hit_rate_c + hit_rate_t) / 2 / N"
   ]
  },
  {
   "cell_type": "code",
   "execution_count": 185,
   "id": "environmental-subdivision",
   "metadata": {},
   "outputs": [],
   "source": [
    "def metric_tst(y_true, y_pred):\n",
    "\n",
    "    delta_t = np.abs(np.array(y_true) - np.array(y_pred))\n",
    "    hit_rate_t = np.int64(delta_t < 20)\n",
    "\n",
    "    N = np.size(y_true)\n",
    "\n",
    "    return np.sum(hit_rate_t) / N"
   ]
  },
  {
   "cell_type": "code",
   "execution_count": 130,
   "id": "advance-brush",
   "metadata": {},
   "outputs": [],
   "source": [
    "def process_data(df):\n",
    "    df = df.copy()\n",
    "    # Sorting\n",
    "    df.sort_values('chugun_DATA_ZAMERA', inplace=True)\n",
    "    df.drop(['chugun_DATA_ZAMERA','plavka_VR_NACH','plavka_VR_KON','NPLV'], axis=1, inplace=True)\n",
    "    \n",
    "    # VES/O2 has inf values\n",
    "    if (df['VES/O2'] == np.inf).sum() > 0:\n",
    "        df.loc[df['VES/O2'] == np.inf, 'VES/O2'] = df['VES/O2'].median()\n",
    "\n",
    "    return df"
   ]
  },
  {
   "cell_type": "markdown",
   "id": "widespread-judgment",
   "metadata": {},
   "source": [
    "# Data"
   ]
  },
  {
   "cell_type": "code",
   "execution_count": 16,
   "id": "intelligent-chest",
   "metadata": {},
   "outputs": [
    {
     "data": {
      "text/plain": [
       "((2061, 101), (780, 101))"
      ]
     },
     "execution_count": 16,
     "metadata": {},
     "output_type": "execute_result"
    }
   ],
   "source": [
    "train = pd.read_csv('data/processed/train.csv')\n",
    "test = pd.read_csv('data/processed/test.csv')\n",
    "train.shape, test.shape"
   ]
  },
  {
   "cell_type": "code",
   "execution_count": 131,
   "id": "adaptive-floating",
   "metadata": {},
   "outputs": [],
   "source": [
    "df_train = process_data(train)\n",
    "df_test = process_data(test)"
   ]
  },
  {
   "cell_type": "markdown",
   "id": "collaborative-income",
   "metadata": {},
   "source": [
    "# Pearson correlation\n",
    "Посмотрим какие признаки линейно коррелируют с целевыми"
   ]
  },
  {
   "cell_type": "code",
   "execution_count": 132,
   "id": "other-weekend",
   "metadata": {},
   "outputs": [],
   "source": [
    "df = df_train.copy()"
   ]
  },
  {
   "cell_type": "code",
   "execution_count": 133,
   "id": "demonstrated-northwest",
   "metadata": {},
   "outputs": [
    {
     "data": {
      "text/html": [
       "<div>\n",
       "<style scoped>\n",
       "    .dataframe tbody tr th:only-of-type {\n",
       "        vertical-align: middle;\n",
       "    }\n",
       "\n",
       "    .dataframe tbody tr th {\n",
       "        vertical-align: top;\n",
       "    }\n",
       "\n",
       "    .dataframe thead th {\n",
       "        text-align: right;\n",
       "    }\n",
       "</style>\n",
       "<table border=\"1\" class=\"dataframe\">\n",
       "  <thead>\n",
       "    <tr style=\"text-align: right;\">\n",
       "      <th></th>\n",
       "      <th>TST</th>\n",
       "      <th>C</th>\n",
       "      <th>chugun_VES</th>\n",
       "      <th>chugun_T</th>\n",
       "      <th>chugun_SI</th>\n",
       "      <th>chugun_MN</th>\n",
       "      <th>chugun_S</th>\n",
       "      <th>chugun_P</th>\n",
       "      <th>chugun_CR</th>\n",
       "      <th>chugun_NI</th>\n",
       "      <th>...</th>\n",
       "      <th>chronom_time_ППР</th>\n",
       "      <th>chronom_time_Подварка  футеровки</th>\n",
       "      <th>chronom_time_Полусухое торкрет.</th>\n",
       "      <th>chronom_time_Продувка</th>\n",
       "      <th>chronom_time_Ремонт летки</th>\n",
       "      <th>chronom_time_Слив шлака</th>\n",
       "      <th>chronom_time_межпл. простой</th>\n",
       "      <th>gas_T_start_povalka</th>\n",
       "      <th>timer</th>\n",
       "      <th>VES/O2</th>\n",
       "    </tr>\n",
       "  </thead>\n",
       "  <tbody>\n",
       "    <tr>\n",
       "      <th>0</th>\n",
       "      <td>1690</td>\n",
       "      <td>0.060</td>\n",
       "      <td>263700.0</td>\n",
       "      <td>1396.0</td>\n",
       "      <td>0.44</td>\n",
       "      <td>0.22</td>\n",
       "      <td>0.023</td>\n",
       "      <td>0.097</td>\n",
       "      <td>0.03</td>\n",
       "      <td>0.01</td>\n",
       "      <td>...</td>\n",
       "      <td>0</td>\n",
       "      <td>0</td>\n",
       "      <td>0</td>\n",
       "      <td>1170</td>\n",
       "      <td>0</td>\n",
       "      <td>23</td>\n",
       "      <td>333</td>\n",
       "      <td>785.416687</td>\n",
       "      <td>412.0</td>\n",
       "      <td>12.747863</td>\n",
       "    </tr>\n",
       "    <tr>\n",
       "      <th>1</th>\n",
       "      <td>1683</td>\n",
       "      <td>0.097</td>\n",
       "      <td>264500.0</td>\n",
       "      <td>1419.0</td>\n",
       "      <td>0.68</td>\n",
       "      <td>0.20</td>\n",
       "      <td>0.017</td>\n",
       "      <td>0.087</td>\n",
       "      <td>0.02</td>\n",
       "      <td>0.01</td>\n",
       "      <td>...</td>\n",
       "      <td>0</td>\n",
       "      <td>0</td>\n",
       "      <td>0</td>\n",
       "      <td>1230</td>\n",
       "      <td>0</td>\n",
       "      <td>39</td>\n",
       "      <td>422</td>\n",
       "      <td>846.875000</td>\n",
       "      <td>1384.0</td>\n",
       "      <td>6.097125</td>\n",
       "    </tr>\n",
       "    <tr>\n",
       "      <th>2</th>\n",
       "      <td>1662</td>\n",
       "      <td>0.091</td>\n",
       "      <td>263800.0</td>\n",
       "      <td>1384.0</td>\n",
       "      <td>0.56</td>\n",
       "      <td>0.26</td>\n",
       "      <td>0.017</td>\n",
       "      <td>0.096</td>\n",
       "      <td>0.03</td>\n",
       "      <td>0.01</td>\n",
       "      <td>...</td>\n",
       "      <td>0</td>\n",
       "      <td>0</td>\n",
       "      <td>0</td>\n",
       "      <td>1226</td>\n",
       "      <td>0</td>\n",
       "      <td>27</td>\n",
       "      <td>307</td>\n",
       "      <td>831.597229</td>\n",
       "      <td>551.0</td>\n",
       "      <td>10.506452</td>\n",
       "    </tr>\n",
       "    <tr>\n",
       "      <th>3</th>\n",
       "      <td>1609</td>\n",
       "      <td>0.410</td>\n",
       "      <td>264000.0</td>\n",
       "      <td>1401.0</td>\n",
       "      <td>0.48</td>\n",
       "      <td>0.27</td>\n",
       "      <td>0.018</td>\n",
       "      <td>0.091</td>\n",
       "      <td>0.03</td>\n",
       "      <td>0.01</td>\n",
       "      <td>...</td>\n",
       "      <td>0</td>\n",
       "      <td>0</td>\n",
       "      <td>0</td>\n",
       "      <td>1058</td>\n",
       "      <td>0</td>\n",
       "      <td>21</td>\n",
       "      <td>700</td>\n",
       "      <td>826.041687</td>\n",
       "      <td>429.0</td>\n",
       "      <td>8.979007</td>\n",
       "    </tr>\n",
       "    <tr>\n",
       "      <th>4</th>\n",
       "      <td>1682</td>\n",
       "      <td>0.120</td>\n",
       "      <td>263300.0</td>\n",
       "      <td>1422.0</td>\n",
       "      <td>0.47</td>\n",
       "      <td>0.23</td>\n",
       "      <td>0.018</td>\n",
       "      <td>0.096</td>\n",
       "      <td>0.02</td>\n",
       "      <td>0.01</td>\n",
       "      <td>...</td>\n",
       "      <td>0</td>\n",
       "      <td>0</td>\n",
       "      <td>0</td>\n",
       "      <td>1239</td>\n",
       "      <td>0</td>\n",
       "      <td>24</td>\n",
       "      <td>464</td>\n",
       "      <td>809.722229</td>\n",
       "      <td>558.0</td>\n",
       "      <td>10.868674</td>\n",
       "    </tr>\n",
       "    <tr>\n",
       "      <th>...</th>\n",
       "      <td>...</td>\n",
       "      <td>...</td>\n",
       "      <td>...</td>\n",
       "      <td>...</td>\n",
       "      <td>...</td>\n",
       "      <td>...</td>\n",
       "      <td>...</td>\n",
       "      <td>...</td>\n",
       "      <td>...</td>\n",
       "      <td>...</td>\n",
       "      <td>...</td>\n",
       "      <td>...</td>\n",
       "      <td>...</td>\n",
       "      <td>...</td>\n",
       "      <td>...</td>\n",
       "      <td>...</td>\n",
       "      <td>...</td>\n",
       "      <td>...</td>\n",
       "      <td>...</td>\n",
       "      <td>...</td>\n",
       "      <td>...</td>\n",
       "    </tr>\n",
       "    <tr>\n",
       "      <th>2056</th>\n",
       "      <td>1626</td>\n",
       "      <td>0.145</td>\n",
       "      <td>267200.0</td>\n",
       "      <td>1415.0</td>\n",
       "      <td>0.38</td>\n",
       "      <td>0.28</td>\n",
       "      <td>0.019</td>\n",
       "      <td>0.099</td>\n",
       "      <td>0.02</td>\n",
       "      <td>0.01</td>\n",
       "      <td>...</td>\n",
       "      <td>0</td>\n",
       "      <td>0</td>\n",
       "      <td>0</td>\n",
       "      <td>1063</td>\n",
       "      <td>0</td>\n",
       "      <td>148</td>\n",
       "      <td>470</td>\n",
       "      <td>772.569458</td>\n",
       "      <td>-646.0</td>\n",
       "      <td>21.026877</td>\n",
       "    </tr>\n",
       "    <tr>\n",
       "      <th>2057</th>\n",
       "      <td>1643</td>\n",
       "      <td>0.087</td>\n",
       "      <td>266800.0</td>\n",
       "      <td>1405.0</td>\n",
       "      <td>0.50</td>\n",
       "      <td>0.30</td>\n",
       "      <td>0.017</td>\n",
       "      <td>0.104</td>\n",
       "      <td>0.02</td>\n",
       "      <td>0.01</td>\n",
       "      <td>...</td>\n",
       "      <td>0</td>\n",
       "      <td>0</td>\n",
       "      <td>0</td>\n",
       "      <td>1108</td>\n",
       "      <td>0</td>\n",
       "      <td>16</td>\n",
       "      <td>765</td>\n",
       "      <td>812.152771</td>\n",
       "      <td>697.0</td>\n",
       "      <td>8.525566</td>\n",
       "    </tr>\n",
       "    <tr>\n",
       "      <th>2058</th>\n",
       "      <td>1615</td>\n",
       "      <td>0.141</td>\n",
       "      <td>276100.0</td>\n",
       "      <td>1398.0</td>\n",
       "      <td>0.61</td>\n",
       "      <td>0.31</td>\n",
       "      <td>0.025</td>\n",
       "      <td>0.115</td>\n",
       "      <td>0.03</td>\n",
       "      <td>0.01</td>\n",
       "      <td>...</td>\n",
       "      <td>0</td>\n",
       "      <td>0</td>\n",
       "      <td>0</td>\n",
       "      <td>1058</td>\n",
       "      <td>0</td>\n",
       "      <td>99</td>\n",
       "      <td>442</td>\n",
       "      <td>782.986084</td>\n",
       "      <td>-2888.0</td>\n",
       "      <td>12.272091</td>\n",
       "    </tr>\n",
       "    <tr>\n",
       "      <th>2059</th>\n",
       "      <td>1654</td>\n",
       "      <td>0.270</td>\n",
       "      <td>275800.0</td>\n",
       "      <td>1408.0</td>\n",
       "      <td>0.38</td>\n",
       "      <td>0.27</td>\n",
       "      <td>0.021</td>\n",
       "      <td>0.100</td>\n",
       "      <td>0.02</td>\n",
       "      <td>0.01</td>\n",
       "      <td>...</td>\n",
       "      <td>0</td>\n",
       "      <td>0</td>\n",
       "      <td>0</td>\n",
       "      <td>1169</td>\n",
       "      <td>0</td>\n",
       "      <td>75</td>\n",
       "      <td>454</td>\n",
       "      <td>779.513855</td>\n",
       "      <td>-1904.0</td>\n",
       "      <td>12.539862</td>\n",
       "    </tr>\n",
       "    <tr>\n",
       "      <th>2060</th>\n",
       "      <td>1630</td>\n",
       "      <td>0.183</td>\n",
       "      <td>279200.0</td>\n",
       "      <td>1413.0</td>\n",
       "      <td>0.50</td>\n",
       "      <td>0.31</td>\n",
       "      <td>0.019</td>\n",
       "      <td>0.105</td>\n",
       "      <td>0.02</td>\n",
       "      <td>0.01</td>\n",
       "      <td>...</td>\n",
       "      <td>0</td>\n",
       "      <td>0</td>\n",
       "      <td>0</td>\n",
       "      <td>1208</td>\n",
       "      <td>0</td>\n",
       "      <td>9</td>\n",
       "      <td>241</td>\n",
       "      <td>853.819458</td>\n",
       "      <td>-851.0</td>\n",
       "      <td>6.497718</td>\n",
       "    </tr>\n",
       "  </tbody>\n",
       "</table>\n",
       "<p>2061 rows × 97 columns</p>\n",
       "</div>"
      ],
      "text/plain": [
       "       TST      C  chugun_VES  chugun_T  chugun_SI  chugun_MN  chugun_S  \\\n",
       "0     1690  0.060    263700.0    1396.0       0.44       0.22     0.023   \n",
       "1     1683  0.097    264500.0    1419.0       0.68       0.20     0.017   \n",
       "2     1662  0.091    263800.0    1384.0       0.56       0.26     0.017   \n",
       "3     1609  0.410    264000.0    1401.0       0.48       0.27     0.018   \n",
       "4     1682  0.120    263300.0    1422.0       0.47       0.23     0.018   \n",
       "...    ...    ...         ...       ...        ...        ...       ...   \n",
       "2056  1626  0.145    267200.0    1415.0       0.38       0.28     0.019   \n",
       "2057  1643  0.087    266800.0    1405.0       0.50       0.30     0.017   \n",
       "2058  1615  0.141    276100.0    1398.0       0.61       0.31     0.025   \n",
       "2059  1654  0.270    275800.0    1408.0       0.38       0.27     0.021   \n",
       "2060  1630  0.183    279200.0    1413.0       0.50       0.31     0.019   \n",
       "\n",
       "      chugun_P  chugun_CR  chugun_NI  ...  chronom_time_ППР  \\\n",
       "0        0.097       0.03       0.01  ...                 0   \n",
       "1        0.087       0.02       0.01  ...                 0   \n",
       "2        0.096       0.03       0.01  ...                 0   \n",
       "3        0.091       0.03       0.01  ...                 0   \n",
       "4        0.096       0.02       0.01  ...                 0   \n",
       "...        ...        ...        ...  ...               ...   \n",
       "2056     0.099       0.02       0.01  ...                 0   \n",
       "2057     0.104       0.02       0.01  ...                 0   \n",
       "2058     0.115       0.03       0.01  ...                 0   \n",
       "2059     0.100       0.02       0.01  ...                 0   \n",
       "2060     0.105       0.02       0.01  ...                 0   \n",
       "\n",
       "      chronom_time_Подварка  футеровки  chronom_time_Полусухое торкрет.  \\\n",
       "0                                    0                                0   \n",
       "1                                    0                                0   \n",
       "2                                    0                                0   \n",
       "3                                    0                                0   \n",
       "4                                    0                                0   \n",
       "...                                ...                              ...   \n",
       "2056                                 0                                0   \n",
       "2057                                 0                                0   \n",
       "2058                                 0                                0   \n",
       "2059                                 0                                0   \n",
       "2060                                 0                                0   \n",
       "\n",
       "     chronom_time_Продувка chronom_time_Ремонт летки  chronom_time_Слив шлака  \\\n",
       "0                     1170                         0                       23   \n",
       "1                     1230                         0                       39   \n",
       "2                     1226                         0                       27   \n",
       "3                     1058                         0                       21   \n",
       "4                     1239                         0                       24   \n",
       "...                    ...                       ...                      ...   \n",
       "2056                  1063                         0                      148   \n",
       "2057                  1108                         0                       16   \n",
       "2058                  1058                         0                       99   \n",
       "2059                  1169                         0                       75   \n",
       "2060                  1208                         0                        9   \n",
       "\n",
       "     chronom_time_межпл. простой  gas_T_start_povalka   timer     VES/O2  \n",
       "0                            333           785.416687   412.0  12.747863  \n",
       "1                            422           846.875000  1384.0   6.097125  \n",
       "2                            307           831.597229   551.0  10.506452  \n",
       "3                            700           826.041687   429.0   8.979007  \n",
       "4                            464           809.722229   558.0  10.868674  \n",
       "...                          ...                  ...     ...        ...  \n",
       "2056                         470           772.569458  -646.0  21.026877  \n",
       "2057                         765           812.152771   697.0   8.525566  \n",
       "2058                         442           782.986084 -2888.0  12.272091  \n",
       "2059                         454           779.513855 -1904.0  12.539862  \n",
       "2060                         241           853.819458  -851.0   6.497718  \n",
       "\n",
       "[2061 rows x 97 columns]"
      ]
     },
     "execution_count": 133,
     "metadata": {},
     "output_type": "execute_result"
    }
   ],
   "source": [
    "df"
   ]
  },
  {
   "cell_type": "code",
   "execution_count": 98,
   "id": "lyric-ebony",
   "metadata": {},
   "outputs": [],
   "source": [
    "X = df.drop(['TST','C'], axis=1)\n",
    "tst = df.TST\n",
    "c = df.C"
   ]
  },
  {
   "cell_type": "code",
   "execution_count": 99,
   "id": "seasonal-aquarium",
   "metadata": {},
   "outputs": [],
   "source": [
    "tst_corr = X.corrwith(tst)\n",
    "tst_corr.sort_values(ascending=False, inplace=True)\n",
    "c_corr = X.corrwith(c)\n",
    "c_corr.sort_values(ascending=False, inplace=True)"
   ]
  },
  {
   "cell_type": "code",
   "execution_count": 100,
   "id": "proof-direction",
   "metadata": {},
   "outputs": [
    {
     "data": {
      "text/plain": [
       "chronom_time_Продувка    0.260511\n",
       "gas_CO2_mean             0.183888\n",
       "produv_mean_RAS          0.123432\n",
       "gas_T_mean               0.115723\n",
       "lom_VES_VLD4             0.110362\n",
       "dtype: float64"
      ]
     },
     "execution_count": 100,
     "metadata": {},
     "output_type": "execute_result"
    }
   ],
   "source": [
    "tst_corr.head()"
   ]
  },
  {
   "cell_type": "code",
   "execution_count": 101,
   "id": "scenic-nirvana",
   "metadata": {},
   "outputs": [
    {
     "data": {
      "text/plain": [
       "chronom_time_межпл. простой    -0.111740\n",
       "gas_T_start_povalka            -0.111876\n",
       "chronom_time_Обрыв горловины   -0.113923\n",
       "gas_O2_sum                     -0.161736\n",
       "gas_O2_mean                    -0.211021\n",
       "dtype: float64"
      ]
     },
     "execution_count": 101,
     "metadata": {},
     "output_type": "execute_result"
    }
   ],
   "source": [
    "tst_corr.tail()"
   ]
  },
  {
   "cell_type": "code",
   "execution_count": 102,
   "id": "competitive-opposition",
   "metadata": {},
   "outputs": [
    {
     "data": {
      "text/plain": [
       "['chronom_time_Продувка',\n",
       " 'gas_CO2_mean',\n",
       " 'produv_mean_RAS',\n",
       " 'gas_T_mean',\n",
       " 'lom_VES_VLD4',\n",
       " 'chronom_time_межпл. простой',\n",
       " 'gas_T_start_povalka',\n",
       " 'chronom_time_Обрыв горловины',\n",
       " 'gas_O2_sum',\n",
       " 'gas_O2_mean']"
      ]
     },
     "execution_count": 102,
     "metadata": {},
     "output_type": "execute_result"
    }
   ],
   "source": [
    "tst_corr_features = tst_corr.head().index.tolist() + tst_corr.tail().index.tolist()\n",
    "tst_corr_features"
   ]
  },
  {
   "cell_type": "code",
   "execution_count": 103,
   "id": "complicated-horizontal",
   "metadata": {},
   "outputs": [
    {
     "data": {
      "text/plain": [
       "gas_CO2_sum            0.415021\n",
       "sip_VES_VDSYP408       0.318456\n",
       "gas_T_start_povalka    0.277616\n",
       "gas_T_sum              0.271461\n",
       "gas_CO2_mean           0.237527\n",
       "dtype: float64"
      ]
     },
     "execution_count": 103,
     "metadata": {},
     "output_type": "execute_result"
    }
   ],
   "source": [
    "c_corr.head()"
   ]
  },
  {
   "cell_type": "code",
   "execution_count": 104,
   "id": "actual-devon",
   "metadata": {},
   "outputs": [
    {
     "data": {
      "text/plain": [
       "lom_VES_sum             -0.117199\n",
       "gas_AR_mean             -0.119617\n",
       "gas_O2_mean             -0.145841\n",
       "produv_mean_RAS         -0.188377\n",
       "chronom_time_Продувка   -0.199756\n",
       "dtype: float64"
      ]
     },
     "execution_count": 104,
     "metadata": {},
     "output_type": "execute_result"
    }
   ],
   "source": [
    "c_corr.tail()"
   ]
  },
  {
   "cell_type": "code",
   "execution_count": 105,
   "id": "outside-dover",
   "metadata": {},
   "outputs": [
    {
     "data": {
      "text/plain": [
       "['gas_CO2_sum',\n",
       " 'sip_VES_VDSYP408',\n",
       " 'gas_T_start_povalka',\n",
       " 'gas_T_sum',\n",
       " 'gas_CO2_mean',\n",
       " 'lom_VES_sum',\n",
       " 'gas_AR_mean',\n",
       " 'gas_O2_mean',\n",
       " 'produv_mean_RAS',\n",
       " 'chronom_time_Продувка']"
      ]
     },
     "execution_count": 105,
     "metadata": {},
     "output_type": "execute_result"
    }
   ],
   "source": [
    "c_corr_features = c_corr.head().index.tolist() + c_corr.tail().index.tolist()\n",
    "c_corr_features"
   ]
  },
  {
   "cell_type": "code",
   "execution_count": 111,
   "id": "silver-ottawa",
   "metadata": {},
   "outputs": [],
   "source": [
    "targets = ['TST','C']"
   ]
  },
  {
   "cell_type": "code",
   "execution_count": 150,
   "id": "advisory-trademark",
   "metadata": {},
   "outputs": [],
   "source": [
    "corr = df.corr()"
   ]
  },
  {
   "cell_type": "code",
   "execution_count": 159,
   "id": "chief-swiss",
   "metadata": {},
   "outputs": [
    {
     "data": {
      "image/png": "[encoded data removed]",
      "text/plain": [
       "<Figure size 720x360 with 2 Axes>"
      ]
     },
     "metadata": {
      "needs_background": "light"
     },
     "output_type": "display_data"
    }
   ],
   "source": [
    "fig, ax = plt.subplots(figsize=(10,5))\n",
    "cols = ['TST']+tst_corr_features\n",
    "sns.heatmap(corr.loc[cols,cols], ax=ax)\n",
    "            \n",
    "ax.set_title('Корреляция признаков с Температурой расплава')\n",
    "plt.show()"
   ]
  },
  {
   "cell_type": "code",
   "execution_count": 160,
   "id": "greater-accordance",
   "metadata": {},
   "outputs": [
    {
     "data": {
      "image/png": "[encoded data removed]",
      "text/plain": [
       "<Figure size 720x360 with 2 Axes>"
      ]
     },
     "metadata": {
      "needs_background": "light"
     },
     "output_type": "display_data"
    }
   ],
   "source": [
    "fig, ax = plt.subplots(figsize=(10,5))\n",
    "cols = ['C']+c_corr_features\n",
    "sns.heatmap(corr.loc[cols,cols], ax=ax)\n",
    "            \n",
    "ax.set_title('Корреляция признаков с Содержанием углерода')\n",
    "plt.show()"
   ]
  },
  {
   "cell_type": "markdown",
   "id": "single-kitty",
   "metadata": {},
   "source": [
    "# Предсказание температуры"
   ]
  },
  {
   "cell_type": "code",
   "execution_count": 112,
   "id": "spoken-restriction",
   "metadata": {},
   "outputs": [
    {
     "data": {
      "text/html": [
       "<div>\n",
       "<style scoped>\n",
       "    .dataframe tbody tr th:only-of-type {\n",
       "        vertical-align: middle;\n",
       "    }\n",
       "\n",
       "    .dataframe tbody tr th {\n",
       "        vertical-align: top;\n",
       "    }\n",
       "\n",
       "    .dataframe thead th {\n",
       "        text-align: right;\n",
       "    }\n",
       "</style>\n",
       "<table border=\"1\" class=\"dataframe\">\n",
       "  <thead>\n",
       "    <tr style=\"text-align: right;\">\n",
       "      <th></th>\n",
       "      <th>TST</th>\n",
       "      <th>C</th>\n",
       "      <th>chronom_time_Продувка</th>\n",
       "      <th>gas_CO2_mean</th>\n",
       "      <th>produv_mean_RAS</th>\n",
       "      <th>gas_T_mean</th>\n",
       "      <th>lom_VES_VLD4</th>\n",
       "      <th>chronom_time_межпл. простой</th>\n",
       "      <th>gas_T_start_povalka</th>\n",
       "      <th>chronom_time_Обрыв горловины</th>\n",
       "      <th>gas_O2_sum</th>\n",
       "      <th>gas_O2_mean</th>\n",
       "    </tr>\n",
       "  </thead>\n",
       "  <tbody>\n",
       "    <tr>\n",
       "      <th>0</th>\n",
       "      <td>1690</td>\n",
       "      <td>0.060</td>\n",
       "      <td>1170</td>\n",
       "      <td>13.646908</td>\n",
       "      <td>408.181995</td>\n",
       "      <td>506.912198</td>\n",
       "      <td>56500</td>\n",
       "      <td>333</td>\n",
       "      <td>785.416687</td>\n",
       "      <td>0</td>\n",
       "      <td>20685.819848</td>\n",
       "      <td>8.080398</td>\n",
       "    </tr>\n",
       "    <tr>\n",
       "      <th>1</th>\n",
       "      <td>1683</td>\n",
       "      <td>0.097</td>\n",
       "      <td>1230</td>\n",
       "      <td>11.761720</td>\n",
       "      <td>437.750429</td>\n",
       "      <td>375.840941</td>\n",
       "      <td>49800</td>\n",
       "      <td>422</td>\n",
       "      <td>846.875000</td>\n",
       "      <td>0</td>\n",
       "      <td>43381.103374</td>\n",
       "      <td>10.985339</td>\n",
       "    </tr>\n",
       "    <tr>\n",
       "      <th>2</th>\n",
       "      <td>1662</td>\n",
       "      <td>0.091</td>\n",
       "      <td>1226</td>\n",
       "      <td>12.723079</td>\n",
       "      <td>433.941227</td>\n",
       "      <td>489.881937</td>\n",
       "      <td>45900</td>\n",
       "      <td>307</td>\n",
       "      <td>831.597229</td>\n",
       "      <td>0</td>\n",
       "      <td>25108.381611</td>\n",
       "      <td>8.745518</td>\n",
       "    </tr>\n",
       "    <tr>\n",
       "      <th>3</th>\n",
       "      <td>1609</td>\n",
       "      <td>0.410</td>\n",
       "      <td>1058</td>\n",
       "      <td>13.566362</td>\n",
       "      <td>392.992501</td>\n",
       "      <td>439.273874</td>\n",
       "      <td>51900</td>\n",
       "      <td>700</td>\n",
       "      <td>826.041687</td>\n",
       "      <td>541</td>\n",
       "      <td>29401.916247</td>\n",
       "      <td>9.016227</td>\n",
       "    </tr>\n",
       "    <tr>\n",
       "      <th>4</th>\n",
       "      <td>1682</td>\n",
       "      <td>0.120</td>\n",
       "      <td>1239</td>\n",
       "      <td>13.643787</td>\n",
       "      <td>396.448585</td>\n",
       "      <td>478.608197</td>\n",
       "      <td>64000</td>\n",
       "      <td>464</td>\n",
       "      <td>809.722229</td>\n",
       "      <td>0</td>\n",
       "      <td>24225.586513</td>\n",
       "      <td>8.470485</td>\n",
       "    </tr>\n",
       "    <tr>\n",
       "      <th>...</th>\n",
       "      <td>...</td>\n",
       "      <td>...</td>\n",
       "      <td>...</td>\n",
       "      <td>...</td>\n",
       "      <td>...</td>\n",
       "      <td>...</td>\n",
       "      <td>...</td>\n",
       "      <td>...</td>\n",
       "      <td>...</td>\n",
       "      <td>...</td>\n",
       "      <td>...</td>\n",
       "      <td>...</td>\n",
       "    </tr>\n",
       "    <tr>\n",
       "      <th>2056</th>\n",
       "      <td>1626</td>\n",
       "      <td>0.145</td>\n",
       "      <td>1063</td>\n",
       "      <td>17.997605</td>\n",
       "      <td>372.911585</td>\n",
       "      <td>439.574555</td>\n",
       "      <td>51700</td>\n",
       "      <td>470</td>\n",
       "      <td>772.569458</td>\n",
       "      <td>0</td>\n",
       "      <td>12707.545640</td>\n",
       "      <td>4.152793</td>\n",
       "    </tr>\n",
       "    <tr>\n",
       "      <th>2057</th>\n",
       "      <td>1643</td>\n",
       "      <td>0.087</td>\n",
       "      <td>1108</td>\n",
       "      <td>12.629975</td>\n",
       "      <td>449.224197</td>\n",
       "      <td>336.801224</td>\n",
       "      <td>46400</td>\n",
       "      <td>765</td>\n",
       "      <td>812.152771</td>\n",
       "      <td>0</td>\n",
       "      <td>31294.109473</td>\n",
       "      <td>8.228796</td>\n",
       "    </tr>\n",
       "    <tr>\n",
       "      <th>2058</th>\n",
       "      <td>1615</td>\n",
       "      <td>0.141</td>\n",
       "      <td>1058</td>\n",
       "      <td>13.776500</td>\n",
       "      <td>410.935288</td>\n",
       "      <td>390.420212</td>\n",
       "      <td>41400</td>\n",
       "      <td>442</td>\n",
       "      <td>782.986084</td>\n",
       "      <td>438</td>\n",
       "      <td>22498.203495</td>\n",
       "      <td>6.857118</td>\n",
       "    </tr>\n",
       "    <tr>\n",
       "      <th>2059</th>\n",
       "      <td>1654</td>\n",
       "      <td>0.270</td>\n",
       "      <td>1169</td>\n",
       "      <td>14.838620</td>\n",
       "      <td>346.784867</td>\n",
       "      <td>385.978217</td>\n",
       "      <td>59000</td>\n",
       "      <td>454</td>\n",
       "      <td>779.513855</td>\n",
       "      <td>0</td>\n",
       "      <td>21993.862756</td>\n",
       "      <td>6.075653</td>\n",
       "    </tr>\n",
       "    <tr>\n",
       "      <th>2060</th>\n",
       "      <td>1630</td>\n",
       "      <td>0.183</td>\n",
       "      <td>1208</td>\n",
       "      <td>12.778305</td>\n",
       "      <td>220.462934</td>\n",
       "      <td>306.711093</td>\n",
       "      <td>66700</td>\n",
       "      <td>241</td>\n",
       "      <td>853.819458</td>\n",
       "      <td>2394</td>\n",
       "      <td>42968.934689</td>\n",
       "      <td>8.985557</td>\n",
       "    </tr>\n",
       "  </tbody>\n",
       "</table>\n",
       "<p>2061 rows × 12 columns</p>\n",
       "</div>"
      ],
      "text/plain": [
       "       TST      C  chronom_time_Продувка  gas_CO2_mean  produv_mean_RAS  \\\n",
       "0     1690  0.060                   1170     13.646908       408.181995   \n",
       "1     1683  0.097                   1230     11.761720       437.750429   \n",
       "2     1662  0.091                   1226     12.723079       433.941227   \n",
       "3     1609  0.410                   1058     13.566362       392.992501   \n",
       "4     1682  0.120                   1239     13.643787       396.448585   \n",
       "...    ...    ...                    ...           ...              ...   \n",
       "2056  1626  0.145                   1063     17.997605       372.911585   \n",
       "2057  1643  0.087                   1108     12.629975       449.224197   \n",
       "2058  1615  0.141                   1058     13.776500       410.935288   \n",
       "2059  1654  0.270                   1169     14.838620       346.784867   \n",
       "2060  1630  0.183                   1208     12.778305       220.462934   \n",
       "\n",
       "      gas_T_mean  lom_VES_VLD4  chronom_time_межпл. простой  \\\n",
       "0     506.912198         56500                          333   \n",
       "1     375.840941         49800                          422   \n",
       "2     489.881937         45900                          307   \n",
       "3     439.273874         51900                          700   \n",
       "4     478.608197         64000                          464   \n",
       "...          ...           ...                          ...   \n",
       "2056  439.574555         51700                          470   \n",
       "2057  336.801224         46400                          765   \n",
       "2058  390.420212         41400                          442   \n",
       "2059  385.978217         59000                          454   \n",
       "2060  306.711093         66700                          241   \n",
       "\n",
       "      gas_T_start_povalka  chronom_time_Обрыв горловины    gas_O2_sum  \\\n",
       "0              785.416687                             0  20685.819848   \n",
       "1              846.875000                             0  43381.103374   \n",
       "2              831.597229                             0  25108.381611   \n",
       "3              826.041687                           541  29401.916247   \n",
       "4              809.722229                             0  24225.586513   \n",
       "...                   ...                           ...           ...   \n",
       "2056           772.569458                             0  12707.545640   \n",
       "2057           812.152771                             0  31294.109473   \n",
       "2058           782.986084                           438  22498.203495   \n",
       "2059           779.513855                             0  21993.862756   \n",
       "2060           853.819458                          2394  42968.934689   \n",
       "\n",
       "      gas_O2_mean  \n",
       "0        8.080398  \n",
       "1       10.985339  \n",
       "2        8.745518  \n",
       "3        9.016227  \n",
       "4        8.470485  \n",
       "...           ...  \n",
       "2056     4.152793  \n",
       "2057     8.228796  \n",
       "2058     6.857118  \n",
       "2059     6.075653  \n",
       "2060     8.985557  \n",
       "\n",
       "[2061 rows x 12 columns]"
      ]
     },
     "execution_count": 112,
     "metadata": {},
     "output_type": "execute_result"
    }
   ],
   "source": [
    "df_train[targets+tst_corr_features]"
   ]
  },
  {
   "cell_type": "markdown",
   "id": "approved-switch",
   "metadata": {},
   "source": [
    "## Columns tramsforming"
   ]
  },
  {
   "cell_type": "code",
   "execution_count": 113,
   "id": "sticky-huntington",
   "metadata": {},
   "outputs": [],
   "source": [
    "df2 = df_train[targets+tst_corr_features]"
   ]
  },
  {
   "cell_type": "code",
   "execution_count": 114,
   "id": "multiple-clearing",
   "metadata": {},
   "outputs": [],
   "source": [
    "categorical_selector = make_column_selector(dtype_include=object)\n",
    "cat_features = categorical_selector(df2)\n",
    "num_selector = make_column_selector(dtype_include=np.number)\n",
    "num_features = num_selector(df2)\n",
    "\n",
    "tst_ct = make_column_transformer(\n",
    "    (PowerTransformer(), num_features),\n",
    "    (OneHotEncoder(handle_unknown='ignore'), cat_features),\n",
    "    remainder='passthrough'\n",
    ")"
   ]
  },
  {
   "cell_type": "code",
   "execution_count": 124,
   "id": "billion-playback",
   "metadata": {},
   "outputs": [
    {
     "data": {
      "text/plain": [
       "{'powertransformer': PowerTransformer(),\n",
       " 'onehotencoder': OneHotEncoder(handle_unknown='ignore')}"
      ]
     },
     "execution_count": 124,
     "metadata": {},
     "output_type": "execute_result"
    }
   ],
   "source": [
    "tst_ct.named_transformers_"
   ]
  },
  {
   "cell_type": "code",
   "execution_count": 116,
   "id": "posted-category",
   "metadata": {},
   "outputs": [
    {
     "data": {
      "text/plain": [
       "[]"
      ]
     },
     "execution_count": 116,
     "metadata": {},
     "output_type": "execute_result"
    }
   ],
   "source": [
    "cat_features"
   ]
  },
  {
   "cell_type": "code",
   "execution_count": 123,
   "id": "adjacent-award",
   "metadata": {},
   "outputs": [
    {
     "data": {
      "text/plain": [
       "['TST',\n",
       " 'C',\n",
       " 'chronom_time_Продувка',\n",
       " 'gas_CO2_mean',\n",
       " 'produv_mean_RAS',\n",
       " 'gas_T_mean',\n",
       " 'lom_VES_VLD4',\n",
       " 'chronom_time_межпл. простой',\n",
       " 'gas_T_start_povalka',\n",
       " 'chronom_time_Обрыв горловины',\n",
       " 'gas_O2_sum',\n",
       " 'gas_O2_mean']"
      ]
     },
     "execution_count": 123,
     "metadata": {},
     "output_type": "execute_result"
    }
   ],
   "source": [
    "num_features"
   ]
  },
  {
   "cell_type": "code",
   "execution_count": 115,
   "id": "intermediate-moral",
   "metadata": {},
   "outputs": [
    {
     "data": {
      "text/plain": [
       "(2061, 12)"
      ]
     },
     "execution_count": 115,
     "metadata": {},
     "output_type": "execute_result"
    }
   ],
   "source": [
    "df_train2 = tst_ct.fit_transform(df2)\n",
    "df_train2.shape"
   ]
  },
  {
   "cell_type": "code",
   "execution_count": 162,
   "id": "aboriginal-athens",
   "metadata": {},
   "outputs": [
    {
     "data": {
      "text/plain": [
       "array([[ 0.10596412,  0.66180223, -0.17502005, ..., -0.4326711 ,\n",
       "        -0.55881951, -0.43273007],\n",
       "       [ 0.98310972,  0.01287873,  0.47901708, ..., -0.4326711 ,\n",
       "         0.92026302,  0.51794354],\n",
       "       [ 0.92325985,  0.34792888,  0.39237041, ..., -0.4326711 ,\n",
       "        -0.22629763, -0.22096891],\n",
       "       ...,\n",
       "       [-1.41329545,  0.70523772, -0.11591865, ...,  2.31298012,\n",
       "        -0.41888216, -0.81200729],\n",
       "       [ 0.09171901,  1.05607086, -1.39645295, ..., -0.4326711 ,\n",
       "        -0.45727661, -1.04681583],\n",
       "       [ 0.65636377,  0.36690757, -3.32136061, ...,  2.31852434,\n",
       "         0.89724897, -0.14364097]])"
      ]
     },
     "execution_count": 162,
     "metadata": {},
     "output_type": "execute_result"
    }
   ],
   "source": [
    "df_train2[:, 2:]"
   ]
  },
  {
   "cell_type": "code",
   "execution_count": 208,
   "id": "hollow-myrtle",
   "metadata": {},
   "outputs": [],
   "source": [
    "X = df_train2[:, 2:]\n",
    "y = df_train2[:,0]"
   ]
  },
  {
   "cell_type": "code",
   "execution_count": 193,
   "id": "gothic-dietary",
   "metadata": {},
   "outputs": [
    {
     "data": {
      "text/plain": [
       "array([ 0.14673368,  0.13579262,  0.17556149,  0.1694447 , -0.01265363])"
      ]
     },
     "execution_count": 193,
     "metadata": {},
     "output_type": "execute_result"
    }
   ],
   "source": [
    "model = LassoCV(random_state=313, n_jobs=-1)\n",
    "\n",
    "scores = cross_val_score(model, X, y, n_jobs=-1, scoring='r2')\n",
    "scores"
   ]
  },
  {
   "cell_type": "code",
   "execution_count": 209,
   "id": "treated-extreme",
   "metadata": {},
   "outputs": [
    {
     "data": {
      "text/plain": [
       "LassoCV(n_jobs=-1, random_state=313)"
      ]
     },
     "execution_count": 209,
     "metadata": {},
     "output_type": "execute_result"
    }
   ],
   "source": [
    "model = LassoCV(random_state=313, n_jobs=-1)\n",
    "\n",
    "model.fit(X, y)"
   ]
  },
  {
   "cell_type": "code",
   "execution_count": 210,
   "id": "continental-teddy",
   "metadata": {},
   "outputs": [
    {
     "data": {
      "text/plain": [
       "0.18348648129018452"
      ]
     },
     "execution_count": 210,
     "metadata": {},
     "output_type": "execute_result"
    }
   ],
   "source": [
    "model.score(X,y)"
   ]
  },
  {
   "cell_type": "code",
   "execution_count": 211,
   "id": "owned-generic",
   "metadata": {},
   "outputs": [
    {
     "data": {
      "image/png": "[encoded data removed]",
      "text/plain": [
       "<Figure size 720x432 with 1 Axes>"
      ]
     },
     "metadata": {
      "needs_background": "light"
     },
     "output_type": "display_data"
    }
   ],
   "source": [
    "plt.figure(figsize=(10,6))\n",
    "plt.semilogx(model.alphas_, model.mse_path_, \":\")\n",
    "plt.plot(\n",
    "    model.alphas_,\n",
    "    model.mse_path_.mean(axis=-1),\n",
    "    \"k\",\n",
    "    label=\"Среднее по всем фолдам\",\n",
    "    linewidth=2,\n",
    ")\n",
    "plt.axvline(\n",
    "    model.alpha_, linestyle=\"--\", color=\"k\", label=r\"Оценка $\\alpha$\"\n",
    ")\n",
    "\n",
    "plt.legend()\n",
    "\n",
    "plt.xlabel(r\"$\\alpha$\")\n",
    "plt.ylabel(\"Mean square error\")\n",
    "plt.show()"
   ]
  },
  {
   "cell_type": "code",
   "execution_count": 175,
   "id": "characteristic-heather",
   "metadata": {},
   "outputs": [
    {
     "data": {
      "text/plain": [
       "(0.000756152175044141, 0.63700206157508)"
      ]
     },
     "execution_count": 175,
     "metadata": {},
     "output_type": "execute_result"
    }
   ],
   "source": [
    "model.alphas_[np.argmin(model.mse_path_)], model.mse_path_.min()"
   ]
  },
  {
   "cell_type": "markdown",
   "id": "pressed-squad",
   "metadata": {},
   "source": [
    "# Предсказание содержания углерода"
   ]
  },
  {
   "cell_type": "code",
   "execution_count": 194,
   "id": "twenty-physics",
   "metadata": {},
   "outputs": [
    {
     "data": {
      "text/html": [
       "<div>\n",
       "<style scoped>\n",
       "    .dataframe tbody tr th:only-of-type {\n",
       "        vertical-align: middle;\n",
       "    }\n",
       "\n",
       "    .dataframe tbody tr th {\n",
       "        vertical-align: top;\n",
       "    }\n",
       "\n",
       "    .dataframe thead th {\n",
       "        text-align: right;\n",
       "    }\n",
       "</style>\n",
       "<table border=\"1\" class=\"dataframe\">\n",
       "  <thead>\n",
       "    <tr style=\"text-align: right;\">\n",
       "      <th></th>\n",
       "      <th>TST</th>\n",
       "      <th>C</th>\n",
       "      <th>gas_CO2_sum</th>\n",
       "      <th>sip_VES_VDSYP408</th>\n",
       "      <th>gas_T_start_povalka</th>\n",
       "      <th>gas_T_sum</th>\n",
       "      <th>gas_CO2_mean</th>\n",
       "      <th>lom_VES_sum</th>\n",
       "      <th>gas_AR_mean</th>\n",
       "      <th>gas_O2_mean</th>\n",
       "      <th>produv_mean_RAS</th>\n",
       "      <th>chronom_time_Продувка</th>\n",
       "    </tr>\n",
       "  </thead>\n",
       "  <tbody>\n",
       "    <tr>\n",
       "      <th>0</th>\n",
       "      <td>1690</td>\n",
       "      <td>0.060</td>\n",
       "      <td>34936.083312</td>\n",
       "      <td>14080</td>\n",
       "      <td>785.416687</td>\n",
       "      <td>1.297695e+06</td>\n",
       "      <td>13.646908</td>\n",
       "      <td>76200</td>\n",
       "      <td>0.801776</td>\n",
       "      <td>8.080398</td>\n",
       "      <td>408.181995</td>\n",
       "      <td>1170</td>\n",
       "    </tr>\n",
       "    <tr>\n",
       "      <th>1</th>\n",
       "      <td>1683</td>\n",
       "      <td>0.097</td>\n",
       "      <td>46447.033896</td>\n",
       "      <td>18830</td>\n",
       "      <td>846.875000</td>\n",
       "      <td>1.484196e+06</td>\n",
       "      <td>11.761720</td>\n",
       "      <td>78600</td>\n",
       "      <td>0.838266</td>\n",
       "      <td>10.985339</td>\n",
       "      <td>437.750429</td>\n",
       "      <td>1230</td>\n",
       "    </tr>\n",
       "    <tr>\n",
       "      <th>2</th>\n",
       "      <td>1662</td>\n",
       "      <td>0.091</td>\n",
       "      <td>36527.960575</td>\n",
       "      <td>16080</td>\n",
       "      <td>831.597229</td>\n",
       "      <td>1.406451e+06</td>\n",
       "      <td>12.723079</td>\n",
       "      <td>76300</td>\n",
       "      <td>0.828832</td>\n",
       "      <td>8.745518</td>\n",
       "      <td>433.941227</td>\n",
       "      <td>1226</td>\n",
       "    </tr>\n",
       "    <tr>\n",
       "      <th>3</th>\n",
       "      <td>1609</td>\n",
       "      <td>0.410</td>\n",
       "      <td>44239.906145</td>\n",
       "      <td>22150</td>\n",
       "      <td>826.041687</td>\n",
       "      <td>1.432472e+06</td>\n",
       "      <td>13.566362</td>\n",
       "      <td>84100</td>\n",
       "      <td>0.835434</td>\n",
       "      <td>9.016227</td>\n",
       "      <td>392.992501</td>\n",
       "      <td>1058</td>\n",
       "    </tr>\n",
       "    <tr>\n",
       "      <th>4</th>\n",
       "      <td>1682</td>\n",
       "      <td>0.120</td>\n",
       "      <td>39021.231253</td>\n",
       "      <td>19550</td>\n",
       "      <td>809.722229</td>\n",
       "      <td>1.368819e+06</td>\n",
       "      <td>13.643787</td>\n",
       "      <td>76100</td>\n",
       "      <td>0.802074</td>\n",
       "      <td>8.470485</td>\n",
       "      <td>396.448585</td>\n",
       "      <td>1239</td>\n",
       "    </tr>\n",
       "    <tr>\n",
       "      <th>...</th>\n",
       "      <td>...</td>\n",
       "      <td>...</td>\n",
       "      <td>...</td>\n",
       "      <td>...</td>\n",
       "      <td>...</td>\n",
       "      <td>...</td>\n",
       "      <td>...</td>\n",
       "      <td>...</td>\n",
       "      <td>...</td>\n",
       "      <td>...</td>\n",
       "      <td>...</td>\n",
       "      <td>...</td>\n",
       "    </tr>\n",
       "    <tr>\n",
       "      <th>2056</th>\n",
       "      <td>1626</td>\n",
       "      <td>0.145</td>\n",
       "      <td>55072.672708</td>\n",
       "      <td>14640</td>\n",
       "      <td>772.569458</td>\n",
       "      <td>1.345098e+06</td>\n",
       "      <td>17.997605</td>\n",
       "      <td>73600</td>\n",
       "      <td>0.736660</td>\n",
       "      <td>4.152793</td>\n",
       "      <td>372.911585</td>\n",
       "      <td>1063</td>\n",
       "    </tr>\n",
       "    <tr>\n",
       "      <th>2057</th>\n",
       "      <td>1643</td>\n",
       "      <td>0.087</td>\n",
       "      <td>48031.796573</td>\n",
       "      <td>19210</td>\n",
       "      <td>812.152771</td>\n",
       "      <td>1.280855e+06</td>\n",
       "      <td>12.629975</td>\n",
       "      <td>76600</td>\n",
       "      <td>0.831568</td>\n",
       "      <td>8.228796</td>\n",
       "      <td>449.224197</td>\n",
       "      <td>1108</td>\n",
       "    </tr>\n",
       "    <tr>\n",
       "      <th>2058</th>\n",
       "      <td>1615</td>\n",
       "      <td>0.141</td>\n",
       "      <td>45200.696418</td>\n",
       "      <td>19420</td>\n",
       "      <td>782.986084</td>\n",
       "      <td>1.280969e+06</td>\n",
       "      <td>13.776500</td>\n",
       "      <td>64200</td>\n",
       "      <td>0.772488</td>\n",
       "      <td>6.857118</td>\n",
       "      <td>410.935288</td>\n",
       "      <td>1058</td>\n",
       "    </tr>\n",
       "    <tr>\n",
       "      <th>2059</th>\n",
       "      <td>1654</td>\n",
       "      <td>0.270</td>\n",
       "      <td>53715.803051</td>\n",
       "      <td>16100</td>\n",
       "      <td>779.513855</td>\n",
       "      <td>1.397241e+06</td>\n",
       "      <td>14.838620</td>\n",
       "      <td>66200</td>\n",
       "      <td>0.743987</td>\n",
       "      <td>6.075653</td>\n",
       "      <td>346.784867</td>\n",
       "      <td>1169</td>\n",
       "    </tr>\n",
       "    <tr>\n",
       "      <th>2060</th>\n",
       "      <td>1630</td>\n",
       "      <td>0.183</td>\n",
       "      <td>61105.856014</td>\n",
       "      <td>21150</td>\n",
       "      <td>853.819458</td>\n",
       "      <td>1.466692e+06</td>\n",
       "      <td>12.778305</td>\n",
       "      <td>76100</td>\n",
       "      <td>0.836728</td>\n",
       "      <td>8.985557</td>\n",
       "      <td>220.462934</td>\n",
       "      <td>1208</td>\n",
       "    </tr>\n",
       "  </tbody>\n",
       "</table>\n",
       "<p>2061 rows × 12 columns</p>\n",
       "</div>"
      ],
      "text/plain": [
       "       TST      C   gas_CO2_sum  sip_VES_VDSYP408  gas_T_start_povalka  \\\n",
       "0     1690  0.060  34936.083312             14080           785.416687   \n",
       "1     1683  0.097  46447.033896             18830           846.875000   \n",
       "2     1662  0.091  36527.960575             16080           831.597229   \n",
       "3     1609  0.410  44239.906145             22150           826.041687   \n",
       "4     1682  0.120  39021.231253             19550           809.722229   \n",
       "...    ...    ...           ...               ...                  ...   \n",
       "2056  1626  0.145  55072.672708             14640           772.569458   \n",
       "2057  1643  0.087  48031.796573             19210           812.152771   \n",
       "2058  1615  0.141  45200.696418             19420           782.986084   \n",
       "2059  1654  0.270  53715.803051             16100           779.513855   \n",
       "2060  1630  0.183  61105.856014             21150           853.819458   \n",
       "\n",
       "         gas_T_sum  gas_CO2_mean  lom_VES_sum  gas_AR_mean  gas_O2_mean  \\\n",
       "0     1.297695e+06     13.646908        76200     0.801776     8.080398   \n",
       "1     1.484196e+06     11.761720        78600     0.838266    10.985339   \n",
       "2     1.406451e+06     12.723079        76300     0.828832     8.745518   \n",
       "3     1.432472e+06     13.566362        84100     0.835434     9.016227   \n",
       "4     1.368819e+06     13.643787        76100     0.802074     8.470485   \n",
       "...            ...           ...          ...          ...          ...   \n",
       "2056  1.345098e+06     17.997605        73600     0.736660     4.152793   \n",
       "2057  1.280855e+06     12.629975        76600     0.831568     8.228796   \n",
       "2058  1.280969e+06     13.776500        64200     0.772488     6.857118   \n",
       "2059  1.397241e+06     14.838620        66200     0.743987     6.075653   \n",
       "2060  1.466692e+06     12.778305        76100     0.836728     8.985557   \n",
       "\n",
       "      produv_mean_RAS  chronom_time_Продувка  \n",
       "0          408.181995                   1170  \n",
       "1          437.750429                   1230  \n",
       "2          433.941227                   1226  \n",
       "3          392.992501                   1058  \n",
       "4          396.448585                   1239  \n",
       "...               ...                    ...  \n",
       "2056       372.911585                   1063  \n",
       "2057       449.224197                   1108  \n",
       "2058       410.935288                   1058  \n",
       "2059       346.784867                   1169  \n",
       "2060       220.462934                   1208  \n",
       "\n",
       "[2061 rows x 12 columns]"
      ]
     },
     "execution_count": 194,
     "metadata": {},
     "output_type": "execute_result"
    }
   ],
   "source": [
    "df_train[targets+c_corr_features]"
   ]
  },
  {
   "cell_type": "markdown",
   "id": "distinguished-employment",
   "metadata": {},
   "source": [
    "## Columns tramsforming"
   ]
  },
  {
   "cell_type": "code",
   "execution_count": 195,
   "id": "beginning-treasury",
   "metadata": {},
   "outputs": [],
   "source": [
    "df3 = df_train[targets+c_corr_features]"
   ]
  },
  {
   "cell_type": "code",
   "execution_count": 196,
   "id": "acceptable-stand",
   "metadata": {},
   "outputs": [],
   "source": [
    "categorical_selector = make_column_selector(dtype_include=object)\n",
    "cat_features = categorical_selector(df3)\n",
    "num_selector = make_column_selector(dtype_include=np.number)\n",
    "num_features = num_selector(df3)\n",
    "\n",
    "c_ct = make_column_transformer(\n",
    "    (PowerTransformer(), num_features),\n",
    "    (OneHotEncoder(handle_unknown='ignore'), cat_features),\n",
    "    remainder='passthrough'\n",
    ")"
   ]
  },
  {
   "cell_type": "code",
   "execution_count": 198,
   "id": "supported-visitor",
   "metadata": {},
   "outputs": [
    {
     "data": {
      "text/plain": [
       "[]"
      ]
     },
     "execution_count": 198,
     "metadata": {},
     "output_type": "execute_result"
    }
   ],
   "source": [
    "cat_features"
   ]
  },
  {
   "cell_type": "code",
   "execution_count": 199,
   "id": "hearing-hayes",
   "metadata": {},
   "outputs": [
    {
     "data": {
      "text/plain": [
       "['TST',\n",
       " 'C',\n",
       " 'gas_CO2_sum',\n",
       " 'sip_VES_VDSYP408',\n",
       " 'gas_T_start_povalka',\n",
       " 'gas_T_sum',\n",
       " 'gas_CO2_mean',\n",
       " 'lom_VES_sum',\n",
       " 'gas_AR_mean',\n",
       " 'gas_O2_mean',\n",
       " 'produv_mean_RAS',\n",
       " 'chronom_time_Продувка']"
      ]
     },
     "execution_count": 199,
     "metadata": {},
     "output_type": "execute_result"
    }
   ],
   "source": [
    "num_features"
   ]
  },
  {
   "cell_type": "code",
   "execution_count": 201,
   "id": "fancy-general",
   "metadata": {},
   "outputs": [
    {
     "name": "stderr",
     "output_type": "stream",
     "text": [
      "/home/msemezhov/.local/lib/python3.6/site-packages/sklearn/preprocessing/_data.py:2995: RuntimeWarning: divide by zero encountered in log\n",
      "  loglike = -n_samples / 2 * np.log(x_trans.var())\n"
     ]
    },
    {
     "data": {
      "text/plain": [
       "(2061, 12)"
      ]
     },
     "execution_count": 201,
     "metadata": {},
     "output_type": "execute_result"
    }
   ],
   "source": [
    "df_train3 = c_ct.fit_transform(df3)\n",
    "df_train3.shape"
   ]
  },
  {
   "cell_type": "code",
   "execution_count": 212,
   "id": "ceramic-harris",
   "metadata": {},
   "outputs": [],
   "source": [
    "X = df_train3[:, 2:]\n",
    "y = df_train3[:,1]"
   ]
  },
  {
   "cell_type": "code",
   "execution_count": 203,
   "id": "inappropriate-vacuum",
   "metadata": {},
   "outputs": [
    {
     "data": {
      "text/plain": [
       "array([0.55923806, 0.54319756, 0.48399262, 0.37633262, 0.51345036])"
      ]
     },
     "execution_count": 203,
     "metadata": {},
     "output_type": "execute_result"
    }
   ],
   "source": [
    "model_c = LassoCV(random_state=313, n_jobs=-1)\n",
    "\n",
    "scores = cross_val_score(model_c, X, y, n_jobs=-1, scoring='r2')\n",
    "scores"
   ]
  },
  {
   "cell_type": "code",
   "execution_count": 204,
   "id": "laden-prevention",
   "metadata": {},
   "outputs": [
    {
     "data": {
      "text/plain": [
       "LassoCV(n_jobs=-1, random_state=313)"
      ]
     },
     "execution_count": 204,
     "metadata": {},
     "output_type": "execute_result"
    }
   ],
   "source": [
    "model_c = LassoCV(random_state=313, n_jobs=-1)\n",
    "\n",
    "model_c.fit(X, y)"
   ]
  },
  {
   "cell_type": "code",
   "execution_count": 205,
   "id": "arranged-norwegian",
   "metadata": {},
   "outputs": [
    {
     "data": {
      "text/plain": [
       "0.5232556493585809"
      ]
     },
     "execution_count": 205,
     "metadata": {},
     "output_type": "execute_result"
    }
   ],
   "source": [
    "model_c.score(X,y)"
   ]
  },
  {
   "cell_type": "code",
   "execution_count": 213,
   "id": "joint-sustainability",
   "metadata": {},
   "outputs": [
    {
     "data": {
      "image/png": "[encoded data removed]",
      "text/plain": [
       "<Figure size 720x432 with 1 Axes>"
      ]
     },
     "metadata": {
      "needs_background": "light"
     },
     "output_type": "display_data"
    }
   ],
   "source": [
    "plt.figure(figsize=(10,6))\n",
    "plt.semilogx(model_c.alphas_, model_c.mse_path_, \":\")\n",
    "plt.plot(\n",
    "    model_c.alphas_,\n",
    "    model_c.mse_path_.mean(axis=-1),\n",
    "    \"k\",\n",
    "    label=\"Среднее по всем фолдам\",\n",
    "    linewidth=2,\n",
    ")\n",
    "plt.axvline(\n",
    "    model_c.alpha_, linestyle=\"--\", color=\"k\", label=r\"Оценка $\\alpha$\"\n",
    ")\n",
    "\n",
    "plt.legend()\n",
    "\n",
    "plt.xlabel(r\"$\\alpha$\")\n",
    "plt.ylabel(\"Mean square error\")\n",
    "plt.show()"
   ]
  },
  {
   "cell_type": "code",
   "execution_count": null,
   "id": "noble-sustainability",
   "metadata": {},
   "outputs": [],
   "source": []
  }
 ],
 "metadata": {
  "kernelspec": {
   "display_name": "Python 3",
   "language": "python",
   "name": "python3"
  },
  "language_info": {
   "codemirror_mode": {
    "name": "ipython",
    "version": 3
   },
   "file_extension": ".py",
   "mimetype": "text/x-python",
   "name": "python",
   "nbconvert_exporter": "python",
   "pygments_lexer": "ipython3",
   "version": "3.6.9"
  }
 },
 "nbformat": 4,
 "nbformat_minor": 5
}
