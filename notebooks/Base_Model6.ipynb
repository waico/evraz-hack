{
 "cells": [
  {
   "cell_type": "markdown",
   "id": "35a0f62f",
   "metadata": {},
   "source": [
    "# Process data (generate_dataset-9.py)"
   ]
  },
  {
   "cell_type": "code",
   "execution_count": 1,
   "id": "b811cc1e",
   "metadata": {},
   "outputs": [
    {
     "name": "stderr",
     "output_type": "stream",
     "text": [
      "C:\\Users\\Stepan\\AppData\\Local\\Temp/ipykernel_1520/1211325147.py:206: FutureWarning: Index.ravel returning ndarray is deprecated; in a future version this will return a view on self.\n",
      "  _gas_train.columns = [\"_\".join(x) for x in _gas_train.columns.ravel()]\n",
      "C:\\Users\\Stepan\\AppData\\Local\\Temp/ipykernel_1520/1211325147.py:222: FutureWarning: Index.ravel returning ndarray is deprecated; in a future version this will return a view on self.\n",
      "  _gas_test.columns = [\"_\".join(x) for x in _gas_test.columns.ravel()]\n"
     ]
    },
    {
     "name": "stdout",
     "output_type": "stream",
     "text": [
      "Nas: 2\n",
      "Shape: (2063, 98)\n",
      "Nas: 0\n",
      "Shape: (780, 98)\n",
      "Nas: 0\n",
      "Shape: (2061, 100)\n"
     ]
    }
   ],
   "source": [
    "import pandas as pd\n",
    "import os\n",
    "\n",
    "\n",
    "# Load data\n",
    "plavki_train = pd.read_csv('data/raw/plavki_train.csv', index_col='NPLV')\n",
    "plavki_test = pd.read_csv('data/raw/plavki_test.csv', index_col='NPLV')\n",
    "\n",
    "\n",
    "chugun_train  = pd.read_csv('data/raw/chugun_train.csv', index_col='NPLV')\n",
    "chugun_test  = pd.read_csv('data/raw/chugun_test.csv', index_col='NPLV')\n",
    "chugun_train = chugun_train.add_prefix('chugun_')\n",
    "chugun_test = chugun_test.add_prefix('chugun_')\n",
    "\n",
    "sip_train = pd.read_csv('data/raw/sip_train.csv')\n",
    "sip_test = pd.read_csv('data/raw/sip_test.csv')\n",
    "\n",
    "\n",
    "\n",
    "lom_train = pd.read_csv('data/raw/lom_train.csv')\n",
    "lom_test = pd.read_csv('data/raw/lom_test.csv')\n",
    "\n",
    "produv_train = pd.read_csv('data/raw/produv_train.csv')\n",
    "produv_test = pd.read_csv('data/raw/produv_test.csv')\n",
    "\n",
    "\n",
    "\n",
    "target_train = pd.read_csv('data/raw/target_train.csv', index_col='NPLV')\n",
    "\n",
    "sample_submission = pd.read_csv('data/raw/sample_submission.csv', index_col='NPLV')\n",
    "\n",
    "\n",
    "# drop many plavk\n",
    "mask = (plavki_train.index == 511135) & (plavki_train['plavka_ST_FURM'] != 46)\n",
    "plavki_train = plavki_train[~mask]\n",
    "\n",
    "# lom\n",
    "lom_train = lom_train.drop(columns='NML')\n",
    "lom_test = lom_test.drop(columns='NML')\n",
    "\n",
    "lom_train = pd.pivot(lom_train, index='NPLV', columns='VDL', values='VES').fillna(0).astype(int).add_prefix('lom_VES_VLD')\n",
    "lom_test = pd.pivot(lom_test, index='NPLV', columns='VDL', values='VES').fillna(0).astype(int).add_prefix('lom_VES_VLD')\n",
    "\n",
    "lom_train['lom_components'] = lom_train.apply(lambda x: (x > 0).sum(), axis=1)\n",
    "lom_test['lom_components'] = lom_test.apply(lambda x: (x > 0).sum(), axis=1)\n",
    "\n",
    "lom_train['lom_VES_sum'] = lom_train[[x for x in lom_train.columns if x.startswith('lom_VES_VLD')]].apply(lambda x: x.sum(), axis=1)\n",
    "\n",
    "lom_test['lom_VES_sum'] = lom_test[[x for x in lom_test.columns if x.startswith('lom_VES_VLD')]].apply(lambda x: x.sum(), axis=1)\n",
    "\n",
    "\n",
    "\n",
    "\n",
    "\n",
    "# remove 1 column\n",
    "lom_train = lom_train[lom_test.columns]\n",
    "\n",
    "# sip\n",
    "sip_train = sip_train.drop(columns=['NMSYP', 'DAT_OTD'])\n",
    "sip_test = sip_test.drop(columns=['NMSYP', 'DAT_OTD'])\n",
    "sip_train = sip_train.groupby(['NPLV', 'VDSYP'])['VSSYP'].sum().reset_index()\n",
    "sip_test = sip_test.groupby(['NPLV', 'VDSYP'])['VSSYP'].sum().reset_index()\n",
    "sip_train = pd.pivot(sip_train, index='NPLV', columns='VDSYP', values='VSSYP').fillna(0).astype(int).add_prefix('sip_VES_VDSYP')\n",
    "sip_test = pd.pivot(sip_test, index='NPLV', columns='VDSYP', values='VSSYP').fillna(0).astype(int).add_prefix('sip_VES_VDSYP')\n",
    "# Remove columns\n",
    "sip_test = sip_test[sip_train.columns]\n",
    "\n",
    "sip_train['sip_components'] = sip_train.apply(lambda x: (x > 0).sum(), axis=1)\n",
    "sip_test['sip_components'] = sip_test.apply(lambda x: (x > 0).sum(), axis=1)\n",
    "\n",
    "\n",
    "# produv_train\n",
    "min_pol_train = produv_train.groupby('NPLV')['POL'].min().to_frame().add_prefix('produv_min_')\n",
    "mean_pol_train = produv_train.groupby('NPLV')['POL'].mean().to_frame().add_prefix('produv_mean_')\n",
    "max_pol_train = produv_train.groupby('NPLV')['POL'].max().to_frame().add_prefix('produv_max_')\n",
    "\n",
    "min_pol_test = produv_test.groupby('NPLV')['POL'].min().to_frame().add_prefix('produv_min_')\n",
    "mean_pol_test = produv_test.groupby('NPLV')['POL'].mean().to_frame().add_prefix('produv_mean_')\n",
    "max_pol_test = produv_test.groupby('NPLV')['POL'].max().to_frame().add_prefix('produv_max_')\n",
    "\n",
    "ras_train = produv_train.groupby('NPLV')['RAS'].sum().to_frame().add_prefix('produv_sum_')\n",
    "ras_test = produv_test.groupby('NPLV')['RAS'].sum().to_frame().add_prefix('produv_sum_')\n",
    "\n",
    "ras_train_mean = produv_train.groupby('NPLV')['RAS'].mean().to_frame().add_prefix('produv_mean_')\n",
    "ras_test_mean = produv_test.groupby('NPLV')['RAS'].mean().to_frame().add_prefix('produv_mean_')\n",
    "\n",
    "produv_train_groupped = pd.concat([max_pol_train, mean_pol_train, min_pol_train, ras_train_mean, ras_train], axis=1)\n",
    "produv_test_groupped = pd.concat([max_pol_test, mean_pol_test, min_pol_test, ras_test_mean, ras_test], axis=1)\n",
    "\n",
    "\n",
    "\n",
    "#########################\n",
    "chronom_train = pd.read_csv('data/raw/chronom_train.csv', index_col=0, parse_dates=['VR_NACH', 'VR_KON'])\n",
    "chronom_test = pd.read_csv('data/raw/chronom_test.csv', index_col=0, parse_dates=['VR_NACH', 'VR_KON'])\n",
    "gas_train = pd.read_csv('data/raw/gas_train.csv')\n",
    "gas_test = pd.read_csv('data/raw/gas_test.csv')\n",
    "\n",
    "# train\n",
    "chronom_povalka_start_train = chronom_train[chronom_train['NOP']=='Продувка'].groupby('NPLV')['VR_KON'].max()\n",
    "chronom_povalka_start_train.columns = ['chronom_povalka_start']\n",
    "chronom_produvka_start_train = chronom_train[chronom_train['NOP']=='Продувка'].groupby('NPLV')['VR_NACH'].min()\n",
    "chronom_produvka_start_train.columns = ['chronom_produvka_start']\n",
    "\n",
    "chronom__df_train = pd.merge(chronom_povalka_start_train,chronom_produvka_start_train, on='NPLV')\n",
    "chronom__df_train.columns = ['chronom_povalka_start', 'chronom_produvka_start']\n",
    "\n",
    "gas_train['Time'] = pd.to_datetime(gas_train['Time'])\n",
    "gas_train = gas_train.set_index(gas_train['Time'])\n",
    "\n",
    "data = []\n",
    "for n in chronom__df_train.index:\n",
    "    idx = gas_train[gas_train['NPLV']==n].index.get_loc(chronom__df_train.loc[n]['chronom_povalka_start'], method='nearest')\n",
    "    ___df = gas_train[gas_train['NPLV']==n].iloc[idx]\n",
    "    data.append([___df['NPLV'],___df['T']])\n",
    "    \n",
    "temp_gaz_train = pd.DataFrame(data, columns=['NPLV','gas_T_start_povalka'])\n",
    "\n",
    "#test\n",
    "chronom_povalka_start_test = chronom_test[chronom_test['NOP']=='Продувка'].groupby('NPLV')['VR_KON'].max()\n",
    "chronom_povalka_start_test.columns = ['chronom_povalka_start']\n",
    "chronom_produvka_start_test = chronom_test[chronom_test['NOP']=='Продувка'].groupby('NPLV')['VR_NACH'].min()\n",
    "chronom_produvka_start_test.columns = ['chronom_produvka_start']\n",
    "\n",
    "chronom__df_test = pd.merge(chronom_povalka_start_test,chronom_produvka_start_test, on='NPLV')\n",
    "chronom__df_test.columns = ['chronom_povalka_start', 'chronom_produvka_start']\n",
    "\n",
    "gas_test['Time'] = pd.to_datetime(gas_test['Time'])\n",
    "gas_test = gas_test.set_index(gas_test['Time'])\n",
    "\n",
    "data = []\n",
    "for n in chronom__df_test.index:\n",
    "    idx = gas_test[gas_test['NPLV']==n].index.get_loc(chronom__df_test.loc[n]['chronom_povalka_start'], method='nearest')\n",
    "    ___df = gas_test[gas_test['NPLV']==n].iloc[idx]\n",
    "    data.append([___df['NPLV'],___df['T']])\n",
    "    \n",
    "temp_gaz_test = pd.DataFrame(data, columns=['NPLV','gas_T_start_povalka'])\n",
    "\n",
    "\n",
    "\n",
    "\n",
    "\n",
    "\n",
    "## chronom_train\n",
    "chronom_train = pd.read_csv('data/raw/chronom_train.csv', index_col=0, parse_dates=['VR_NACH', 'VR_KON'])\n",
    "chronom_test = pd.read_csv('data/raw/chronom_test.csv', index_col=0, parse_dates=['VR_NACH', 'VR_KON'])\n",
    "\n",
    "\n",
    "\n",
    "\n",
    "chronom_train['operation_time'] = (chronom_train['VR_KON'] - chronom_train['VR_NACH']).dt.total_seconds()\n",
    "chronom_test['operation_time'] = (chronom_test['VR_KON'] - chronom_test['VR_NACH']).dt.total_seconds()\n",
    "\n",
    "chronom_train = chronom_train.groupby(['NPLV', 'NOP'])['operation_time'].mean().reset_index()\n",
    "chronom_test = chronom_test.groupby(['NPLV', 'NOP'])['operation_time'].mean().reset_index()\n",
    "\n",
    "chronom_train = pd.pivot(chronom_train, index='NPLV', columns='NOP', values='operation_time').fillna(0).astype(int)\n",
    "chronom_test = pd.pivot(chronom_test, index='NPLV', columns='NOP', values='operation_time').fillna(0).astype(int)\n",
    "\n",
    "common_columns = [x for x in chronom_test.columns if x in chronom_train.columns]\n",
    "\n",
    "chronom_train = chronom_train[common_columns]\n",
    "chronom_test = chronom_test[common_columns]\n",
    "\n",
    "chronom_train = chronom_train.add_prefix('chronom_time_')\n",
    "chronom_test = chronom_test.add_prefix('chronom_time_')\n",
    "\n",
    "\n",
    "\n",
    "\n",
    "\n",
    "\n",
    "\n",
    "\n",
    "\n",
    "\n",
    "# gas_train\n",
    "\n",
    "\n",
    "\n",
    "gas_train = pd.read_csv('data/raw/gas_train.csv')\n",
    "gas_test = pd.read_csv('data/raw/gas_test.csv')\n",
    "\n",
    "\n",
    "gas_train = gas_train.drop(columns='Time')\n",
    "gas_test = gas_test.drop(columns='Time')\n",
    "\n",
    "# gas_train[['V_O2','V_N2','V_H2','V_CO2','V_CO','V_AR']] = gas_train[['O2','N2','H2','CO2','CO','AR']]*gas_train['V']\n",
    "# gas_test[['V_O2','V_N2','V_H2','V_CO2','V_CO','V_AR']] = gas_test[['O2','N2','H2','CO2','CO','AR']]*gas_train['V']\n",
    "\n",
    "\n",
    "\n",
    "_gas_train = gas_train.groupby(['NPLV']).agg(\n",
    "    {\n",
    "        'V':['mean', 'sum'],\n",
    "        'T':['mean','sum','max'],\n",
    "        'O2':['mean', 'sum'],\n",
    "        'N2':['mean', 'sum'],\n",
    "        'H2':['mean', 'sum'],\n",
    "        'CO2':['mean', 'sum'],\n",
    "        'CO':['mean', 'sum'],\n",
    "        'AR':['mean', 'sum'],\n",
    "        'T фурмы 1':['mean', 'sum'],\n",
    "        'T фурмы 2':['mean', 'sum'],\n",
    "        'O2_pressure':['mean', 'sum'],\n",
    "    })\n",
    "_gas_train.columns = [\"_\".join(x) for x in _gas_train.columns.ravel()]\n",
    "\n",
    "_gas_test = gas_test.groupby(['NPLV']).agg(\n",
    "    {\n",
    "        'V':['mean', 'sum'],\n",
    "        'T':['mean','sum','max'],\n",
    "        'O2':['mean', 'sum'],\n",
    "        'N2':['mean', 'sum'],\n",
    "        'H2':['mean', 'sum'],\n",
    "        'CO2':['mean', 'sum'],\n",
    "        'CO':['mean', 'sum'],\n",
    "        'AR':['mean', 'sum'],\n",
    "        'T фурмы 1':['mean', 'sum'],\n",
    "        'T фурмы 2':['mean', 'sum'],\n",
    "        'O2_pressure':['mean', 'sum'],\n",
    "    })\n",
    "_gas_test.columns = [\"_\".join(x) for x in _gas_test.columns.ravel()]\n",
    "\n",
    "\n",
    "gas_train = _gas_train.add_prefix('gas_')\n",
    "gas_test = _gas_test.add_prefix('gas_')\n",
    "\n",
    "\n",
    "\n",
    "# Merge\n",
    "train = pd.merge(target_train, chugun_train, left_index=True, right_index=True, how='outer')\n",
    "train = pd.merge(train, plavki_train, left_index=True, right_index=True, how='outer')\n",
    "train = pd.merge(train, lom_train, left_index=True, right_index=True, how='outer')\n",
    "train = pd.merge(train, sip_train, left_index=True, right_index=True, how='outer')\n",
    "train = pd.merge(train, produv_train_groupped, left_index=True, right_index=True, how='outer')\n",
    "train = pd.merge(train, gas_train, left_index=True, right_index=True, how='outer')\n",
    "train = pd.merge(train, chronom_train, left_index=True, right_index=True, how='outer')\n",
    "\n",
    "train = pd.merge(train, temp_gaz_train.set_index('NPLV'), left_index=True, right_index=True, how='outer')\n",
    "\n",
    "print(\"Nas:\", train.isna().sum().sum())\n",
    "print(\"Shape:\", train.shape)\n",
    "\n",
    "test = pd.merge(sample_submission, chugun_test, left_index=True, right_index=True, how='outer')\n",
    "test = pd.merge(test, plavki_test, left_index=True, right_index=True, how='outer')\n",
    "test = pd.merge(test, lom_test, left_index=True, right_index=True, how='outer')\n",
    "test = pd.merge(test, sip_test, left_index=True, right_index=True, how='outer')\n",
    "test = pd.merge(test, produv_test_groupped, left_index=True, right_index=True, how='outer')\n",
    "test = pd.merge(test, gas_test, left_index=True, right_index=True, how='outer')\n",
    "test = pd.merge(test, chronom_test, left_index=True, right_index=True, how='outer')\n",
    "\n",
    "test = pd.merge(test, temp_gaz_test.set_index('NPLV'), left_index=True, right_index=True, how='outer')\n",
    "\n",
    "print(\"Nas:\", test.isna().sum().sum())\n",
    "print(\"Shape:\", test.shape)\n",
    "\n",
    "\n",
    "# Feature generation\n",
    "# train = pd.read_csv('data/processed/train.csv', parse_dates=['chugun_DATA_ZAMERA', 'plavka_VR_NACH', 'plavka_VR_KON']).dropna()\n",
    "# test = pd.read_csv('data/processed/test.csv', parse_dates=['chugun_DATA_ZAMERA', 'plavka_VR_NACH', 'plavka_VR_KON'])\n",
    "\n",
    "train['chugun_DATA_ZAMERA'] = pd.to_datetime(train['chugun_DATA_ZAMERA'])\n",
    "train['plavka_VR_NACH'] = pd.to_datetime(train['plavka_VR_NACH'])\n",
    "train['plavka_VR_KON'] = pd.to_datetime(train['plavka_VR_KON'])\n",
    "\n",
    "test['chugun_DATA_ZAMERA'] = pd.to_datetime(test['chugun_DATA_ZAMERA'])\n",
    "test['plavka_VR_NACH'] = pd.to_datetime(test['plavka_VR_NACH'])\n",
    "test['plavka_VR_KON'] = pd.to_datetime(test['plavka_VR_KON'])\n",
    "\n",
    "train['timer'] = (train['chugun_DATA_ZAMERA'] - train['plavka_VR_NACH']).dt.total_seconds()\n",
    "test['timer'] = (test['chugun_DATA_ZAMERA'] - test['plavka_VR_NACH']).dt.total_seconds()\n",
    "\n",
    "train['VES/O2'] = train['chugun_VES'] / train['gas_O2_sum']\n",
    "test['VES/O2'] = test['chugun_VES'] / test['gas_O2_sum']\n",
    "\n",
    "\n",
    "train = train.dropna()\n",
    "\n",
    "train.to_csv('data/processed/train-2.csv')\n",
    "test.to_csv('data/processed/test-2.csv')\n",
    "\n",
    "print(\"Nas:\", train.isna().sum().sum())\n",
    "print(\"Shape:\", train.shape)"
   ]
  },
  {
   "cell_type": "markdown",
   "id": "3260dc6c",
   "metadata": {},
   "source": [
    "# Библиотеки"
   ]
  },
  {
   "cell_type": "code",
   "execution_count": 1,
   "id": "afdce6e9",
   "metadata": {},
   "outputs": [],
   "source": [
    "# import dill\n",
    "import sys\n",
    "import pickle\n",
    "import random\n",
    "import numpy as np\n",
    "import pandas as pd\n",
    "import warnings\n",
    "from pandas.api.types import is_numeric_dtype\n",
    "from catboost import CatBoostRegressor, Pool\n",
    "from matplotlib import pyplot as plt\n",
    "from IPython.display import display, Markdown\n",
    "from sklearn.preprocessing import PowerTransformer, QuantileTransformer\n",
    "\n",
    "sys.path.append('utils')\n",
    "from common_utils import fast_plot, fast_hist, fast_legend, feature_snapshot, fast_scatter\n",
    "\n",
    "warnings.filterwarnings('ignore')\n",
    "plt.rcParams.update({'figure.max_open_warning': 0})  \n",
    "pd.set_option('display.max_rows', 100)\n",
    "pd.set_option('display.max_colwidth', 100)\n",
    "pd.set_option('display.max_columns', 100)"
   ]
  },
  {
   "cell_type": "code",
   "execution_count": 2,
   "id": "767d62e1",
   "metadata": {},
   "outputs": [],
   "source": [
    "# Set a seed value\n",
    "seed_value= 12321 \n",
    "# 1. Set `PYTHONHASHSEED` environment variable at a fixed value\n",
    "import os\n",
    "os.environ['PYTHONHASHSEED']=str(seed_value)\n",
    "# 2. Set `python` built-in pseudo-random generator at a fixed value\n",
    "import random\n",
    "random.seed(seed_value)\n",
    "# 3. Set `numpy` pseudo-random generator at a fixed value\n",
    "import numpy as np\n",
    "np.random.seed(seed_value)"
   ]
  },
  {
   "cell_type": "markdown",
   "id": "usual-dollar",
   "metadata": {},
   "source": [
    "# Загрузка данных"
   ]
  },
  {
   "cell_type": "code",
   "execution_count": 3,
   "id": "ef497004",
   "metadata": {},
   "outputs": [
    {
     "name": "stdout",
     "output_type": "stream",
     "text": [
      "Train: (2061, 101)\n",
      "Test: (780, 101) \n",
      "\n",
      "Wall time: 64 ms\n"
     ]
    }
   ],
   "source": [
    "%%time\n",
    "train = pd.read_csv('data/processed/train-2.csv', parse_dates=['chugun_DATA_ZAMERA', 'plavka_VR_NACH', 'plavka_VR_KON'])\n",
    "test = pd.read_csv('data/processed/test-2.csv', parse_dates=['chugun_DATA_ZAMERA', 'plavka_VR_NACH', 'plavka_VR_KON'])\n",
    "\n",
    "print('Train:', train.shape)\n",
    "print('Test:', test.shape, '\\n')"
   ]
  },
  {
   "cell_type": "code",
   "execution_count": 4,
   "id": "28860771",
   "metadata": {},
   "outputs": [],
   "source": [
    "chronom_train = pd.read_csv('data/raw/chronom_train.csv', index_col=0, parse_dates=['VR_NACH', 'VR_KON'])\n",
    "chronom_test = pd.read_csv('data/raw/chronom_test.csv', index_col=0, parse_dates=['VR_NACH', 'VR_KON'])\n",
    "\n",
    "def get_plavka_time_df(chronom):\n",
    "    df = chronom.groupby('NPLV').apply(lambda x: x[x['NOP'] == 'Продувка'][['VR_NACH', 'VR_KON']])\n",
    "    df = df.reset_index().drop(columns='level_1')\n",
    "    \n",
    "    return df\n",
    "\n",
    "train_plavka_time = get_plavka_time_df(chronom_train)\n",
    "test_plavka_time = get_plavka_time_df(chronom_test)"
   ]
  },
  {
   "cell_type": "code",
   "execution_count": 5,
   "id": "9de315a0",
   "metadata": {},
   "outputs": [],
   "source": [
    "train = pd.merge(train, train_plavka_time, left_on='NPLV', right_on='NPLV')\n",
    "test = pd.merge(test, test_plavka_time, left_on='NPLV', right_on='NPLV')"
   ]
  },
  {
   "cell_type": "code",
   "execution_count": 6,
   "id": "d57abeed",
   "metadata": {},
   "outputs": [],
   "source": [
    "train['time_delta'] = (train['VR_KON'] - train['chugun_DATA_ZAMERA']).dt.total_seconds()\n",
    "test['time_delta'] = (test['VR_KON'] - test['chugun_DATA_ZAMERA']).dt.total_seconds()"
   ]
  },
  {
   "cell_type": "code",
   "execution_count": 7,
   "id": "697a3580",
   "metadata": {},
   "outputs": [
    {
     "data": {
      "image/png": "[encoded data removed]",
      "text/plain": [
       "<Figure size 864x288 with 1 Axes>"
      ]
     },
     "metadata": {},
     "output_type": "display_data"
    },
    {
     "data": {
      "image/png": "[encoded data removed]",
      "text/plain": [
       "<Figure size 864x288 with 1 Axes>"
      ]
     },
     "metadata": {},
     "output_type": "display_data"
    }
   ],
   "source": [
    "fast_hist(train['time_delta'])\n",
    "fast_hist(test['time_delta'])"
   ]
  },
  {
   "cell_type": "markdown",
   "id": "718c1ec4",
   "metadata": {},
   "source": [
    "# Split"
   ]
  },
  {
   "cell_type": "code",
   "execution_count": 8,
   "id": "aa08d60d",
   "metadata": {},
   "outputs": [],
   "source": [
    "train = train.sort_values(['plavka_NMZ', 'TST', 'C', 'chronom_time_Продувка', 'gas_T_start_povalka',\n",
    "                           'gas_O2_mean',  'plavka_NAPR_ZAD'])"
   ]
  },
  {
   "cell_type": "code",
   "execution_count": 9,
   "id": "79354f53",
   "metadata": {},
   "outputs": [],
   "source": [
    "train_idx = [x for x in range(train.shape[0]) if x%5 != 2]\n",
    "val_idx = [x for x in range(train.shape[0]) if x%5 == 2] \n",
    "\n",
    "train_ = train.iloc[train_idx]\n",
    "val_ = train.iloc[val_idx]"
   ]
  },
  {
   "cell_type": "markdown",
   "id": "00beaa19",
   "metadata": {},
   "source": [
    "# Зоопарк моделей"
   ]
  },
  {
   "cell_type": "code",
   "execution_count": 10,
   "id": "ecc376fd",
   "metadata": {},
   "outputs": [],
   "source": [
    "class Model():\n",
    "    def __init__(self, params):\n",
    "        self.params = params\n",
    "        self.device = params['model_params']['task_type']\n",
    "        self.model_params = params['model_params']\n",
    "        self.folds = params['split_params']['folds']        \n",
    "        self.train_params = params['train_params']\n",
    "        self.gpu_params = params['gpu_params']\n",
    "        self.cpu_params = params['cpu_params']\n",
    "        self.features_params = params['features_params']\n",
    "        self.observations_params = params['observations_params'] \n",
    "        self.models = []\n",
    "        self.model_predictions = []\n",
    "        self.predictions_summary = None        \n",
    "        self.importance = []\n",
    "        \n",
    "    def fit(self, X, y):  \n",
    "        # pprint.pprint(self.params)\n",
    "        self.model_params = self.model_params | self.gpu_params if self.device == 'GPU' else \\\n",
    "            self.model_params | self.cpu_params   \n",
    "        \n",
    "        for fold in range(self.folds):\n",
    "            print(f'\\nFold: {fold + 1}')\n",
    "            self.model_params['random_state'] += 1 \n",
    "            \n",
    "            if self.folds > 1:\n",
    "                train_idx = [x for x in range(X.shape[0]) if x%self.folds != fold]\n",
    "                val_idx = [x for x in range(X.shape[0]) if x%self.folds == fold]            \n",
    "            \n",
    "                X_train = X.iloc[train_idx]\n",
    "                y_train = y.iloc[train_idx]\n",
    "            \n",
    "                X_val = X.iloc[val_idx]\n",
    "                y_val = y.iloc[val_idx] \n",
    "            else:\n",
    "                X_train = X\n",
    "                y_train = y\n",
    "\n",
    "                \n",
    "            # TODO (weight function!)\n",
    "            train_dataset = Pool(data=X_train, label=y_train, **self.features_params)                \n",
    "           \n",
    "            model = CatBoostRegressor(**self.model_params)    \n",
    "            \n",
    "            if self.folds > 1:\n",
    "                eval_dataset = Pool(data=X_val, label=y_val, **self.features_params)  \n",
    "                model.fit(train_dataset, eval_set=eval_dataset, **self.train_params)\n",
    "            else:\n",
    "                model.fit(train_dataset,  **self.train_params)\n",
    "            \n",
    "            self.models.append(model.copy())   \n",
    "\n",
    "        self._feature_importance()\n",
    "            \n",
    "        \n",
    "    def predict(self, X):        \n",
    "        self.model_predictions = []\n",
    "        for model_number in range(self.folds):\n",
    "            model = self.models[model_number]\n",
    "            self.model_predictions.append(model.predict(X))   \n",
    "            \n",
    "        self.predictions_summary = pd.DataFrame(data=np.array(self.model_predictions)).T\n",
    "        \n",
    "        self.predictions_summary['std'] = self.predictions_summary.std(axis=1)\n",
    "        self.predictions_summary['predictions'] = (self.predictions_summary[[x for x in range(self.folds)]]).median(axis=1)\n",
    "        self.predictions_summary['predictions2'] = (self.predictions_summary[[x for x in range(self.folds)]]).mean(axis=1) \n",
    "        self.predictions_summary['predictions_total'] = self.predictions_summary[['predictions', 'predictions2']].mean(axis=1)\n",
    "                    \n",
    "        return self.predictions_summary     \n",
    "            \n",
    "    def get_errors(self, X, y):   \n",
    "        preds = self.predict(X)['predictions']\n",
    "        errors = y.values - preds.values     \n",
    "        return errors\n",
    "    \n",
    "    \n",
    "    def interpretations():\n",
    "        pass\n",
    "    \n",
    "    def uncertain_objects(std_treshold=1):\n",
    "        pass    \n",
    "   \n",
    "    # New functions\n",
    "    def _feature_importance(self):        \n",
    "        \n",
    "        for model_number in range(self.folds):\n",
    "            fi_dict = list(zip(features, self.models[model_number].feature_importances_))\n",
    "            importance_df = pd.DataFrame.from_records(fi_dict).set_index(0)\n",
    "            importance_df.columns = ['importance']\n",
    "            importance_df = importance_df.sort_values('importance', ascending=False)\n",
    "            self.importance.append(importance_df) \n",
    "    \n",
    "    def save_model(self, path):\n",
    "        with open(path, 'wb') as f:\n",
    "            pickle.dump(self.models, f)\n",
    "    \n",
    "    def load_model(self, path):\n",
    "        with open(path, 'rb') as f:\n",
    "            self.models = pickle.load(f)"
   ]
  },
  {
   "cell_type": "code",
   "execution_count": 11,
   "id": "3018ea52",
   "metadata": {},
   "outputs": [],
   "source": [
    "class LogModel():\n",
    "    def __init__(self, params):\n",
    "        self.params = params\n",
    "        self.device = params['model_params']['task_type']\n",
    "        self.model_params = params['model_params']\n",
    "        self.folds = params['split_params']['folds']        \n",
    "        self.train_params = params['train_params']\n",
    "        self.gpu_params = params['gpu_params']\n",
    "        self.cpu_params = params['cpu_params']\n",
    "        self.features_params = params['features_params']\n",
    "        self.observations_params = params['observations_params'] \n",
    "        self.models = []\n",
    "        self.model_predictions = []\n",
    "        self.predictions_summary = None        \n",
    "        self.importance = []\n",
    "        \n",
    "    def fit(self, X, y):  \n",
    "        # pprint.pprint(self.params)\n",
    "        self.model_params = self.model_params | self.gpu_params if self.device == 'GPU' else \\\n",
    "            self.model_params | self.cpu_params   \n",
    "        \n",
    "        for fold in range(self.folds):\n",
    "            print(f'\\nFold: {fold + 1}')\n",
    "            self.model_params['random_state'] += 1 \n",
    "            \n",
    "            if self.folds > 1:\n",
    "                train_idx = [x for x in range(X.shape[0]) if x%self.folds != fold]\n",
    "                val_idx = [x for x in range(X.shape[0]) if x%self.folds == fold]            \n",
    "            \n",
    "                X_train = X.iloc[train_idx]\n",
    "                y_train = y.iloc[train_idx]\n",
    "            \n",
    "                X_val = X.iloc[val_idx]\n",
    "                y_val = y.iloc[val_idx] \n",
    "            else:\n",
    "                X_train = X\n",
    "                y_train = y\n",
    "\n",
    "                \n",
    "            # TODO (weight function!)\n",
    "            train_dataset = Pool(data=X_train, label=(y_train * 1000).apply(np.log1p), **self.features_params)                \n",
    "           \n",
    "            model = CatBoostRegressor(**self.model_params)    \n",
    "            \n",
    "            if self.folds > 1:\n",
    "                eval_dataset = Pool(data=X_val, label=(y_val * 1000).apply(np.log1p), **self.features_params)  \n",
    "                model.fit(train_dataset, eval_set=eval_dataset, **self.train_params)\n",
    "            else:\n",
    "                model.fit(train_dataset,  **self.train_params)\n",
    "            \n",
    "            self.models.append(model.copy())   \n",
    "\n",
    "        self._feature_importance()\n",
    "            \n",
    "        \n",
    "    def predict(self, X):        \n",
    "        self.model_predictions = []\n",
    "        for model_number in range(self.folds):\n",
    "            model = self.models[model_number]\n",
    "            self.model_predictions.append(model.predict(X))                                     \n",
    "                                    \n",
    "        self.predictions_summary = pd.DataFrame(data=np.array(self.model_predictions)).T\n",
    "        self.predictions_summary = np.e ** self.predictions_summary / 1000\n",
    "        \n",
    "        self.predictions_summary['std'] = self.predictions_summary.std(axis=1)\n",
    "        self.predictions_summary['predictions'] = (self.predictions_summary[[x for x in range(self.folds)]]).median(axis=1)\n",
    "        self.predictions_summary['predictions2'] = (self.predictions_summary[[x for x in range(self.folds)]]).mean(axis=1)\n",
    "        \n",
    "        \n",
    "        second_predictions = pd.DataFrame(data=np.array(self.model_predictions)).T\n",
    "        self.predictions_summary['predictions3'] = np.e ** (second_predictions[[x for x in range(self.folds)]]).median(axis=1) / 1000\n",
    "        self.predictions_summary['predictions4'] = np.e ** (second_predictions[[x for x in range(self.folds)]]).mean(axis=1) / 1000\n",
    "        self.predictions_summary['predictions_total'] = self.predictions_summary[['predictions', 'predictions2', \n",
    "                                                                                  'predictions3', 'predictions4']].mean(axis=1)\n",
    "            \n",
    "                    \n",
    "        return self.predictions_summary     \n",
    "            \n",
    "    def get_errors(self, X, y):   \n",
    "        preds = self.predict(X)['predictions']\n",
    "        errors = y.values - preds.values     \n",
    "        return errors\n",
    "    \n",
    "    \n",
    "    def interpretations():\n",
    "        pass\n",
    "    \n",
    "    def uncertain_objects(std_treshold=1):\n",
    "        pass    \n",
    "   \n",
    "    # New functions\n",
    "    def _feature_importance(self):        \n",
    "        \n",
    "        for model_number in range(self.folds):\n",
    "            fi_dict = list(zip(features, self.models[model_number].feature_importances_))\n",
    "            importance_df = pd.DataFrame.from_records(fi_dict).set_index(0)\n",
    "            importance_df.columns = ['importance']\n",
    "            importance_df = importance_df.sort_values('importance', ascending=False)\n",
    "            self.importance.append(importance_df) \n",
    "    \n",
    "    def save_model(self, path):\n",
    "        with open(path, 'wb') as f:\n",
    "            pickle.dump(self.models, f)\n",
    "    \n",
    "    def load_model(self, path):\n",
    "        with open(path, 'rb') as f:\n",
    "            self.models = pickle.load(f)"
   ]
  },
  {
   "cell_type": "code",
   "execution_count": 12,
   "id": "cdd569a1",
   "metadata": {},
   "outputs": [],
   "source": [
    "class PowerTransformModel():\n",
    "    def __init__(self, params):\n",
    "        self.params = params\n",
    "        self.device = params['model_params']['task_type']\n",
    "        self.model_params = params['model_params']\n",
    "        self.folds = params['split_params']['folds']        \n",
    "        self.train_params = params['train_params']\n",
    "        self.gpu_params = params['gpu_params']\n",
    "        self.cpu_params = params['cpu_params']\n",
    "        self.features_params = params['features_params']\n",
    "        self.observations_params = params['observations_params'] \n",
    "        self.models = []\n",
    "        self.model_predictions = []\n",
    "        self.predictions_summary = None        \n",
    "        self.importance = []\n",
    "        \n",
    "    def fit(self, X, y):  \n",
    "        # pprint.pprint(self.params)\n",
    "        self.model_params = self.model_params | self.gpu_params if self.device == 'GPU' else \\\n",
    "            self.model_params | self.cpu_params   \n",
    "        \n",
    "        for fold in range(self.folds):\n",
    "            print(f'\\nFold: {fold + 1}')\n",
    "            self.model_params['random_state'] += 1 \n",
    "            \n",
    "            if self.folds > 1:\n",
    "                train_idx = [x for x in range(X.shape[0]) if x%self.folds != fold]\n",
    "                val_idx = [x for x in range(X.shape[0]) if x%self.folds == fold]            \n",
    "            \n",
    "                X_train = X.iloc[train_idx]\n",
    "                y_train = y.iloc[train_idx]\n",
    "            \n",
    "                X_val = X.iloc[val_idx]\n",
    "                y_val = y.iloc[val_idx] \n",
    "            else:\n",
    "                X_train = X\n",
    "                y_train = y\n",
    "\n",
    "                \n",
    "            # TODO (weight function!)\n",
    "            self.transformer = PowerTransformer(method='box-cox')\n",
    "            self.transformer.fit((y_train).values.reshape(1, -1).T)\n",
    "            \n",
    "            \n",
    "            train_dataset = Pool(data=X_train, label=self.transformer.transform(y_train.values.reshape(1, -1).T)[:,0] , **self.features_params)                \n",
    "           \n",
    "            model = CatBoostRegressor(**self.model_params)    \n",
    "            \n",
    "            if self.folds > 1:\n",
    "                eval_dataset = Pool(data=X_val, label=self.transformer.transform(y_val.values.reshape(1, -1).T)[:,0], **self.features_params)  \n",
    "                model.fit(train_dataset, eval_set=eval_dataset, **self.train_params)\n",
    "            else:\n",
    "                model.fit(train_dataset,  **self.train_params)\n",
    "            \n",
    "            self.models.append(model.copy())   \n",
    "\n",
    "        self._feature_importance()\n",
    "            \n",
    "        \n",
    "    def predict(self, X):        \n",
    "        self.model_predictions = []\n",
    "        for model_number in range(self.folds):\n",
    "            model = self.models[model_number]\n",
    "            self.model_predictions.append(self.transformer.inverse_transform(model.predict(X).reshape(1, -1).T)[:,0])                                     \n",
    "                                    \n",
    "        self.predictions_summary = pd.DataFrame(data=np.array(self.model_predictions)).T\n",
    "        \n",
    "        self.predictions_summary['std'] = self.predictions_summary.std(axis=1)\n",
    "        self.predictions_summary['predictions'] = (self.predictions_summary[[x for x in range(self.folds)]]).median(axis=1)\n",
    "        self.predictions_summary['predictions2'] = (self.predictions_summary[[x for x in range(self.folds)]]).mean(axis=1)\n",
    "                    \n",
    "        return self.predictions_summary     \n",
    "            \n",
    "    def get_errors(self, X, y):   \n",
    "        preds = self.predict(X)['predictions']\n",
    "        errors = y.values - preds.values     \n",
    "        return errors\n",
    "    \n",
    "    \n",
    "    def interpretations():\n",
    "        pass\n",
    "    \n",
    "    def uncertain_objects(std_treshold=1):\n",
    "        pass    \n",
    "   \n",
    "    # New functions\n",
    "    def _feature_importance(self):        \n",
    "        \n",
    "        for model_number in range(self.folds):\n",
    "            fi_dict = list(zip(features, self.models[model_number].feature_importances_))\n",
    "            importance_df = pd.DataFrame.from_records(fi_dict).set_index(0)\n",
    "            importance_df.columns = ['importance']\n",
    "            importance_df = importance_df.sort_values('importance', ascending=False)\n",
    "            self.importance.append(importance_df) \n",
    "    \n",
    "    def save_model(self, path):\n",
    "        with open(path, 'wb') as f:\n",
    "            pickle.dump(self.models, f)\n",
    "    \n",
    "    def load_model(self, path):\n",
    "        with open(path, 'rb') as f:\n",
    "            self.models = pickle.load(f)"
   ]
  },
  {
   "cell_type": "code",
   "execution_count": 13,
   "id": "6b81fb87",
   "metadata": {},
   "outputs": [],
   "source": [
    "class QuantileTransformModel():\n",
    "    def __init__(self, params):\n",
    "        self.params = params\n",
    "        self.device = params['model_params']['task_type']\n",
    "        self.model_params = params['model_params']\n",
    "        self.folds = params['split_params']['folds']        \n",
    "        self.train_params = params['train_params']\n",
    "        self.gpu_params = params['gpu_params']\n",
    "        self.cpu_params = params['cpu_params']\n",
    "        self.features_params = params['features_params']\n",
    "        self.observations_params = params['observations_params'] \n",
    "        self.models = []\n",
    "        self.model_predictions = []\n",
    "        self.predictions_summary = None        \n",
    "        self.importance = []\n",
    "        \n",
    "    def fit(self, X, y):  \n",
    "        # pprint.pprint(self.params)\n",
    "        self.model_params = self.model_params | self.gpu_params if self.device == 'GPU' else \\\n",
    "            self.model_params | self.cpu_params   \n",
    "        \n",
    "        for fold in range(self.folds):\n",
    "            print(f'\\nFold: {fold + 1}')\n",
    "            self.model_params['random_state'] += 1 \n",
    "            \n",
    "            if self.folds > 1:\n",
    "                train_idx = [x for x in range(X.shape[0]) if x%self.folds != fold]\n",
    "                val_idx = [x for x in range(X.shape[0]) if x%self.folds == fold]            \n",
    "            \n",
    "                X_train = X.iloc[train_idx]\n",
    "                y_train = y.iloc[train_idx]\n",
    "            \n",
    "                X_val = X.iloc[val_idx]\n",
    "                y_val = y.iloc[val_idx] \n",
    "            else:\n",
    "                X_train = X\n",
    "                y_train = y\n",
    "\n",
    "                \n",
    "            # TODO (weight function!)\n",
    "            self.transformer = QuantileTransformer(n_quantiles=1000, random_state=0)\n",
    "            self.transformer.fit((y_train).values.reshape(1, -1).T)\n",
    "            \n",
    "            \n",
    "            train_dataset = Pool(data=X_train, label=self.transformer.transform(y_train.values.reshape(1, -1).T)[:,0] , \n",
    "                                 **self.features_params)                \n",
    "           \n",
    "            model = CatBoostRegressor(**self.model_params)    \n",
    "            \n",
    "            if self.folds > 1:\n",
    "                eval_dataset = Pool(data=X_val, label=self.transformer.transform(y_val.values.reshape(1, -1).T)[:,0],\n",
    "                                    **self.features_params)  \n",
    "                model.fit(train_dataset, eval_set=eval_dataset, **self.train_params)\n",
    "            else:\n",
    "                model.fit(train_dataset,  **self.train_params)\n",
    "            \n",
    "            self.models.append(model.copy())   \n",
    "\n",
    "        self._feature_importance()\n",
    "            \n",
    "        \n",
    "    def predict(self, X):        \n",
    "        self.model_predictions = []\n",
    "        for model_number in range(self.folds):\n",
    "            model = self.models[model_number]\n",
    "            self.model_predictions.append(self.transformer.inverse_transform(model.predict(X).reshape(1, -1).T)[:,0])                                     \n",
    "                                    \n",
    "        self.predictions_summary = pd.DataFrame(data=np.array(self.model_predictions)).T\n",
    "        \n",
    "        self.predictions_summary['std'] = self.predictions_summary.std(axis=1)\n",
    "        self.predictions_summary['predictions'] = (self.predictions_summary[[x for x in range(self.folds)]]).median(axis=1)\n",
    "        self.predictions_summary['predictions2'] = (self.predictions_summary[[x for x in range(self.folds)]]).mean(axis=1)  \n",
    "                    \n",
    "        return self.predictions_summary     \n",
    "            \n",
    "    def get_errors(self, X, y):   \n",
    "        preds = self.predict(X)['predictions']\n",
    "        errors = y.values - preds.values     \n",
    "        return errors\n",
    "    \n",
    "    \n",
    "    def interpretations():\n",
    "        pass\n",
    "    \n",
    "    def uncertain_objects(std_treshold=1):\n",
    "        pass    \n",
    "   \n",
    "    # New functions\n",
    "    def _feature_importance(self):        \n",
    "        \n",
    "        for model_number in range(self.folds):\n",
    "            fi_dict = list(zip(features, self.models[model_number].feature_importances_))\n",
    "            importance_df = pd.DataFrame.from_records(fi_dict).set_index(0)\n",
    "            importance_df.columns = ['importance']\n",
    "            importance_df = importance_df.sort_values('importance', ascending=False)\n",
    "            self.importance.append(importance_df) \n",
    "    \n",
    "    def save_model(self, path):\n",
    "        with open(path, 'wb') as f:\n",
    "            pickle.dump(self.models, f)\n",
    "    \n",
    "    def load_model(self, path):\n",
    "        with open(path, 'rb') as f:\n",
    "            self.models = pickle.load(f)"
   ]
  },
  {
   "cell_type": "markdown",
   "id": "eee220b1",
   "metadata": {},
   "source": [
    "# Модель 1 (TST)"
   ]
  },
  {
   "cell_type": "code",
   "execution_count": null,
   "id": "0f9124fb",
   "metadata": {},
   "outputs": [],
   "source": [
    "train['gas_O2_pressure_mean']"
   ]
  },
  {
   "cell_type": "code",
   "execution_count": 24,
   "id": "69761cb2",
   "metadata": {},
   "outputs": [
    {
     "name": "stdout",
     "output_type": "stream",
     "text": [
      "Features: 8\n"
     ]
    },
    {
     "data": {
      "text/html": [
       "<div>\n",
       "<style scoped>\n",
       "    .dataframe tbody tr th:only-of-type {\n",
       "        vertical-align: middle;\n",
       "    }\n",
       "\n",
       "    .dataframe tbody tr th {\n",
       "        vertical-align: top;\n",
       "    }\n",
       "\n",
       "    .dataframe thead th {\n",
       "        text-align: right;\n",
       "    }\n",
       "</style>\n",
       "<table border=\"1\" class=\"dataframe\">\n",
       "  <thead>\n",
       "    <tr style=\"text-align: right;\">\n",
       "      <th></th>\n",
       "      <th>chugun_VES</th>\n",
       "      <th>chugun_T</th>\n",
       "      <th>chugun_SI</th>\n",
       "      <th>chugun_MN</th>\n",
       "      <th>chugun_S</th>\n",
       "      <th>chugun_P</th>\n",
       "      <th>chugun_CR</th>\n",
       "      <th>chugun_NI</th>\n",
       "      <th>chugun_CU</th>\n",
       "      <th>chugun_V</th>\n",
       "      <th>chugun_TI</th>\n",
       "      <th>plavka_NMZ</th>\n",
       "      <th>plavka_NAPR_ZAD</th>\n",
       "      <th>plavka_STFUT</th>\n",
       "      <th>plavka_TIPE_FUR</th>\n",
       "      <th>plavka_ST_FURM</th>\n",
       "      <th>plavka_TIPE_GOL</th>\n",
       "      <th>plavka_ST_GOL</th>\n",
       "      <th>lom_VES_VLD4</th>\n",
       "      <th>lom_VES_VLD8</th>\n",
       "      <th>lom_VES_VLD13</th>\n",
       "      <th>lom_VES_VLD20</th>\n",
       "      <th>lom_VES_VLD23</th>\n",
       "      <th>lom_VES_VLD48</th>\n",
       "      <th>lom_VES_VLD49</th>\n",
       "      <th>lom_VES_VLD61</th>\n",
       "      <th>lom_VES_VLD63</th>\n",
       "      <th>lom_components</th>\n",
       "      <th>lom_VES_sum</th>\n",
       "      <th>sip_VES_VDSYP104</th>\n",
       "      <th>sip_VES_VDSYP119</th>\n",
       "      <th>sip_VES_VDSYP171</th>\n",
       "      <th>sip_VES_VDSYP346</th>\n",
       "      <th>sip_VES_VDSYP397</th>\n",
       "      <th>sip_VES_VDSYP408</th>\n",
       "      <th>sip_VES_VDSYP442</th>\n",
       "      <th>sip_components</th>\n",
       "      <th>produv_max_POL</th>\n",
       "      <th>produv_mean_POL</th>\n",
       "      <th>produv_min_POL</th>\n",
       "      <th>produv_mean_RAS</th>\n",
       "      <th>produv_sum_RAS</th>\n",
       "      <th>gas_V_mean</th>\n",
       "      <th>gas_V_sum</th>\n",
       "      <th>gas_T_mean</th>\n",
       "      <th>gas_T_sum</th>\n",
       "      <th>gas_T_max</th>\n",
       "      <th>gas_O2_mean</th>\n",
       "      <th>gas_O2_sum</th>\n",
       "      <th>gas_N2_mean</th>\n",
       "      <th>gas_N2_sum</th>\n",
       "      <th>gas_H2_mean</th>\n",
       "      <th>gas_H2_sum</th>\n",
       "      <th>gas_CO2_mean</th>\n",
       "      <th>gas_CO2_sum</th>\n",
       "      <th>gas_CO_mean</th>\n",
       "      <th>gas_CO_sum</th>\n",
       "      <th>gas_AR_mean</th>\n",
       "      <th>gas_AR_sum</th>\n",
       "      <th>gas_T фурмы 1_mean</th>\n",
       "      <th>gas_T фурмы 1_sum</th>\n",
       "      <th>gas_T фурмы 2_mean</th>\n",
       "      <th>gas_T фурмы 2_sum</th>\n",
       "      <th>gas_O2_pressure_mean</th>\n",
       "      <th>gas_O2_pressure_sum</th>\n",
       "      <th>chronom_time_Вхождение в гр.МНЛЗ</th>\n",
       "      <th>chronom_time_Завалка лома</th>\n",
       "      <th>chronom_time_Заливка чугуна</th>\n",
       "      <th>chronom_time_Замена фурмы</th>\n",
       "      <th>chronom_time_Замер положения фурм</th>\n",
       "      <th>chronom_time_Наведение гарнисажа</th>\n",
       "      <th>chronom_time_Нагрев лома</th>\n",
       "      <th>chronom_time_Наложение продувки</th>\n",
       "      <th>chronom_time_Неиспр. АСУ и КИПиА</th>\n",
       "      <th>chronom_time_Неиспр. механ. обор.</th>\n",
       "      <th>chronom_time_Неиспр. электр. обор</th>\n",
       "      <th>chronom_time_Неиспр. энерг. обор</th>\n",
       "      <th>chronom_time_Обрыв горловины</th>\n",
       "      <th>chronom_time_Ожидание стальковша</th>\n",
       "      <th>chronom_time_Ожидание шл.чаш</th>\n",
       "      <th>chronom_time_Осмотр конвертера</th>\n",
       "      <th>chronom_time_Отсут. своб.разл.пл.</th>\n",
       "      <th>chronom_time_Отсутствие O2</th>\n",
       "      <th>chronom_time_Отсутствие мет.шихты</th>\n",
       "      <th>chronom_time_Отсутствие чугуна</th>\n",
       "      <th>chronom_time_ППР</th>\n",
       "      <th>chronom_time_Подварка  футеровки</th>\n",
       "      <th>chronom_time_Полусухое торкрет.</th>\n",
       "      <th>chronom_time_Продувка</th>\n",
       "      <th>chronom_time_Ремонт летки</th>\n",
       "      <th>chronom_time_Слив шлака</th>\n",
       "      <th>chronom_time_межпл. простой</th>\n",
       "      <th>gas_T_start_povalka</th>\n",
       "      <th>timer</th>\n",
       "      <th>VES/O2</th>\n",
       "      <th>VR_NACH</th>\n",
       "      <th>VR_KON</th>\n",
       "      <th>time_delta</th>\n",
       "    </tr>\n",
       "  </thead>\n",
       "  <tbody>\n",
       "    <tr>\n",
       "      <th>543</th>\n",
       "      <td>263600.0</td>\n",
       "      <td>1446.0</td>\n",
       "      <td>0.76</td>\n",
       "      <td>0.30</td>\n",
       "      <td>0.014</td>\n",
       "      <td>0.094</td>\n",
       "      <td>0.02</td>\n",
       "      <td>0.01</td>\n",
       "      <td>0.02</td>\n",
       "      <td>0.058</td>\n",
       "      <td>0.075</td>\n",
       "      <td>09Г2С</td>\n",
       "      <td>МНЛЗ</td>\n",
       "      <td>1590</td>\n",
       "      <td>цилиндрическая</td>\n",
       "      <td>20</td>\n",
       "      <td>5 сопловая</td>\n",
       "      <td>20</td>\n",
       "      <td>47900</td>\n",
       "      <td>11600</td>\n",
       "      <td>16000</td>\n",
       "      <td>0</td>\n",
       "      <td>0</td>\n",
       "      <td>0</td>\n",
       "      <td>0</td>\n",
       "      <td>0</td>\n",
       "      <td>0</td>\n",
       "      <td>3</td>\n",
       "      <td>75500</td>\n",
       "      <td>0</td>\n",
       "      <td>0</td>\n",
       "      <td>0</td>\n",
       "      <td>3570</td>\n",
       "      <td>0</td>\n",
       "      <td>19940</td>\n",
       "      <td>3670</td>\n",
       "      <td>3</td>\n",
       "      <td>6.53</td>\n",
       "      <td>4.506611</td>\n",
       "      <td>0.83</td>\n",
       "      <td>336.908757</td>\n",
       "      <td>1054187.5</td>\n",
       "      <td>212943.086853</td>\n",
       "      <td>6.396810e+08</td>\n",
       "      <td>449.462985</td>\n",
       "      <td>1.350187e+06</td>\n",
       "      <td>912.847229</td>\n",
       "      <td>9.772140</td>\n",
       "      <td>29355.508344</td>\n",
       "      <td>60.103475</td>\n",
       "      <td>180550.837709</td>\n",
       "      <td>0.500051</td>\n",
       "      <td>1502.152798</td>\n",
       "      <td>11.601286</td>\n",
       "      <td>34850.263867</td>\n",
       "      <td>17.141521</td>\n",
       "      <td>51493.129829</td>\n",
       "      <td>0.834024</td>\n",
       "      <td>2505.408724</td>\n",
       "      <td>18.375678</td>\n",
       "      <td>55200.536961</td>\n",
       "      <td>21.054180</td>\n",
       "      <td>63246.756812</td>\n",
       "      <td>15.390038</td>\n",
       "      <td>46231.674316</td>\n",
       "      <td>0</td>\n",
       "      <td>8</td>\n",
       "      <td>234</td>\n",
       "      <td>0</td>\n",
       "      <td>0</td>\n",
       "      <td>162</td>\n",
       "      <td>370</td>\n",
       "      <td>0</td>\n",
       "      <td>0</td>\n",
       "      <td>0</td>\n",
       "      <td>0</td>\n",
       "      <td>0</td>\n",
       "      <td>873</td>\n",
       "      <td>0</td>\n",
       "      <td>0</td>\n",
       "      <td>99</td>\n",
       "      <td>0</td>\n",
       "      <td>0</td>\n",
       "      <td>0</td>\n",
       "      <td>0</td>\n",
       "      <td>0</td>\n",
       "      <td>0</td>\n",
       "      <td>0</td>\n",
       "      <td>1106</td>\n",
       "      <td>0</td>\n",
       "      <td>101</td>\n",
       "      <td>1251</td>\n",
       "      <td>836.458313</td>\n",
       "      <td>384.0</td>\n",
       "      <td>8.979575</td>\n",
       "      <td>2021-01-31 16:57:56</td>\n",
       "      <td>2021-01-31 17:16:22</td>\n",
       "      <td>1337.0</td>\n",
       "    </tr>\n",
       "    <tr>\n",
       "      <th>786</th>\n",
       "      <td>266000.0</td>\n",
       "      <td>1395.0</td>\n",
       "      <td>0.39</td>\n",
       "      <td>0.24</td>\n",
       "      <td>0.012</td>\n",
       "      <td>0.084</td>\n",
       "      <td>0.02</td>\n",
       "      <td>0.01</td>\n",
       "      <td>0.02</td>\n",
       "      <td>0.086</td>\n",
       "      <td>0.077</td>\n",
       "      <td>09Г2С</td>\n",
       "      <td>МНЛЗ</td>\n",
       "      <td>1848</td>\n",
       "      <td>цилиндрическая</td>\n",
       "      <td>108</td>\n",
       "      <td>4-сопл х54</td>\n",
       "      <td>108</td>\n",
       "      <td>63300</td>\n",
       "      <td>12700</td>\n",
       "      <td>6000</td>\n",
       "      <td>0</td>\n",
       "      <td>0</td>\n",
       "      <td>0</td>\n",
       "      <td>0</td>\n",
       "      <td>0</td>\n",
       "      <td>0</td>\n",
       "      <td>3</td>\n",
       "      <td>82000</td>\n",
       "      <td>0</td>\n",
       "      <td>0</td>\n",
       "      <td>940</td>\n",
       "      <td>2140</td>\n",
       "      <td>0</td>\n",
       "      <td>13410</td>\n",
       "      <td>2920</td>\n",
       "      <td>4</td>\n",
       "      <td>6.15</td>\n",
       "      <td>4.132670</td>\n",
       "      <td>0.82</td>\n",
       "      <td>391.442901</td>\n",
       "      <td>901493.0</td>\n",
       "      <td>213127.252520</td>\n",
       "      <td>6.355455e+08</td>\n",
       "      <td>419.945944</td>\n",
       "      <td>1.252279e+06</td>\n",
       "      <td>829.513916</td>\n",
       "      <td>13.284018</td>\n",
       "      <td>39612.941082</td>\n",
       "      <td>59.478855</td>\n",
       "      <td>177365.944531</td>\n",
       "      <td>0.408998</td>\n",
       "      <td>1219.633158</td>\n",
       "      <td>9.705768</td>\n",
       "      <td>28942.599034</td>\n",
       "      <td>16.509641</td>\n",
       "      <td>49231.748427</td>\n",
       "      <td>0.789152</td>\n",
       "      <td>2353.250001</td>\n",
       "      <td>15.973331</td>\n",
       "      <td>47632.474018</td>\n",
       "      <td>19.701939</td>\n",
       "      <td>58751.183494</td>\n",
       "      <td>15.369207</td>\n",
       "      <td>45830.975959</td>\n",
       "      <td>0</td>\n",
       "      <td>234</td>\n",
       "      <td>305</td>\n",
       "      <td>0</td>\n",
       "      <td>0</td>\n",
       "      <td>223</td>\n",
       "      <td>388</td>\n",
       "      <td>0</td>\n",
       "      <td>0</td>\n",
       "      <td>0</td>\n",
       "      <td>0</td>\n",
       "      <td>0</td>\n",
       "      <td>0</td>\n",
       "      <td>0</td>\n",
       "      <td>0</td>\n",
       "      <td>158</td>\n",
       "      <td>0</td>\n",
       "      <td>0</td>\n",
       "      <td>0</td>\n",
       "      <td>0</td>\n",
       "      <td>0</td>\n",
       "      <td>0</td>\n",
       "      <td>0</td>\n",
       "      <td>1183</td>\n",
       "      <td>0</td>\n",
       "      <td>56</td>\n",
       "      <td>504</td>\n",
       "      <td>704.513855</td>\n",
       "      <td>686.0</td>\n",
       "      <td>6.714977</td>\n",
       "      <td>2021-02-14 08:01:38</td>\n",
       "      <td>2021-02-14 08:21:21</td>\n",
       "      <td>1486.0</td>\n",
       "    </tr>\n",
       "    <tr>\n",
       "      <th>1136</th>\n",
       "      <td>266500.0</td>\n",
       "      <td>1392.0</td>\n",
       "      <td>0.41</td>\n",
       "      <td>0.30</td>\n",
       "      <td>0.015</td>\n",
       "      <td>0.092</td>\n",
       "      <td>0.03</td>\n",
       "      <td>0.01</td>\n",
       "      <td>0.02</td>\n",
       "      <td>0.081</td>\n",
       "      <td>0.076</td>\n",
       "      <td>09Г2С</td>\n",
       "      <td>Изл</td>\n",
       "      <td>2247</td>\n",
       "      <td>цилиндрическая</td>\n",
       "      <td>39</td>\n",
       "      <td>4-сопл х54</td>\n",
       "      <td>161</td>\n",
       "      <td>77300</td>\n",
       "      <td>0</td>\n",
       "      <td>1000</td>\n",
       "      <td>0</td>\n",
       "      <td>0</td>\n",
       "      <td>0</td>\n",
       "      <td>0</td>\n",
       "      <td>0</td>\n",
       "      <td>0</td>\n",
       "      <td>2</td>\n",
       "      <td>78300</td>\n",
       "      <td>0</td>\n",
       "      <td>0</td>\n",
       "      <td>750</td>\n",
       "      <td>1150</td>\n",
       "      <td>0</td>\n",
       "      <td>11840</td>\n",
       "      <td>2980</td>\n",
       "      <td>4</td>\n",
       "      <td>4.77</td>\n",
       "      <td>3.200710</td>\n",
       "      <td>0.88</td>\n",
       "      <td>437.304565</td>\n",
       "      <td>699250.0</td>\n",
       "      <td>210957.260957</td>\n",
       "      <td>6.065021e+08</td>\n",
       "      <td>475.898539</td>\n",
       "      <td>1.368208e+06</td>\n",
       "      <td>884.375000</td>\n",
       "      <td>11.481250</td>\n",
       "      <td>33008.593014</td>\n",
       "      <td>62.679647</td>\n",
       "      <td>180203.986501</td>\n",
       "      <td>0.304461</td>\n",
       "      <td>875.324203</td>\n",
       "      <td>10.415759</td>\n",
       "      <td>29945.305978</td>\n",
       "      <td>14.376557</td>\n",
       "      <td>41332.600225</td>\n",
       "      <td>0.781535</td>\n",
       "      <td>2246.914057</td>\n",
       "      <td>20.798093</td>\n",
       "      <td>59794.516030</td>\n",
       "      <td>24.583300</td>\n",
       "      <td>70676.987805</td>\n",
       "      <td>15.418046</td>\n",
       "      <td>44326.882956</td>\n",
       "      <td>0</td>\n",
       "      <td>143</td>\n",
       "      <td>268</td>\n",
       "      <td>0</td>\n",
       "      <td>0</td>\n",
       "      <td>164</td>\n",
       "      <td>364</td>\n",
       "      <td>0</td>\n",
       "      <td>0</td>\n",
       "      <td>0</td>\n",
       "      <td>0</td>\n",
       "      <td>0</td>\n",
       "      <td>0</td>\n",
       "      <td>0</td>\n",
       "      <td>0</td>\n",
       "      <td>123</td>\n",
       "      <td>0</td>\n",
       "      <td>0</td>\n",
       "      <td>0</td>\n",
       "      <td>0</td>\n",
       "      <td>0</td>\n",
       "      <td>991</td>\n",
       "      <td>0</td>\n",
       "      <td>1274</td>\n",
       "      <td>0</td>\n",
       "      <td>49</td>\n",
       "      <td>938</td>\n",
       "      <td>720.138855</td>\n",
       "      <td>556.0</td>\n",
       "      <td>8.073655</td>\n",
       "      <td>2021-03-08 04:47:04</td>\n",
       "      <td>2021-03-08 05:08:18</td>\n",
       "      <td>1541.0</td>\n",
       "    </tr>\n",
       "    <tr>\n",
       "      <th>1778</th>\n",
       "      <td>265900.0</td>\n",
       "      <td>1407.0</td>\n",
       "      <td>0.83</td>\n",
       "      <td>0.34</td>\n",
       "      <td>0.013</td>\n",
       "      <td>0.118</td>\n",
       "      <td>0.03</td>\n",
       "      <td>0.01</td>\n",
       "      <td>0.02</td>\n",
       "      <td>0.069</td>\n",
       "      <td>0.061</td>\n",
       "      <td>09Г2С</td>\n",
       "      <td>МНЛЗ</td>\n",
       "      <td>2967</td>\n",
       "      <td>цилиндрическая</td>\n",
       "      <td>4</td>\n",
       "      <td>5 сопловая</td>\n",
       "      <td>4</td>\n",
       "      <td>25400</td>\n",
       "      <td>19900</td>\n",
       "      <td>0</td>\n",
       "      <td>0</td>\n",
       "      <td>11800</td>\n",
       "      <td>0</td>\n",
       "      <td>14800</td>\n",
       "      <td>0</td>\n",
       "      <td>0</td>\n",
       "      <td>4</td>\n",
       "      <td>71900</td>\n",
       "      <td>0</td>\n",
       "      <td>0</td>\n",
       "      <td>0</td>\n",
       "      <td>0</td>\n",
       "      <td>0</td>\n",
       "      <td>18980</td>\n",
       "      <td>2840</td>\n",
       "      <td>2</td>\n",
       "      <td>9.30</td>\n",
       "      <td>4.687707</td>\n",
       "      <td>1.00</td>\n",
       "      <td>418.718659</td>\n",
       "      <td>861723.0</td>\n",
       "      <td>222655.771691</td>\n",
       "      <td>7.886467e+08</td>\n",
       "      <td>375.823364</td>\n",
       "      <td>1.331166e+06</td>\n",
       "      <td>853.125000</td>\n",
       "      <td>10.563856</td>\n",
       "      <td>37417.177194</td>\n",
       "      <td>66.137776</td>\n",
       "      <td>234260.003758</td>\n",
       "      <td>0.497819</td>\n",
       "      <td>1763.275785</td>\n",
       "      <td>8.476269</td>\n",
       "      <td>30022.943028</td>\n",
       "      <td>13.499630</td>\n",
       "      <td>47815.688850</td>\n",
       "      <td>0.833225</td>\n",
       "      <td>2951.283888</td>\n",
       "      <td>23.722741</td>\n",
       "      <td>84025.948660</td>\n",
       "      <td>26.791341</td>\n",
       "      <td>94894.929131</td>\n",
       "      <td>15.982030</td>\n",
       "      <td>56608.351598</td>\n",
       "      <td>106</td>\n",
       "      <td>1379</td>\n",
       "      <td>113</td>\n",
       "      <td>0</td>\n",
       "      <td>0</td>\n",
       "      <td>128</td>\n",
       "      <td>0</td>\n",
       "      <td>0</td>\n",
       "      <td>0</td>\n",
       "      <td>439</td>\n",
       "      <td>0</td>\n",
       "      <td>0</td>\n",
       "      <td>688</td>\n",
       "      <td>0</td>\n",
       "      <td>0</td>\n",
       "      <td>67</td>\n",
       "      <td>0</td>\n",
       "      <td>0</td>\n",
       "      <td>0</td>\n",
       "      <td>0</td>\n",
       "      <td>0</td>\n",
       "      <td>0</td>\n",
       "      <td>0</td>\n",
       "      <td>1191</td>\n",
       "      <td>0</td>\n",
       "      <td>28</td>\n",
       "      <td>464</td>\n",
       "      <td>742.708313</td>\n",
       "      <td>1382.0</td>\n",
       "      <td>7.106362</td>\n",
       "      <td>2021-04-11 16:17:14</td>\n",
       "      <td>2021-04-11 16:37:05</td>\n",
       "      <td>1301.0</td>\n",
       "    </tr>\n",
       "    <tr>\n",
       "      <th>354</th>\n",
       "      <td>266200.0</td>\n",
       "      <td>1370.0</td>\n",
       "      <td>0.66</td>\n",
       "      <td>0.26</td>\n",
       "      <td>0.020</td>\n",
       "      <td>0.092</td>\n",
       "      <td>0.01</td>\n",
       "      <td>0.01</td>\n",
       "      <td>0.04</td>\n",
       "      <td>0.049</td>\n",
       "      <td>0.052</td>\n",
       "      <td>09Г2С</td>\n",
       "      <td>МНЛЗ</td>\n",
       "      <td>1371</td>\n",
       "      <td>коническая</td>\n",
       "      <td>90</td>\n",
       "      <td>5 сопловая</td>\n",
       "      <td>90</td>\n",
       "      <td>42500</td>\n",
       "      <td>13000</td>\n",
       "      <td>6000</td>\n",
       "      <td>0</td>\n",
       "      <td>0</td>\n",
       "      <td>5400</td>\n",
       "      <td>0</td>\n",
       "      <td>0</td>\n",
       "      <td>0</td>\n",
       "      <td>4</td>\n",
       "      <td>66900</td>\n",
       "      <td>0</td>\n",
       "      <td>0</td>\n",
       "      <td>940</td>\n",
       "      <td>1900</td>\n",
       "      <td>0</td>\n",
       "      <td>12250</td>\n",
       "      <td>3000</td>\n",
       "      <td>4</td>\n",
       "      <td>8.63</td>\n",
       "      <td>5.281368</td>\n",
       "      <td>0.83</td>\n",
       "      <td>381.717988</td>\n",
       "      <td>876424.5</td>\n",
       "      <td>227686.134979</td>\n",
       "      <td>6.502716e+08</td>\n",
       "      <td>446.334805</td>\n",
       "      <td>1.274732e+06</td>\n",
       "      <td>888.888855</td>\n",
       "      <td>10.496842</td>\n",
       "      <td>29978.981981</td>\n",
       "      <td>62.719224</td>\n",
       "      <td>179126.104152</td>\n",
       "      <td>0.461425</td>\n",
       "      <td>1317.830685</td>\n",
       "      <td>11.400020</td>\n",
       "      <td>32558.457053</td>\n",
       "      <td>14.100999</td>\n",
       "      <td>40272.452360</td>\n",
       "      <td>0.821014</td>\n",
       "      <td>2344.816456</td>\n",
       "      <td>0.000000</td>\n",
       "      <td>0.000000</td>\n",
       "      <td>0.000000</td>\n",
       "      <td>0.000000</td>\n",
       "      <td>15.027119</td>\n",
       "      <td>42917.451477</td>\n",
       "      <td>0</td>\n",
       "      <td>160</td>\n",
       "      <td>237</td>\n",
       "      <td>0</td>\n",
       "      <td>0</td>\n",
       "      <td>137</td>\n",
       "      <td>362</td>\n",
       "      <td>0</td>\n",
       "      <td>0</td>\n",
       "      <td>651</td>\n",
       "      <td>0</td>\n",
       "      <td>0</td>\n",
       "      <td>0</td>\n",
       "      <td>0</td>\n",
       "      <td>0</td>\n",
       "      <td>216</td>\n",
       "      <td>0</td>\n",
       "      <td>0</td>\n",
       "      <td>0</td>\n",
       "      <td>0</td>\n",
       "      <td>0</td>\n",
       "      <td>0</td>\n",
       "      <td>0</td>\n",
       "      <td>1194</td>\n",
       "      <td>0</td>\n",
       "      <td>55</td>\n",
       "      <td>873</td>\n",
       "      <td>718.750000</td>\n",
       "      <td>554.0</td>\n",
       "      <td>8.879554</td>\n",
       "      <td>2021-01-19 21:44:42</td>\n",
       "      <td>2021-01-19 22:04:36</td>\n",
       "      <td>1430.0</td>\n",
       "    </tr>\n",
       "  </tbody>\n",
       "</table>\n",
       "</div>"
      ],
      "text/plain": [
       "      chugun_VES  chugun_T  chugun_SI  chugun_MN  chugun_S  chugun_P  \\\n",
       "543     263600.0    1446.0       0.76       0.30     0.014     0.094   \n",
       "786     266000.0    1395.0       0.39       0.24     0.012     0.084   \n",
       "1136    266500.0    1392.0       0.41       0.30     0.015     0.092   \n",
       "1778    265900.0    1407.0       0.83       0.34     0.013     0.118   \n",
       "354     266200.0    1370.0       0.66       0.26     0.020     0.092   \n",
       "\n",
       "      chugun_CR  chugun_NI  chugun_CU  chugun_V  chugun_TI       plavka_NMZ  \\\n",
       "543        0.02       0.01       0.02     0.058      0.075  09Г2С             \n",
       "786        0.02       0.01       0.02     0.086      0.077  09Г2С             \n",
       "1136       0.03       0.01       0.02     0.081      0.076  09Г2С             \n",
       "1778       0.03       0.01       0.02     0.069      0.061  09Г2С             \n",
       "354        0.01       0.01       0.04     0.049      0.052  09Г2С             \n",
       "\n",
       "     plavka_NAPR_ZAD  plavka_STFUT plavka_TIPE_FUR  plavka_ST_FURM  \\\n",
       "543             МНЛЗ          1590  цилиндрическая              20   \n",
       "786             МНЛЗ          1848  цилиндрическая             108   \n",
       "1136             Изл          2247  цилиндрическая              39   \n",
       "1778            МНЛЗ          2967  цилиндрическая               4   \n",
       "354             МНЛЗ          1371      коническая              90   \n",
       "\n",
       "           plavka_TIPE_GOL  plavka_ST_GOL  lom_VES_VLD4  lom_VES_VLD8  \\\n",
       "543   5 сопловая                       20         47900         11600   \n",
       "786   4-сопл х54                      108         63300         12700   \n",
       "1136  4-сопл х54                      161         77300             0   \n",
       "1778  5 сопловая                        4         25400         19900   \n",
       "354   5 сопловая                       90         42500         13000   \n",
       "\n",
       "      lom_VES_VLD13  lom_VES_VLD20  lom_VES_VLD23  lom_VES_VLD48  \\\n",
       "543           16000              0              0              0   \n",
       "786            6000              0              0              0   \n",
       "1136           1000              0              0              0   \n",
       "1778              0              0          11800              0   \n",
       "354            6000              0              0           5400   \n",
       "\n",
       "      lom_VES_VLD49  lom_VES_VLD61  lom_VES_VLD63  lom_components  \\\n",
       "543               0              0              0               3   \n",
       "786               0              0              0               3   \n",
       "1136              0              0              0               2   \n",
       "1778          14800              0              0               4   \n",
       "354               0              0              0               4   \n",
       "\n",
       "      lom_VES_sum  sip_VES_VDSYP104  sip_VES_VDSYP119  sip_VES_VDSYP171  \\\n",
       "543         75500                 0                 0                 0   \n",
       "786         82000                 0                 0               940   \n",
       "1136        78300                 0                 0               750   \n",
       "1778        71900                 0                 0                 0   \n",
       "354         66900                 0                 0               940   \n",
       "\n",
       "      sip_VES_VDSYP346  sip_VES_VDSYP397  sip_VES_VDSYP408  sip_VES_VDSYP442  \\\n",
       "543               3570                 0             19940              3670   \n",
       "786               2140                 0             13410              2920   \n",
       "1136              1150                 0             11840              2980   \n",
       "1778                 0                 0             18980              2840   \n",
       "354               1900                 0             12250              3000   \n",
       "\n",
       "      sip_components  produv_max_POL  produv_mean_POL  produv_min_POL  \\\n",
       "543                3            6.53         4.506611            0.83   \n",
       "786                4            6.15         4.132670            0.82   \n",
       "1136               4            4.77         3.200710            0.88   \n",
       "1778               2            9.30         4.687707            1.00   \n",
       "354                4            8.63         5.281368            0.83   \n",
       "\n",
       "      produv_mean_RAS  produv_sum_RAS     gas_V_mean     gas_V_sum  \\\n",
       "543        336.908757       1054187.5  212943.086853  6.396810e+08   \n",
       "786        391.442901        901493.0  213127.252520  6.355455e+08   \n",
       "1136       437.304565        699250.0  210957.260957  6.065021e+08   \n",
       "1778       418.718659        861723.0  222655.771691  7.886467e+08   \n",
       "354        381.717988        876424.5  227686.134979  6.502716e+08   \n",
       "\n",
       "      gas_T_mean     gas_T_sum   gas_T_max  gas_O2_mean    gas_O2_sum  \\\n",
       "543   449.462985  1.350187e+06  912.847229     9.772140  29355.508344   \n",
       "786   419.945944  1.252279e+06  829.513916    13.284018  39612.941082   \n",
       "1136  475.898539  1.368208e+06  884.375000    11.481250  33008.593014   \n",
       "1778  375.823364  1.331166e+06  853.125000    10.563856  37417.177194   \n",
       "354   446.334805  1.274732e+06  888.888855    10.496842  29978.981981   \n",
       "\n",
       "      gas_N2_mean     gas_N2_sum  gas_H2_mean   gas_H2_sum  gas_CO2_mean  \\\n",
       "543     60.103475  180550.837709     0.500051  1502.152798     11.601286   \n",
       "786     59.478855  177365.944531     0.408998  1219.633158      9.705768   \n",
       "1136    62.679647  180203.986501     0.304461   875.324203     10.415759   \n",
       "1778    66.137776  234260.003758     0.497819  1763.275785      8.476269   \n",
       "354     62.719224  179126.104152     0.461425  1317.830685     11.400020   \n",
       "\n",
       "       gas_CO2_sum  gas_CO_mean    gas_CO_sum  gas_AR_mean   gas_AR_sum  \\\n",
       "543   34850.263867    17.141521  51493.129829     0.834024  2505.408724   \n",
       "786   28942.599034    16.509641  49231.748427     0.789152  2353.250001   \n",
       "1136  29945.305978    14.376557  41332.600225     0.781535  2246.914057   \n",
       "1778  30022.943028    13.499630  47815.688850     0.833225  2951.283888   \n",
       "354   32558.457053    14.100999  40272.452360     0.821014  2344.816456   \n",
       "\n",
       "      gas_T фурмы 1_mean  gas_T фурмы 1_sum  gas_T фурмы 2_mean  \\\n",
       "543            18.375678       55200.536961           21.054180   \n",
       "786            15.973331       47632.474018           19.701939   \n",
       "1136           20.798093       59794.516030           24.583300   \n",
       "1778           23.722741       84025.948660           26.791341   \n",
       "354             0.000000           0.000000            0.000000   \n",
       "\n",
       "      gas_T фурмы 2_sum  gas_O2_pressure_mean  gas_O2_pressure_sum  \\\n",
       "543        63246.756812             15.390038         46231.674316   \n",
       "786        58751.183494             15.369207         45830.975959   \n",
       "1136       70676.987805             15.418046         44326.882956   \n",
       "1778       94894.929131             15.982030         56608.351598   \n",
       "354            0.000000             15.027119         42917.451477   \n",
       "\n",
       "      chronom_time_Вхождение в гр.МНЛЗ  chronom_time_Завалка лома  \\\n",
       "543                                  0                          8   \n",
       "786                                  0                        234   \n",
       "1136                                 0                        143   \n",
       "1778                               106                       1379   \n",
       "354                                  0                        160   \n",
       "\n",
       "      chronom_time_Заливка чугуна  chronom_time_Замена фурмы  \\\n",
       "543                           234                          0   \n",
       "786                           305                          0   \n",
       "1136                          268                          0   \n",
       "1778                          113                          0   \n",
       "354                           237                          0   \n",
       "\n",
       "      chronom_time_Замер положения фурм  chronom_time_Наведение гарнисажа  \\\n",
       "543                                   0                               162   \n",
       "786                                   0                               223   \n",
       "1136                                  0                               164   \n",
       "1778                                  0                               128   \n",
       "354                                   0                               137   \n",
       "\n",
       "      chronom_time_Нагрев лома  chronom_time_Наложение продувки  \\\n",
       "543                        370                                0   \n",
       "786                        388                                0   \n",
       "1136                       364                                0   \n",
       "1778                         0                                0   \n",
       "354                        362                                0   \n",
       "\n",
       "      chronom_time_Неиспр. АСУ и КИПиА  chronom_time_Неиспр. механ. обор.  \\\n",
       "543                                  0                                  0   \n",
       "786                                  0                                  0   \n",
       "1136                                 0                                  0   \n",
       "1778                                 0                                439   \n",
       "354                                  0                                651   \n",
       "\n",
       "      chronom_time_Неиспр. электр. обор  chronom_time_Неиспр. энерг. обор  \\\n",
       "543                                   0                                 0   \n",
       "786                                   0                                 0   \n",
       "1136                                  0                                 0   \n",
       "1778                                  0                                 0   \n",
       "354                                   0                                 0   \n",
       "\n",
       "      chronom_time_Обрыв горловины  chronom_time_Ожидание стальковша  \\\n",
       "543                            873                                 0   \n",
       "786                              0                                 0   \n",
       "1136                             0                                 0   \n",
       "1778                           688                                 0   \n",
       "354                              0                                 0   \n",
       "\n",
       "      chronom_time_Ожидание шл.чаш  chronom_time_Осмотр конвертера  \\\n",
       "543                              0                              99   \n",
       "786                              0                             158   \n",
       "1136                             0                             123   \n",
       "1778                             0                              67   \n",
       "354                              0                             216   \n",
       "\n",
       "      chronom_time_Отсут. своб.разл.пл.  chronom_time_Отсутствие O2  \\\n",
       "543                                   0                           0   \n",
       "786                                   0                           0   \n",
       "1136                                  0                           0   \n",
       "1778                                  0                           0   \n",
       "354                                   0                           0   \n",
       "\n",
       "      chronom_time_Отсутствие мет.шихты  chronom_time_Отсутствие чугуна  \\\n",
       "543                                   0                               0   \n",
       "786                                   0                               0   \n",
       "1136                                  0                               0   \n",
       "1778                                  0                               0   \n",
       "354                                   0                               0   \n",
       "\n",
       "      chronom_time_ППР  chronom_time_Подварка  футеровки  \\\n",
       "543                  0                                 0   \n",
       "786                  0                                 0   \n",
       "1136                 0                               991   \n",
       "1778                 0                                 0   \n",
       "354                  0                                 0   \n",
       "\n",
       "      chronom_time_Полусухое торкрет.  chronom_time_Продувка  \\\n",
       "543                                 0                   1106   \n",
       "786                                 0                   1183   \n",
       "1136                                0                   1274   \n",
       "1778                                0                   1191   \n",
       "354                                 0                   1194   \n",
       "\n",
       "      chronom_time_Ремонт летки  chronom_time_Слив шлака  \\\n",
       "543                           0                      101   \n",
       "786                           0                       56   \n",
       "1136                          0                       49   \n",
       "1778                          0                       28   \n",
       "354                           0                       55   \n",
       "\n",
       "      chronom_time_межпл. простой  gas_T_start_povalka   timer    VES/O2  \\\n",
       "543                          1251           836.458313   384.0  8.979575   \n",
       "786                           504           704.513855   686.0  6.714977   \n",
       "1136                          938           720.138855   556.0  8.073655   \n",
       "1778                          464           742.708313  1382.0  7.106362   \n",
       "354                           873           718.750000   554.0  8.879554   \n",
       "\n",
       "                 VR_NACH              VR_KON  time_delta  \n",
       "543  2021-01-31 16:57:56 2021-01-31 17:16:22      1337.0  \n",
       "786  2021-02-14 08:01:38 2021-02-14 08:21:21      1486.0  \n",
       "1136 2021-03-08 04:47:04 2021-03-08 05:08:18      1541.0  \n",
       "1778 2021-04-11 16:17:14 2021-04-11 16:37:05      1301.0  \n",
       "354  2021-01-19 21:44:42 2021-01-19 22:04:36      1430.0  "
      ]
     },
     "execution_count": 24,
     "metadata": {},
     "output_type": "execute_result"
    }
   ],
   "source": [
    "target = 'TST'\n",
    "\n",
    "not_features = ['NPLV', 'TST', 'C', 'chugun_DATA_ZAMERA', 'plavka_VR_NACH', 'plavka_VR_KON']\n",
    "all_features = [x for x in train.columns if x not in not_features]\n",
    "\n",
    "\n",
    "features = ['plavka_NMZ', 'chugun_VES', 'gas_CO2_sum', 'chronom_time_Продувка',\n",
    "            'sip_VES_VDSYP408', 'gas_T_start_povalka', 'VES/O2', 'gas_O2_pressure_mean']\n",
    "print('Features:', len(features))\n",
    "train[all_features].head()"
   ]
  },
  {
   "cell_type": "code",
   "execution_count": 25,
   "id": "c1050675",
   "metadata": {},
   "outputs": [],
   "source": [
    "cat_features = ['plavka_NMZ'] \n",
    "\n",
    "split_params = {'folds': 8}\n",
    "\n",
    "model_params = {'eval_metric': 'RMSE', \n",
    "                'objective': 'RMSE', \n",
    "                'iterations':1500,\n",
    "                'learning_rate':0.05,               \n",
    "                'depth': 3, \n",
    "                'l2_leaf_reg': 50,  \n",
    "                'one_hot_max_size': 15,\n",
    "                'task_type': 'CPU',\n",
    "                'has_time': False,\n",
    "                'random_state': 20210926                \n",
    "               }\n",
    "\n",
    "train_params = {'early_stopping_rounds': 150, \n",
    "                'silent': True,\n",
    "                'plot': True               \n",
    "               }\n",
    "\n",
    "gpu_params = {'devices': '0',\n",
    "              'data_partition': 'DocParallel',\n",
    "              'max_ctr_complexity': 4,\n",
    "              'bootstrap_type': 'MVS',\n",
    "              'border_count': 128, \n",
    "              'fold_permutation_block': 0,\n",
    "              'simple_ctr':'FeatureFreq',\n",
    "              'combinations_ctr': 'FeatureFreq',      \n",
    "              'ctr_target_border_count': 1,\n",
    "              'random_strength': 0.95,\n",
    "              'gpu_ram_part': 0.95\n",
    "             }\n",
    "\n",
    "\n",
    "cpu_params = {'thread_count': 14}\n",
    "\n",
    "features_params = {'cat_features': cat_features}\n",
    "\n",
    "observations_params = {\"weight\": 'not_implemented'}\n",
    "\n",
    "params = {'split_params': split_params, \n",
    "          'model_params': model_params, \n",
    "          'train_params': train_params, \n",
    "          'gpu_params': gpu_params, \n",
    "          'cpu_params': cpu_params, \n",
    "          'features_params': features_params, \n",
    "          'observations_params': observations_params\n",
    "         }"
   ]
  },
  {
   "cell_type": "code",
   "execution_count": 26,
   "id": "fa21cf8f",
   "metadata": {
    "scrolled": true
   },
   "outputs": [
    {
     "name": "stdout",
     "output_type": "stream",
     "text": [
      "\n",
      "Fold: 1\n"
     ]
    },
    {
     "data": {
      "application/vnd.jupyter.widget-view+json": {
       "model_id": "b153212ddec34629918acb6788326ca7",
       "version_major": 2,
       "version_minor": 0
      },
      "text/plain": [
       "MetricVisualizer(layout=Layout(align_self='stretch', height='500px'))"
      ]
     },
     "metadata": {},
     "output_type": "display_data"
    },
    {
     "name": "stdout",
     "output_type": "stream",
     "text": [
      "\n",
      "Fold: 2\n"
     ]
    },
    {
     "data": {
      "application/vnd.jupyter.widget-view+json": {
       "model_id": "f0aa86525c9a42ef98591b2d808a04cf",
       "version_major": 2,
       "version_minor": 0
      },
      "text/plain": [
       "MetricVisualizer(layout=Layout(align_self='stretch', height='500px'))"
      ]
     },
     "metadata": {},
     "output_type": "display_data"
    },
    {
     "name": "stdout",
     "output_type": "stream",
     "text": [
      "\n",
      "Fold: 3\n"
     ]
    },
    {
     "data": {
      "application/vnd.jupyter.widget-view+json": {
       "model_id": "c1f92c92eddb4e2580ba24f648bd23f0",
       "version_major": 2,
       "version_minor": 0
      },
      "text/plain": [
       "MetricVisualizer(layout=Layout(align_self='stretch', height='500px'))"
      ]
     },
     "metadata": {},
     "output_type": "display_data"
    },
    {
     "name": "stdout",
     "output_type": "stream",
     "text": [
      "\n",
      "Fold: 4\n"
     ]
    },
    {
     "data": {
      "application/vnd.jupyter.widget-view+json": {
       "model_id": "b6ce0267f97a4b5d85ad509bb17330a8",
       "version_major": 2,
       "version_minor": 0
      },
      "text/plain": [
       "MetricVisualizer(layout=Layout(align_self='stretch', height='500px'))"
      ]
     },
     "metadata": {},
     "output_type": "display_data"
    },
    {
     "name": "stdout",
     "output_type": "stream",
     "text": [
      "\n",
      "Fold: 5\n"
     ]
    },
    {
     "data": {
      "application/vnd.jupyter.widget-view+json": {
       "model_id": "bbc0147a0038464ea48ffd315f58bd1b",
       "version_major": 2,
       "version_minor": 0
      },
      "text/plain": [
       "MetricVisualizer(layout=Layout(align_self='stretch', height='500px'))"
      ]
     },
     "metadata": {},
     "output_type": "display_data"
    },
    {
     "name": "stdout",
     "output_type": "stream",
     "text": [
      "\n",
      "Fold: 6\n"
     ]
    },
    {
     "data": {
      "application/vnd.jupyter.widget-view+json": {
       "model_id": "44b939e789164ab79bf80b5ebf305f5a",
       "version_major": 2,
       "version_minor": 0
      },
      "text/plain": [
       "MetricVisualizer(layout=Layout(align_self='stretch', height='500px'))"
      ]
     },
     "metadata": {},
     "output_type": "display_data"
    },
    {
     "name": "stdout",
     "output_type": "stream",
     "text": [
      "\n",
      "Fold: 7\n"
     ]
    },
    {
     "data": {
      "application/vnd.jupyter.widget-view+json": {
       "model_id": "535c02995ed54d339565379d33e795f2",
       "version_major": 2,
       "version_minor": 0
      },
      "text/plain": [
       "MetricVisualizer(layout=Layout(align_self='stretch', height='500px'))"
      ]
     },
     "metadata": {},
     "output_type": "display_data"
    },
    {
     "name": "stdout",
     "output_type": "stream",
     "text": [
      "\n",
      "Fold: 8\n"
     ]
    },
    {
     "data": {
      "application/vnd.jupyter.widget-view+json": {
       "model_id": "d6c43a9664e84946ae628028f979887a",
       "version_major": 2,
       "version_minor": 0
      },
      "text/plain": [
       "MetricVisualizer(layout=Layout(align_self='stretch', height='500px'))"
      ]
     },
     "metadata": {},
     "output_type": "display_data"
    },
    {
     "name": "stdout",
     "output_type": "stream",
     "text": [
      "Metric: 19.1914\n",
      "Metric: 0.6117\n",
      "Metric: 0.6068\n",
      "Wall time: 1min 6s\n"
     ]
    }
   ],
   "source": [
    "%%time\n",
    "ml1_original = Model(params)\n",
    "ml1_original.fit(train_[features], train_[target])\n",
    "\n",
    "preds1_original = ml1_original.predict(val_[features])\n",
    "\n",
    "print('Metric:', np.round(((val_[target] - preds1_original['predictions'].values).abs()).mean(), 4))\n",
    "print('Metric:', np.round(((val_[target] - preds1_original['predictions'].values).abs() < 20).mean(), 4))\n",
    "print('Metric:', np.round(((val_[target] - preds1_original['predictions2'].values).abs() < 20).mean(), 4))\n",
    "\n",
    "\n",
    "# Metric: 17.7215\n",
    "# Metric: 0.6578\n",
    "# Metric: 0.6505\n",
    "# Wall time: 29.6 s"
   ]
  },
  {
   "cell_type": "raw",
   "id": "39b16444",
   "metadata": {},
   "source": [
    "Metric: 19.2717\n",
    "Metric: 0.6092\n",
    "Metric: 0.6165\n",
    "Wall time: 55.4 s"
   ]
  },
  {
   "cell_type": "code",
   "execution_count": 27,
   "id": "38bb4904",
   "metadata": {},
   "outputs": [
    {
     "data": {
      "text/html": [
       "<div>\n",
       "<style scoped>\n",
       "    .dataframe tbody tr th:only-of-type {\n",
       "        vertical-align: middle;\n",
       "    }\n",
       "\n",
       "    .dataframe tbody tr th {\n",
       "        vertical-align: top;\n",
       "    }\n",
       "\n",
       "    .dataframe thead th {\n",
       "        text-align: right;\n",
       "    }\n",
       "</style>\n",
       "<table border=\"1\" class=\"dataframe\">\n",
       "  <thead>\n",
       "    <tr style=\"text-align: right;\">\n",
       "      <th></th>\n",
       "      <th>importance</th>\n",
       "    </tr>\n",
       "    <tr>\n",
       "      <th>0</th>\n",
       "      <th></th>\n",
       "    </tr>\n",
       "  </thead>\n",
       "  <tbody>\n",
       "    <tr>\n",
       "      <th>VES/O2</th>\n",
       "      <td>30.867514</td>\n",
       "    </tr>\n",
       "    <tr>\n",
       "      <th>chronom_time_Продувка</th>\n",
       "      <td>23.946289</td>\n",
       "    </tr>\n",
       "    <tr>\n",
       "      <th>plavka_NMZ</th>\n",
       "      <td>20.994005</td>\n",
       "    </tr>\n",
       "    <tr>\n",
       "      <th>gas_T_start_povalka</th>\n",
       "      <td>10.657231</td>\n",
       "    </tr>\n",
       "    <tr>\n",
       "      <th>gas_CO2_sum</th>\n",
       "      <td>7.009435</td>\n",
       "    </tr>\n",
       "    <tr>\n",
       "      <th>chugun_VES</th>\n",
       "      <td>3.846620</td>\n",
       "    </tr>\n",
       "    <tr>\n",
       "      <th>gas_O2_pressure_mean</th>\n",
       "      <td>1.921614</td>\n",
       "    </tr>\n",
       "    <tr>\n",
       "      <th>sip_VES_VDSYP408</th>\n",
       "      <td>0.757291</td>\n",
       "    </tr>\n",
       "  </tbody>\n",
       "</table>\n",
       "</div>"
      ],
      "text/plain": [
       "                       importance\n",
       "0                                \n",
       "VES/O2                  30.867514\n",
       "chronom_time_Продувка   23.946289\n",
       "plavka_NMZ              20.994005\n",
       "gas_T_start_povalka     10.657231\n",
       "gas_CO2_sum              7.009435\n",
       "chugun_VES               3.846620\n",
       "gas_O2_pressure_mean     1.921614\n",
       "sip_VES_VDSYP408         0.757291"
      ]
     },
     "execution_count": 27,
     "metadata": {},
     "output_type": "execute_result"
    }
   ],
   "source": [
    "ml1_original.importance[0]"
   ]
  },
  {
   "cell_type": "code",
   "execution_count": 28,
   "id": "fdb815df",
   "metadata": {
    "scrolled": true
   },
   "outputs": [
    {
     "name": "stdout",
     "output_type": "stream",
     "text": [
      "\n",
      "Fold: 1\n"
     ]
    },
    {
     "data": {
      "application/vnd.jupyter.widget-view+json": {
       "model_id": "05b3b08fe98b4513a7d5fe1e8e445567",
       "version_major": 2,
       "version_minor": 0
      },
      "text/plain": [
       "MetricVisualizer(layout=Layout(align_self='stretch', height='500px'))"
      ]
     },
     "metadata": {},
     "output_type": "display_data"
    },
    {
     "name": "stdout",
     "output_type": "stream",
     "text": [
      "\n",
      "Fold: 2\n"
     ]
    },
    {
     "data": {
      "application/vnd.jupyter.widget-view+json": {
       "model_id": "0546a3055d3a482f8b643e7ff575c30e",
       "version_major": 2,
       "version_minor": 0
      },
      "text/plain": [
       "MetricVisualizer(layout=Layout(align_self='stretch', height='500px'))"
      ]
     },
     "metadata": {},
     "output_type": "display_data"
    },
    {
     "name": "stdout",
     "output_type": "stream",
     "text": [
      "\n",
      "Fold: 3\n"
     ]
    },
    {
     "data": {
      "application/vnd.jupyter.widget-view+json": {
       "model_id": "d10017a577114db1b3bc9c3947a87ffd",
       "version_major": 2,
       "version_minor": 0
      },
      "text/plain": [
       "MetricVisualizer(layout=Layout(align_self='stretch', height='500px'))"
      ]
     },
     "metadata": {},
     "output_type": "display_data"
    },
    {
     "name": "stdout",
     "output_type": "stream",
     "text": [
      "\n",
      "Fold: 4\n"
     ]
    },
    {
     "data": {
      "application/vnd.jupyter.widget-view+json": {
       "model_id": "a135e3aa51a7403a813fba9a0ca44a00",
       "version_major": 2,
       "version_minor": 0
      },
      "text/plain": [
       "MetricVisualizer(layout=Layout(align_self='stretch', height='500px'))"
      ]
     },
     "metadata": {},
     "output_type": "display_data"
    },
    {
     "name": "stdout",
     "output_type": "stream",
     "text": [
      "\n",
      "Fold: 5\n"
     ]
    },
    {
     "data": {
      "application/vnd.jupyter.widget-view+json": {
       "model_id": "50fab3886fcc49df8bffe789dc87e314",
       "version_major": 2,
       "version_minor": 0
      },
      "text/plain": [
       "MetricVisualizer(layout=Layout(align_self='stretch', height='500px'))"
      ]
     },
     "metadata": {},
     "output_type": "display_data"
    },
    {
     "name": "stdout",
     "output_type": "stream",
     "text": [
      "\n",
      "Fold: 6\n"
     ]
    },
    {
     "data": {
      "application/vnd.jupyter.widget-view+json": {
       "model_id": "5b78c966636a4cabbb22b30a82f07fd6",
       "version_major": 2,
       "version_minor": 0
      },
      "text/plain": [
       "MetricVisualizer(layout=Layout(align_self='stretch', height='500px'))"
      ]
     },
     "metadata": {},
     "output_type": "display_data"
    },
    {
     "name": "stdout",
     "output_type": "stream",
     "text": [
      "\n",
      "Fold: 7\n"
     ]
    },
    {
     "data": {
      "application/vnd.jupyter.widget-view+json": {
       "model_id": "fcfc08e8a7364b98abaab40a69886eb3",
       "version_major": 2,
       "version_minor": 0
      },
      "text/plain": [
       "MetricVisualizer(layout=Layout(align_self='stretch', height='500px'))"
      ]
     },
     "metadata": {},
     "output_type": "display_data"
    },
    {
     "name": "stdout",
     "output_type": "stream",
     "text": [
      "\n",
      "Fold: 8\n"
     ]
    },
    {
     "data": {
      "application/vnd.jupyter.widget-view+json": {
       "model_id": "4eedd31ef66d45b6a471b05f91807370",
       "version_major": 2,
       "version_minor": 0
      },
      "text/plain": [
       "MetricVisualizer(layout=Layout(align_self='stretch', height='500px'))"
      ]
     },
     "metadata": {},
     "output_type": "display_data"
    },
    {
     "name": "stdout",
     "output_type": "stream",
     "text": [
      "Wall time: 2min 2s\n"
     ]
    }
   ],
   "source": [
    "%%time\n",
    "ml1 = Model(params)\n",
    "ml1.fit(train[features], train[target])\n",
    "\n",
    "T_preds = ml1.predict(test[features])"
   ]
  },
  {
   "cell_type": "code",
   "execution_count": 29,
   "id": "227f9f3d",
   "metadata": {},
   "outputs": [
    {
     "data": {
      "text/plain": [
       "0      1658.519542\n",
       "1      1639.715627\n",
       "2      1640.638367\n",
       "3      1649.669051\n",
       "4      1649.022853\n",
       "          ...     \n",
       "775    1653.914102\n",
       "776    1648.901954\n",
       "777    1641.123206\n",
       "778    1659.408506\n",
       "779    1662.752821\n",
       "Name: predictions, Length: 780, dtype: float64"
      ]
     },
     "execution_count": 29,
     "metadata": {},
     "output_type": "execute_result"
    }
   ],
   "source": [
    "T_preds['predictions']"
   ]
  },
  {
   "cell_type": "markdown",
   "id": "45ad3a38",
   "metadata": {},
   "source": [
    "# Модель 2"
   ]
  },
  {
   "cell_type": "raw",
   "id": "86082095",
   "metadata": {},
   "source": [
    "fast_hist(train['C'])\n",
    "fast_hist((train['C'] * 100).apply(np.log1p))\n",
    "\n",
    "transformer = PowerTransformer()\n",
    "transformer.fit_transform((train['C']).values.reshape(1, -1).T)\n",
    "fast_hist(pd.Series(transformer.fit_transform((train['C']).values.reshape(1, -1).T)[:,0]),\n",
    "          title='PowerTransformer', bins=50)\n",
    "\n",
    "transformer = PowerTransformer(method='box-cox')\n",
    "transformer.fit_transform((train['C']).values.reshape(1, -1).T)\n",
    "fast_hist(pd.Series(transformer.fit_transform((train['C']).values.reshape(1, -1).T)[:,0]),\n",
    "          title='PowerTransformer box-cox ', bins=50)\n",
    "\n",
    "transformer = QuantileTransformer()\n",
    "transformer.fit_transform((train['C']).values.reshape(1, -1).T)\n",
    "fast_hist(pd.Series(transformer.fit_transform((train['C']).values.reshape(1, -1).T)[:,0]),\n",
    "          title='QuantileTransformer', bins=49)"
   ]
  },
  {
   "cell_type": "code",
   "execution_count": 31,
   "id": "10a1d0f2",
   "metadata": {},
   "outputs": [],
   "source": [
    "train = train.sort_values(['plavka_NMZ', 'TST', 'C', 'chronom_time_Продувка',\n",
    "                           'gas_O2_mean',  'plavka_NAPR_ZAD'])"
   ]
  },
  {
   "cell_type": "code",
   "execution_count": 32,
   "id": "c76042fa",
   "metadata": {},
   "outputs": [
    {
     "name": "stdout",
     "output_type": "stream",
     "text": [
      "7\n"
     ]
    }
   ],
   "source": [
    "target = 'C'\n",
    "features = ['plavka_NMZ', 'chugun_VES', 'gas_CO2_sum', 'chronom_time_Продувка',\n",
    "            'sip_VES_VDSYP408', 'gas_T_start_povalka', 'gas_O2_pressure_mean']\n",
    "print(len(features))"
   ]
  },
  {
   "cell_type": "code",
   "execution_count": 33,
   "id": "90178271",
   "metadata": {},
   "outputs": [],
   "source": [
    "cat_features = ['plavka_NMZ']\n",
    "\n",
    "split_params = {'folds': 8}\n",
    "\n",
    "model_params = {'eval_metric': 'RMSE', \n",
    "                'objective': 'RMSE',\n",
    "                'iterations':2500,\n",
    "                'learning_rate':0.05,               \n",
    "                'depth': 3, \n",
    "                'l2_leaf_reg': 50,\n",
    "                'one_hot_max_size': 30,\n",
    "                'task_type': 'CPU',\n",
    "                'has_time': False,\n",
    "                'random_state': 20210926                \n",
    "               }\n",
    "\n",
    "train_params = {'early_stopping_rounds': 150, \n",
    "                'silent': True,\n",
    "                'plot': True               \n",
    "               }\n",
    "\n",
    "gpu_params = {'devices': '0',\n",
    "              'data_partition': 'DocParallel',\n",
    "              'max_ctr_complexity': 4,\n",
    "              'bootstrap_type': 'MVS',\n",
    "              'border_count': 128, \n",
    "              'fold_permutation_block': 0,\n",
    "              'simple_ctr':'FeatureFreq',\n",
    "              'combinations_ctr': 'FeatureFreq',      \n",
    "              'ctr_target_border_count': 1,\n",
    "              'random_strength': 0.95,\n",
    "              'gpu_ram_part': 0.95\n",
    "             }\n",
    "\n",
    "\n",
    "cpu_params = {'thread_count': 14}\n",
    "\n",
    "features_params = {'cat_features': cat_features}\n",
    "\n",
    "\n",
    "observations_params = {\"weight\": 'not_implemented'}\n",
    "\n",
    "params = {'split_params': split_params, \n",
    "          'model_params': model_params, \n",
    "          'train_params': train_params, \n",
    "          'gpu_params': gpu_params, \n",
    "          'cpu_params': cpu_params, \n",
    "          'features_params': features_params, \n",
    "          'observations_params': observations_params\n",
    "         }"
   ]
  },
  {
   "cell_type": "raw",
   "id": "33371e4a",
   "metadata": {},
   "source": [
    "%%time\n",
    "ml2_original = Model(params)\n",
    "ml2_original.fit(train_[features], train_[target])\n",
    "\n",
    "preds2_original = ml2_original.predict(val_[features])\n",
    "print('Metric:', np.round(((val_[target] - preds2_original['predictions'].values).abs() < 0.02).mean(), 4))\n",
    "print('Metric:', np.round(((val_[target] - preds2_original['predictions2'].values).abs() < 0.02).mean(), 4))\n",
    "# Metric: 0.6408\n",
    "# Metric: 0.6626\n",
    "# Wall time: 37.3 s"
   ]
  },
  {
   "cell_type": "raw",
   "id": "c86202ec",
   "metadata": {},
   "source": [
    "%%time\n",
    "ml2_log = LogModel(params)\n",
    "ml2_log.fit(train_[features], train_[target])\n",
    "\n",
    "preds2_log = ml2_log.predict(val_[features])\n",
    "print('Metric:', np.round(((val_[target] - preds2_log['predictions'].values).abs() < 0.02).mean(), 4))\n",
    "print('Metric:', np.round(((val_[target] - preds2_log['predictions2'].values).abs() < 0.02).mean(), 4))\n",
    "print('Metric:', np.round(((val_[target] - preds2_log['predictions3'].values).abs() < 0.02).mean(), 4))\n",
    "print('Metric:', np.round(((val_[target] - preds2_log['predictions4'].values).abs() < 0.02).mean(), 4))\n",
    "print('Metric:', np.round(((val_[target] - preds2_log['predictions_total'].values).abs() < 0.02).mean(), 4))\n",
    "\n",
    "# Metric: 0.699\n",
    "# Metric: 0.6942\n",
    "# Metric: 0.699\n",
    "# Metric: 0.6966\n",
    "# Metric: 0.6942\n",
    "# Wall time: 46.7 s"
   ]
  },
  {
   "cell_type": "raw",
   "id": "4b7aaf8c",
   "metadata": {},
   "source": [
    "%%time\n",
    "ml2_power = PowerTransformModel(params)\n",
    "ml2_power.fit(train_[features], train_[target])\n",
    "\n",
    "preds2_power = ml2_power.predict(val_[features])\n",
    "print('Metric:', np.round(((val_[target] - preds2_power['predictions'].values).abs() < 0.02).mean(), 4))\n",
    "print('Metric:', np.round(((val_[target] - preds2_power['predictions2'].values).abs() < 0.02).mean(), 4))\n",
    "\n",
    "# Metric: 0.7379\n",
    "# Metric: 0.733\n",
    "# Wall time: 30.8 s"
   ]
  },
  {
   "cell_type": "code",
   "execution_count": 34,
   "id": "2a393515",
   "metadata": {
    "scrolled": true
   },
   "outputs": [
    {
     "name": "stdout",
     "output_type": "stream",
     "text": [
      "\n",
      "Fold: 1\n"
     ]
    },
    {
     "data": {
      "application/vnd.jupyter.widget-view+json": {
       "model_id": "ac3e224ea16441aea1705ddd1257b525",
       "version_major": 2,
       "version_minor": 0
      },
      "text/plain": [
       "MetricVisualizer(layout=Layout(align_self='stretch', height='500px'))"
      ]
     },
     "metadata": {},
     "output_type": "display_data"
    },
    {
     "name": "stdout",
     "output_type": "stream",
     "text": [
      "\n",
      "Fold: 2\n"
     ]
    },
    {
     "data": {
      "application/vnd.jupyter.widget-view+json": {
       "model_id": "ee6c7bf441554c6fa78aef70f1e75640",
       "version_major": 2,
       "version_minor": 0
      },
      "text/plain": [
       "MetricVisualizer(layout=Layout(align_self='stretch', height='500px'))"
      ]
     },
     "metadata": {},
     "output_type": "display_data"
    },
    {
     "name": "stdout",
     "output_type": "stream",
     "text": [
      "\n",
      "Fold: 3\n"
     ]
    },
    {
     "data": {
      "application/vnd.jupyter.widget-view+json": {
       "model_id": "513702dbdbe44bfc83f672e2576e2ae7",
       "version_major": 2,
       "version_minor": 0
      },
      "text/plain": [
       "MetricVisualizer(layout=Layout(align_self='stretch', height='500px'))"
      ]
     },
     "metadata": {},
     "output_type": "display_data"
    },
    {
     "name": "stdout",
     "output_type": "stream",
     "text": [
      "\n",
      "Fold: 4\n"
     ]
    },
    {
     "data": {
      "application/vnd.jupyter.widget-view+json": {
       "model_id": "2f32463652d14781b4bcf3dc8e51b191",
       "version_major": 2,
       "version_minor": 0
      },
      "text/plain": [
       "MetricVisualizer(layout=Layout(align_self='stretch', height='500px'))"
      ]
     },
     "metadata": {},
     "output_type": "display_data"
    },
    {
     "name": "stdout",
     "output_type": "stream",
     "text": [
      "\n",
      "Fold: 5\n"
     ]
    },
    {
     "data": {
      "application/vnd.jupyter.widget-view+json": {
       "model_id": "5cfeb21520494fd387b265b563e0db6d",
       "version_major": 2,
       "version_minor": 0
      },
      "text/plain": [
       "MetricVisualizer(layout=Layout(align_self='stretch', height='500px'))"
      ]
     },
     "metadata": {},
     "output_type": "display_data"
    },
    {
     "name": "stdout",
     "output_type": "stream",
     "text": [
      "\n",
      "Fold: 6\n"
     ]
    },
    {
     "data": {
      "application/vnd.jupyter.widget-view+json": {
       "model_id": "8f98670cbd4b4ddba1d77ba18a1fcc8d",
       "version_major": 2,
       "version_minor": 0
      },
      "text/plain": [
       "MetricVisualizer(layout=Layout(align_self='stretch', height='500px'))"
      ]
     },
     "metadata": {},
     "output_type": "display_data"
    },
    {
     "name": "stdout",
     "output_type": "stream",
     "text": [
      "\n",
      "Fold: 7\n"
     ]
    },
    {
     "data": {
      "application/vnd.jupyter.widget-view+json": {
       "model_id": "f8c291774e884adebf8b22131d1d80d3",
       "version_major": 2,
       "version_minor": 0
      },
      "text/plain": [
       "MetricVisualizer(layout=Layout(align_self='stretch', height='500px'))"
      ]
     },
     "metadata": {},
     "output_type": "display_data"
    },
    {
     "name": "stdout",
     "output_type": "stream",
     "text": [
      "\n",
      "Fold: 8\n"
     ]
    },
    {
     "data": {
      "application/vnd.jupyter.widget-view+json": {
       "model_id": "e8f463fd659d44d389f584ee040af401",
       "version_major": 2,
       "version_minor": 0
      },
      "text/plain": [
       "MetricVisualizer(layout=Layout(align_self='stretch', height='500px'))"
      ]
     },
     "metadata": {},
     "output_type": "display_data"
    },
    {
     "name": "stdout",
     "output_type": "stream",
     "text": [
      "Metric: 0.7476\n",
      "Metric: 0.7451\n",
      "Wall time: 1min 39s\n"
     ]
    }
   ],
   "source": [
    "%%time\n",
    "ml2_quantile = QuantileTransformModel(params)\n",
    "ml2_quantile.fit(train_[features], train_[target])\n",
    "\n",
    "preds2_quantile = ml2_quantile.predict(val_[features])\n",
    "print('Metric:', np.round(((val_[target] - preds2_quantile['predictions'].values).abs() < 0.02).mean(), 4))\n",
    "print('Metric:', np.round(((val_[target] - preds2_quantile['predictions2'].values).abs() < 0.02).mean(), 4))\n",
    "\n",
    "# Metric: 0.7354\n",
    "# Metric: 0.7354\n",
    "# Wall time: 22.7 s"
   ]
  },
  {
   "cell_type": "raw",
   "id": "74355fec",
   "metadata": {},
   "source": [
    "Metric: 0.7524\n",
    "Metric: 0.7451\n",
    "Wall time: 1min 32s"
   ]
  },
  {
   "cell_type": "code",
   "execution_count": 35,
   "id": "aab2f9d5",
   "metadata": {},
   "outputs": [
    {
     "data": {
      "text/html": [
       "<div>\n",
       "<style scoped>\n",
       "    .dataframe tbody tr th:only-of-type {\n",
       "        vertical-align: middle;\n",
       "    }\n",
       "\n",
       "    .dataframe tbody tr th {\n",
       "        vertical-align: top;\n",
       "    }\n",
       "\n",
       "    .dataframe thead th {\n",
       "        text-align: right;\n",
       "    }\n",
       "</style>\n",
       "<table border=\"1\" class=\"dataframe\">\n",
       "  <thead>\n",
       "    <tr style=\"text-align: right;\">\n",
       "      <th></th>\n",
       "      <th>importance</th>\n",
       "    </tr>\n",
       "    <tr>\n",
       "      <th>0</th>\n",
       "      <th></th>\n",
       "    </tr>\n",
       "  </thead>\n",
       "  <tbody>\n",
       "    <tr>\n",
       "      <th>gas_T_start_povalka</th>\n",
       "      <td>52.511669</td>\n",
       "    </tr>\n",
       "    <tr>\n",
       "      <th>sip_VES_VDSYP408</th>\n",
       "      <td>13.470672</td>\n",
       "    </tr>\n",
       "    <tr>\n",
       "      <th>gas_CO2_sum</th>\n",
       "      <td>12.901034</td>\n",
       "    </tr>\n",
       "    <tr>\n",
       "      <th>chronom_time_Продувка</th>\n",
       "      <td>7.856676</td>\n",
       "    </tr>\n",
       "    <tr>\n",
       "      <th>plavka_NMZ</th>\n",
       "      <td>5.825459</td>\n",
       "    </tr>\n",
       "    <tr>\n",
       "      <th>chugun_VES</th>\n",
       "      <td>4.036281</td>\n",
       "    </tr>\n",
       "    <tr>\n",
       "      <th>gas_O2_pressure_mean</th>\n",
       "      <td>3.398208</td>\n",
       "    </tr>\n",
       "  </tbody>\n",
       "</table>\n",
       "</div>"
      ],
      "text/plain": [
       "                       importance\n",
       "0                                \n",
       "gas_T_start_povalka     52.511669\n",
       "sip_VES_VDSYP408        13.470672\n",
       "gas_CO2_sum             12.901034\n",
       "chronom_time_Продувка    7.856676\n",
       "plavka_NMZ               5.825459\n",
       "chugun_VES               4.036281\n",
       "gas_O2_pressure_mean     3.398208"
      ]
     },
     "execution_count": 35,
     "metadata": {},
     "output_type": "execute_result"
    }
   ],
   "source": [
    "ml2_quantile.importance[0]"
   ]
  },
  {
   "cell_type": "markdown",
   "id": "d3cc18ea",
   "metadata": {},
   "source": [
    "# Submit"
   ]
  },
  {
   "cell_type": "code",
   "execution_count": 36,
   "id": "9521d502",
   "metadata": {
    "scrolled": false
   },
   "outputs": [
    {
     "name": "stdout",
     "output_type": "stream",
     "text": [
      "\n",
      "Fold: 1\n"
     ]
    },
    {
     "data": {
      "application/vnd.jupyter.widget-view+json": {
       "model_id": "4367ef010c1c41d8a2ecb60fdfff81f3",
       "version_major": 2,
       "version_minor": 0
      },
      "text/plain": [
       "MetricVisualizer(layout=Layout(align_self='stretch', height='500px'))"
      ]
     },
     "metadata": {},
     "output_type": "display_data"
    },
    {
     "name": "stdout",
     "output_type": "stream",
     "text": [
      "\n",
      "Fold: 2\n"
     ]
    },
    {
     "data": {
      "application/vnd.jupyter.widget-view+json": {
       "model_id": "25a44234eb2946f7a7af3a4e9e3694d9",
       "version_major": 2,
       "version_minor": 0
      },
      "text/plain": [
       "MetricVisualizer(layout=Layout(align_self='stretch', height='500px'))"
      ]
     },
     "metadata": {},
     "output_type": "display_data"
    },
    {
     "name": "stdout",
     "output_type": "stream",
     "text": [
      "\n",
      "Fold: 3\n"
     ]
    },
    {
     "data": {
      "application/vnd.jupyter.widget-view+json": {
       "model_id": "234c778780794895b98500916444fbcf",
       "version_major": 2,
       "version_minor": 0
      },
      "text/plain": [
       "MetricVisualizer(layout=Layout(align_self='stretch', height='500px'))"
      ]
     },
     "metadata": {},
     "output_type": "display_data"
    },
    {
     "name": "stdout",
     "output_type": "stream",
     "text": [
      "\n",
      "Fold: 4\n"
     ]
    },
    {
     "data": {
      "application/vnd.jupyter.widget-view+json": {
       "model_id": "b28cbd6d065a4d1aa5fa92f7dd971aa6",
       "version_major": 2,
       "version_minor": 0
      },
      "text/plain": [
       "MetricVisualizer(layout=Layout(align_self='stretch', height='500px'))"
      ]
     },
     "metadata": {},
     "output_type": "display_data"
    },
    {
     "name": "stdout",
     "output_type": "stream",
     "text": [
      "\n",
      "Fold: 5\n"
     ]
    },
    {
     "data": {
      "application/vnd.jupyter.widget-view+json": {
       "model_id": "e83039330377409695427ff85b3e3866",
       "version_major": 2,
       "version_minor": 0
      },
      "text/plain": [
       "MetricVisualizer(layout=Layout(align_self='stretch', height='500px'))"
      ]
     },
     "metadata": {},
     "output_type": "display_data"
    },
    {
     "name": "stdout",
     "output_type": "stream",
     "text": [
      "\n",
      "Fold: 6\n"
     ]
    },
    {
     "data": {
      "application/vnd.jupyter.widget-view+json": {
       "model_id": "341f9b10938c4f4ab77cf3f44f11998f",
       "version_major": 2,
       "version_minor": 0
      },
      "text/plain": [
       "MetricVisualizer(layout=Layout(align_self='stretch', height='500px'))"
      ]
     },
     "metadata": {},
     "output_type": "display_data"
    },
    {
     "name": "stdout",
     "output_type": "stream",
     "text": [
      "\n",
      "Fold: 7\n"
     ]
    },
    {
     "data": {
      "application/vnd.jupyter.widget-view+json": {
       "model_id": "04bd67661cdf4d07b696f73e44b7ef3f",
       "version_major": 2,
       "version_minor": 0
      },
      "text/plain": [
       "MetricVisualizer(layout=Layout(align_self='stretch', height='500px'))"
      ]
     },
     "metadata": {},
     "output_type": "display_data"
    },
    {
     "name": "stdout",
     "output_type": "stream",
     "text": [
      "\n",
      "Fold: 8\n"
     ]
    },
    {
     "data": {
      "application/vnd.jupyter.widget-view+json": {
       "model_id": "8330d4f817104172ab65f189d48d2fad",
       "version_major": 2,
       "version_minor": 0
      },
      "text/plain": [
       "MetricVisualizer(layout=Layout(align_self='stretch', height='500px'))"
      ]
     },
     "metadata": {},
     "output_type": "display_data"
    },
    {
     "name": "stdout",
     "output_type": "stream",
     "text": [
      "Wall time: 2min 11s\n"
     ]
    }
   ],
   "source": [
    "%%time\n",
    "ml = QuantileTransformModel(params)\n",
    "ml.fit(train[features], train[target])\n",
    "\n",
    "C_preds = ml.predict(test[features])"
   ]
  },
  {
   "cell_type": "code",
   "execution_count": 37,
   "id": "161ac0d5",
   "metadata": {},
   "outputs": [
    {
     "data": {
      "text/html": [
       "<div>\n",
       "<style scoped>\n",
       "    .dataframe tbody tr th:only-of-type {\n",
       "        vertical-align: middle;\n",
       "    }\n",
       "\n",
       "    .dataframe tbody tr th {\n",
       "        vertical-align: top;\n",
       "    }\n",
       "\n",
       "    .dataframe thead th {\n",
       "        text-align: right;\n",
       "    }\n",
       "</style>\n",
       "<table border=\"1\" class=\"dataframe\">\n",
       "  <thead>\n",
       "    <tr style=\"text-align: right;\">\n",
       "      <th></th>\n",
       "      <th>NPLV</th>\n",
       "      <th>TST</th>\n",
       "      <th>C</th>\n",
       "    </tr>\n",
       "  </thead>\n",
       "  <tbody>\n",
       "    <tr>\n",
       "      <th>0</th>\n",
       "      <td>512324</td>\n",
       "      <td>1658.519542</td>\n",
       "      <td>0.045500</td>\n",
       "    </tr>\n",
       "    <tr>\n",
       "      <th>1</th>\n",
       "      <td>512327</td>\n",
       "      <td>1639.715627</td>\n",
       "      <td>0.084000</td>\n",
       "    </tr>\n",
       "    <tr>\n",
       "      <th>2</th>\n",
       "      <td>512328</td>\n",
       "      <td>1640.638367</td>\n",
       "      <td>0.087500</td>\n",
       "    </tr>\n",
       "    <tr>\n",
       "      <th>3</th>\n",
       "      <td>512331</td>\n",
       "      <td>1649.669051</td>\n",
       "      <td>0.065531</td>\n",
       "    </tr>\n",
       "    <tr>\n",
       "      <th>4</th>\n",
       "      <td>512333</td>\n",
       "      <td>1649.022853</td>\n",
       "      <td>0.084000</td>\n",
       "    </tr>\n",
       "    <tr>\n",
       "      <th>...</th>\n",
       "      <td>...</td>\n",
       "      <td>...</td>\n",
       "      <td>...</td>\n",
       "    </tr>\n",
       "    <tr>\n",
       "      <th>775</th>\n",
       "      <td>513369</td>\n",
       "      <td>1653.914102</td>\n",
       "      <td>0.062000</td>\n",
       "    </tr>\n",
       "    <tr>\n",
       "      <th>776</th>\n",
       "      <td>513370</td>\n",
       "      <td>1648.901954</td>\n",
       "      <td>0.081290</td>\n",
       "    </tr>\n",
       "    <tr>\n",
       "      <th>777</th>\n",
       "      <td>513371</td>\n",
       "      <td>1641.123206</td>\n",
       "      <td>0.060477</td>\n",
       "    </tr>\n",
       "    <tr>\n",
       "      <th>778</th>\n",
       "      <td>513372</td>\n",
       "      <td>1659.408506</td>\n",
       "      <td>0.068000</td>\n",
       "    </tr>\n",
       "    <tr>\n",
       "      <th>779</th>\n",
       "      <td>513374</td>\n",
       "      <td>1662.752821</td>\n",
       "      <td>0.064000</td>\n",
       "    </tr>\n",
       "  </tbody>\n",
       "</table>\n",
       "<p>780 rows × 3 columns</p>\n",
       "</div>"
      ],
      "text/plain": [
       "       NPLV          TST         C\n",
       "0    512324  1658.519542  0.045500\n",
       "1    512327  1639.715627  0.084000\n",
       "2    512328  1640.638367  0.087500\n",
       "3    512331  1649.669051  0.065531\n",
       "4    512333  1649.022853  0.084000\n",
       "..      ...          ...       ...\n",
       "775  513369  1653.914102  0.062000\n",
       "776  513370  1648.901954  0.081290\n",
       "777  513371  1641.123206  0.060477\n",
       "778  513372  1659.408506  0.068000\n",
       "779  513374  1662.752821  0.064000\n",
       "\n",
       "[780 rows x 3 columns]"
      ]
     },
     "execution_count": 37,
     "metadata": {},
     "output_type": "execute_result"
    }
   ],
   "source": [
    "test['TST'] = T_preds['predictions']\n",
    "test['C'] = C_preds['predictions']\n",
    "\n",
    "test[test.columns[:3]].to_csv('data/submissions/quantile_model_6.csv')\n",
    "test[test.columns[:3]]"
   ]
  },
  {
   "cell_type": "code",
   "execution_count": null,
   "id": "afc41f50",
   "metadata": {},
   "outputs": [],
   "source": []
  },
  {
   "cell_type": "code",
   "execution_count": null,
   "id": "b05aba49",
   "metadata": {},
   "outputs": [],
   "source": []
  }
 ],
 "metadata": {
  "kernelspec": {
   "display_name": "RaifHack",
   "language": "python",
   "name": "raifhack"
  },
  "language_info": {
   "codemirror_mode": {
    "name": "ipython",
    "version": 3
   },
   "file_extension": ".py",
   "mimetype": "text/x-python",
   "name": "python",
   "nbconvert_exporter": "python",
   "pygments_lexer": "ipython3",
   "version": "3.9.5"
  },
  "toc": {
   "base_numbering": 1,
   "nav_menu": {},
   "number_sections": false,
   "sideBar": true,
   "skip_h1_title": false,
   "title_cell": "Содержание",
   "title_sidebar": "Contents",
   "toc_cell": false,
   "toc_position": {
    "height": "calc(100% - 180px)",
    "left": "10px",
    "top": "150px",
    "width": "355.5px"
   },
   "toc_section_display": true,
   "toc_window_display": true
  }
 },
 "nbformat": 4,
 "nbformat_minor": 5
}
